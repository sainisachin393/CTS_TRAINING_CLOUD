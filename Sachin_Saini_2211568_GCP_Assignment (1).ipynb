{
 "cells": [
  {
   "cell_type": "code",
   "execution_count": null,
   "id": "4cd55244-6c8d-4b71-91c3-121f8f896d7d",
   "metadata": {},
   "outputs": [],
   "source": [
    "# Installing xgboost for our notebook instance\n",
    "!pip3 install xgboost==0.82"
   ]
  },
  {
   "cell_type": "code",
   "execution_count": null,
   "id": "112381d2-ecf0-40ee-97ed-f5048d7515ab",
   "metadata": {},
   "outputs": [],
   "source": [
    "#importing necessary libraries\n",
    "import pandas as pd\n",
    "import xgboost as xgb\n",
    "import numpy as np\n",
    "\n",
    "from sklearn.model_selection import train_test_split\n",
    "from sklearn.utils import shuffle\n",
    "from google.cloud import bigquery"
   ]
  },
  {
   "cell_type": "code",
   "execution_count": null,
   "id": "de4f0c24-ccdb-4506-8cc3-17b5a06c578d",
   "metadata": {},
   "outputs": [],
   "source": [
    "# BigQuery has made many datasets publicly available for your exploration. For this lab, we"
   ]
  },
  {
   "cell_type": "code",
   "execution_count": null,
   "id": "7592d278-adf7-4ecd-aa94-794d45812fb8",
   "metadata": {},
   "outputs": [],
   "source": [
    "# We have to specify the top 100 \n",
    "query=\"\"\"\n",
    "SELECT\n",
    "  weight_pounds,\n",
    "  is_male,\n",
    "  mother_age,\n",
    "  plurality,\n",
    "  gestation_weeks\n",
    "FROM\n",
    "  publicdata.samples.natality\n",
    "WHERE year > 2000\n",
    "LIMIT 10000\n",
    "\"\"\""
   ]
  },
  {
   "cell_type": "code",
   "execution_count": null,
   "id": "6b78b519-3e6d-4e27-977b-cc849d32f58d",
   "metadata": {},
   "outputs": [],
   "source": [
    "df = bigquery.Client().query(query).to_dataframe()\n",
    "df.head()"
   ]
  },
  {
   "cell_type": "code",
   "execution_count": null,
   "id": "ad03f6a5-513d-4947-a7d9-e93d0a180757",
   "metadata": {},
   "outputs": [],
   "source": [
    "df['is_male'].value_counts()"
   ]
  },
  {
   "cell_type": "code",
   "execution_count": null,
   "id": "d5155fd8-2390-4bee-bf4a-8cffac459bea",
   "metadata": {},
   "outputs": [],
   "source": [
    "df.isnull().sum() #checking null values"
   ]
  },
  {
   "cell_type": "code",
   "execution_count": null,
   "id": "13eabcea-5fb3-45ae-bbd5-3625f2e36915",
   "metadata": {},
   "outputs": [],
   "source": [
    "df = df.dropna(axis=0) #dropping all null values"
   ]
  },
  {
   "cell_type": "code",
   "execution_count": null,
   "id": "089f3f68-d94d-4efe-8443-28a72c8ebaa4",
   "metadata": {},
   "outputs": [],
   "source": [
    "df.isnull().sum() #checking the null values after dropping the null values"
   ]
  },
  {
   "cell_type": "code",
   "execution_count": null,
   "id": "48708efc-8d3b-4782-862a-2a53a5709c07",
   "metadata": {},
   "outputs": [],
   "source": [
    "df.head() #top most rows"
   ]
  },
  {
   "cell_type": "code",
   "execution_count": null,
   "id": "6db21671-f9de-475a-a7ab-ee3557981edb",
   "metadata": {},
   "outputs": [],
   "source": [
    "# Shuffle the data\n",
    "df = shuffle(df,random_state = 42)"
   ]
  },
  {
   "cell_type": "code",
   "execution_count": null,
   "id": "369cac51-f482-4e33-9fca-3b03b4d826f9",
   "metadata": {},
   "outputs": [],
   "source": [
    "df.head()"
   ]
  },
  {
   "cell_type": "code",
   "execution_count": null,
   "id": "ab1950c5-5583-4966-ae3d-69942d2e3651",
   "metadata": {},
   "outputs": [],
   "source": [
    "#--------------------------"
   ]
  },
  {
   "cell_type": "code",
   "execution_count": null,
   "id": "03860bb6-6cc9-4ac4-bb22-f2e1258dbc89",
   "metadata": {},
   "outputs": [],
   "source": [
    "# query1=\"\"\"\n",
    "# SELECT\n",
    "#   count(plurality),\n",
    "# FROM\n",
    "#   publicdata.samples.natality\n",
    "#   WHERE year >2000\n",
    "# \"\"\""
   ]
  },
  {
   "cell_type": "code",
   "execution_count": null,
   "id": "26fda989-a8eb-4a3f-a86a-143548bd62ca",
   "metadata": {},
   "outputs": [],
   "source": [
    "# df = bigquery.Client().query(query1).to_dataframe()\n",
    "# df.head()"
   ]
  },
  {
   "cell_type": "code",
   "execution_count": null,
   "id": "b190ae4d-8182-4342-ad46-d160ea68bc6b",
   "metadata": {},
   "outputs": [],
   "source": [
    "# query2=\"\"\"\n",
    "# SELECT\n",
    "#   count(plurality),\n",
    "# FROM\n",
    "#   publicdata.samples.natality\n",
    "#   WHERE year = 2000\n",
    "# \"\"\""
   ]
  },
  {
   "cell_type": "code",
   "execution_count": null,
   "id": "74fc5cef-6a41-4974-98c4-c96bdab4ae18",
   "metadata": {},
   "outputs": [],
   "source": [
    "# df = bigquery.Client().query(query2).to_dataframe()"
   ]
  },
  {
   "cell_type": "code",
   "execution_count": null,
   "id": "6ce59f88-50fc-4004-a4ea-e55ceb144d8e",
   "metadata": {},
   "outputs": [],
   "source": [
    "# df"
   ]
  },
  {
   "cell_type": "code",
   "execution_count": null,
   "id": "dfd45e36-389b-4efc-9e86-2158268cb408",
   "metadata": {},
   "outputs": [],
   "source": [
    "#----------------------"
   ]
  },
  {
   "cell_type": "code",
   "execution_count": null,
   "id": "141e2323-c889-48bc-94a6-5b97453fb51e",
   "metadata": {},
   "outputs": [],
   "source": [
    "labels = df['weight_pounds'] #defining the labels\n",
    "data = df.drop(columns = ['weight_pounds'],axis = 1) #dropping the column"
   ]
  },
  {
   "cell_type": "code",
   "execution_count": null,
   "id": "a98aa7d1-e420-474c-a51a-1b74b34c391c",
   "metadata": {},
   "outputs": [],
   "source": [
    "data.head()"
   ]
  },
  {
   "cell_type": "code",
   "execution_count": null,
   "id": "c19c3678-6e54-4cba-b25f-a50602e4317f",
   "metadata": {},
   "outputs": [],
   "source": [
    "#changing the datatype\n",
    "data['is_male'] = data['is_male'].astype(float)\n",
    "data['mother_age'] = data['mother_age'].astype(float)\n",
    "data['plurality'] = data['plurality'].astype(float)\n",
    "data['gestation_weeks'] = data['gestation_weeks'].astype(float)"
   ]
  },
  {
   "cell_type": "code",
   "execution_count": null,
   "id": "f183c370-acf9-4b7d-abff-be91c84516e6",
   "metadata": {},
   "outputs": [],
   "source": [
    "data.head()"
   ]
  },
  {
   "cell_type": "code",
   "execution_count": null,
   "id": "7cdca602-f8ee-4568-8ff4-e3a7cfeb2c8c",
   "metadata": {},
   "outputs": [],
   "source": [
    "data.isnull().sum()"
   ]
  },
  {
   "cell_type": "code",
   "execution_count": null,
   "id": "a08a9c60-adb2-44ea-b3ff-6ee9eba77429",
   "metadata": {},
   "outputs": [],
   "source": [
    "#splitting the dataset\n",
    "x,y =data,labels\n",
    "x_train,x_test,y_train,y_test = train_test_split(x,y)"
   ]
  },
  {
   "cell_type": "code",
   "execution_count": null,
   "id": "abf187e9-a3d5-42ab-a9ab-040448a819f7",
   "metadata": {},
   "outputs": [],
   "source": [
    "model = xgb.XGBRegressor(objective = 'reg:linear') #Making the model"
   ]
  },
  {
   "cell_type": "code",
   "execution_count": null,
   "id": "13efc763-4964-4212-9291-78111b6d6cfb",
   "metadata": {},
   "outputs": [],
   "source": [
    "model.fit(x_train,y_train) #fitting the model"
   ]
  },
  {
   "cell_type": "code",
   "execution_count": null,
   "id": "93d06e04-9121-47a9-8ac1-dda3f757816f",
   "metadata": {},
   "outputs": [],
   "source": [
    "y_pred = model.predict(x_test) #predicting the value for test test"
   ]
  },
  {
   "cell_type": "code",
   "execution_count": null,
   "id": "9cefaf94-92c0-435e-87bd-caf3b608c05e",
   "metadata": {},
   "outputs": [],
   "source": [
    "#finding the loss\n",
    "from sklearn.metrics import r2_score\n",
    "r2_score(y_test,pred)"
   ]
  },
  {
   "cell_type": "code",
   "execution_count": null,
   "id": "703fec70-7ac8-4fc0-8c5c-82476d534a10",
   "metadata": {},
   "outputs": [],
   "source": [
    "for i in range(20):\n",
    "    print('Predicted weight: ', y_pred[i])\n",
    "    print('Actual weight: ', y_test.iloc[i])\n",
    "    print()"
   ]
  },
  {
   "cell_type": "code",
   "execution_count": null,
   "id": "260570b0-f6f7-4105-984c-c6a121acf1ae",
   "metadata": {},
   "outputs": [],
   "source": [
    "model.save_model('sachin.bst')  #saving the model"
   ]
  },
  {
   "cell_type": "code",
   "execution_count": null,
   "id": "7c02f66d-b4ed-44b0-a84f-ba163f3caf5d",
   "metadata": {},
   "outputs": [],
   "source": [
    "# # Deployment\n",
    "# Step 1: Create a Cloud Storage bucket for our model."
   ]
  },
  {
   "cell_type": "code",
   "execution_count": null,
   "id": "64c16794-b962-4441-afd2-5a77dba0696a",
   "metadata": {},
   "outputs": [],
   "source": [
    "# Update these to your own GCP project, model, and version names\n",
    "GCP_PROJECT = 'My first Project'\n",
    "MODEL_BUCKET = 'gs://sachin-buckets'\n",
    "VERSION_NAME = 'v1'\n",
    "MODEL_NAME = 'sachin-model'"
   ]
  },
  {
   "cell_type": "code",
   "execution_count": null,
   "id": "a5157645-73b0-48ac-a86d-ba04e2cc486c",
   "metadata": {},
   "outputs": [],
   "source": [
    "!gsutil mb $MODEL_BUCKET"
   ]
  },
  {
   "cell_type": "code",
   "execution_count": null,
   "id": "34cb3d3e-68ec-46d2-b2d9-af78512a039c",
   "metadata": {},
   "outputs": [],
   "source": [
    "!gsutil cp ./sachin_model.bst $MODEL_BUCKET"
   ]
  },
  {
   "cell_type": "code",
   "execution_count": null,
   "id": "7653b129-d536-4568-8ad2-adafae75d6cb",
   "metadata": {},
   "outputs": [],
   "source": []
  }
 ],
 "metadata": {
  "kernelspec": {
   "display_name": "Python 3 (ipykernel)",
   "language": "python",
   "name": "python3"
  },
  "language_info": {
   "codemirror_mode": {
    "name": "ipython",
    "version": 3
   },
   "file_extension": ".py",
   "mimetype": "text/x-python",
   "name": "python",
   "nbconvert_exporter": "python",
   "pygments_lexer": "ipython3",
   "version": "3.9.12"
  }
 },
 "nbformat": 4,
 "nbformat_minor": 5
}
