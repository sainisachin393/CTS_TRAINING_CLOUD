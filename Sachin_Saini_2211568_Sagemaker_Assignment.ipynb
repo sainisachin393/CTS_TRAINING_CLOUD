{
 "cells": [
  {
   "cell_type": "code",
   "execution_count": 2,
   "id": "2ee76ec1-4c5e-4ff8-8902-dc247cb4dc8a",
   "metadata": {
    "tags": []
   },
   "outputs": [
    {
     "name": "stdout",
     "output_type": "stream",
     "text": [
      "Keyring is skipped due to an exception: 'keyring.backends'\n",
      "Package                              Version\n",
      "------------------------------------ -----------------\n",
      "aiobotocore                          2.4.0\n",
      "aiohttp                              3.8.3\n",
      "aioitertools                         0.11.0\n",
      "aiosignal                            1.3.1\n",
      "alabaster                            0.7.12\n",
      "anaconda-client                      1.7.2\n",
      "anaconda-project                     0.8.3\n",
      "ansi2html                            1.8.0\n",
      "anyio                                3.6.2\n",
      "argh                                 0.26.2\n",
      "argon2-cffi                          21.3.0\n",
      "argon2-cffi-bindings                 21.2.0\n",
      "asn1crypto                           1.3.0\n",
      "astroid                              2.12.12\n",
      "astropy                              4.0\n",
      "async-timeout                        4.0.2\n",
      "asynctest                            0.13.0\n",
      "atomicwrites                         1.3.0\n",
      "attrs                                22.1.0\n",
      "autopep8                             1.4.4\n",
      "autovizwidget                        0.20.0\n",
      "awscli                               1.27.8\n",
      "Babel                                2.11.0\n",
      "backcall                             0.1.0\n",
      "backports.shutil-get-terminal-size   1.0.0\n",
      "beautifulsoup4                       4.8.2\n",
      "bitarray                             1.2.1\n",
      "bkcharts                             0.2\n",
      "bleach                               5.0.1\n",
      "bokeh                                1.4.0\n",
      "boto                                 2.49.0\n",
      "boto3                                1.26.8\n",
      "botocore                             1.29.8\n",
      "Bottleneck                           1.3.2\n",
      "brotlipy                             0.7.0\n",
      "cached-property                      1.5.2\n",
      "certifi                              2022.9.24\n",
      "cffi                                 1.15.0\n",
      "chardet                              3.0.4\n",
      "charset-normalizer                   2.0.4\n",
      "Click                                7.0\n",
      "cloudpickle                          2.2.0\n",
      "clyent                               1.2.2\n",
      "colorama                             0.4.3\n",
      "conda                                22.9.0\n",
      "conda-package-handling               1.8.1\n",
      "contextlib2                          0.6.0.post1\n",
      "cryptography                         38.0.3\n",
      "cycler                               0.10.0\n",
      "Cython                               0.29.15\n",
      "cytoolz                              0.10.1\n",
      "dash                                 2.7.0\n",
      "dash-core-components                 2.0.0\n",
      "dash-html-components                 2.0.0\n",
      "dash-table                           5.0.0\n",
      "dask                                 2022.2.0\n",
      "decorator                            4.4.1\n",
      "defusedxml                           0.6.0\n",
      "diff-match-patch                     20181111\n",
      "dill                                 0.3.6\n",
      "distributed                          2022.2.0\n",
      "distro                               1.8.0\n",
      "docker                               6.0.1\n",
      "docker-compose                       1.29.2\n",
      "dockerpty                            0.4.1\n",
      "docopt                               0.6.2\n",
      "docutils                             0.16\n",
      "dparse                               0.6.2\n",
      "entrypoints                          0.3\n",
      "et-xmlfile                           1.0.1\n",
      "fastcache                            1.1.0\n",
      "fastjsonschema                       2.16.2\n",
      "filelock                             3.0.12\n",
      "flake8                               3.7.9\n",
      "Flask                                1.1.1\n",
      "frozenlist                           1.3.3\n",
      "fsspec                               2022.11.0\n",
      "future                               0.18.2\n",
      "gevent                               1.4.0\n",
      "glob2                                0.7\n",
      "gmpy2                                2.0.8\n",
      "google-pasta                         0.2.0\n",
      "greenlet                             0.4.15\n",
      "h5py                                 2.10.0\n",
      "hdijupyterutils                      0.20.0\n",
      "HeapDict                             1.0.1\n",
      "html5lib                             1.0.1\n",
      "hypothesis                           5.5.4\n",
      "idna                                 2.8\n",
      "imageio                              2.6.1\n",
      "imagesize                            1.2.0\n",
      "importlib-metadata                   5.0.0\n",
      "intervaltree                         3.0.2\n",
      "ipykernel                            5.1.4\n",
      "ipython                              7.34.0\n",
      "ipython_genutils                     0.2.0\n",
      "ipywidgets                           7.5.1\n",
      "isort                                4.3.21\n",
      "itsdangerous                         1.1.0\n",
      "jdcal                                1.4.1\n",
      "jedi                                 0.18.1\n",
      "jeepney                              0.4.2\n",
      "Jinja2                               3.1.2\n",
      "jmespath                             1.0.1\n",
      "joblib                               0.14.1\n",
      "json5                                0.9.1\n",
      "jsonschema                           3.2.0\n",
      "jupyter                              1.0.0\n",
      "jupyter_client                       7.4.5\n",
      "jupyter-console                      6.1.0\n",
      "jupyter_core                         4.11.2\n",
      "jupyter-dash                         0.4.2\n",
      "jupyter-server                       1.23.2\n",
      "jupyterlab                           1.2.21\n",
      "jupyterlab-pygments                  0.2.2\n",
      "jupyterlab-server                    1.0.6\n",
      "keyring                              21.1.0\n",
      "kiwisolver                           1.1.0\n",
      "lazy-object-proxy                    1.4.3\n",
      "libarchive-c                         2.8\n",
      "lief                                 0.9.0\n",
      "llvmlite                             0.39.1\n",
      "locket                               0.2.0\n",
      "lxml                                 4.9.1\n",
      "MarkupSafe                           2.1.1\n",
      "matplotlib                           3.1.3\n",
      "matplotlib-inline                    0.1.6\n",
      "mccabe                               0.6.1\n",
      "mistune                              0.8.4\n",
      "mkl-fft                              1.0.15\n",
      "mkl-random                           1.1.0\n",
      "mkl-service                          2.3.0\n",
      "mock                                 4.0.1\n",
      "more-itertools                       8.2.0\n",
      "mpmath                               1.1.0\n",
      "msgpack                              0.6.1\n",
      "multidict                            6.0.2\n",
      "multipledispatch                     0.6.0\n",
      "multiprocess                         0.70.14\n",
      "nbclassic                            0.4.8\n",
      "nbclient                             0.7.0\n",
      "nbconvert                            6.5.4\n",
      "nbformat                             5.7.0\n",
      "nest-asyncio                         1.5.6\n",
      "networkx                             2.4\n",
      "nltk                                 3.7\n",
      "nose                                 1.3.7\n",
      "notebook                             6.5.2\n",
      "notebook_shim                        0.2.2\n",
      "numba                                0.56.4\n",
      "numexpr                              2.7.1\n",
      "numpy                                1.21.6\n",
      "numpydoc                             0.9.2\n",
      "olefile                              0.46\n",
      "openpyxl                             3.0.3\n",
      "packaging                            20.1\n",
      "pandas                               1.3.5\n",
      "pandocfilters                        1.4.2\n",
      "parso                                0.8.3\n",
      "partd                                1.1.0\n",
      "path                                 13.1.0\n",
      "pathlib2                             2.3.5\n",
      "pathos                               0.3.0\n",
      "pathtools                            0.1.2\n",
      "patsy                                0.5.1\n",
      "pep8                                 1.7.1\n",
      "pexpect                              4.8.0\n",
      "pickleshare                          0.7.5\n",
      "Pillow                               9.3.0\n",
      "pip                                  22.3.1\n",
      "pkginfo                              1.5.0.1\n",
      "platformdirs                         2.5.4\n",
      "plotly                               5.8.2\n",
      "pluggy                               0.13.1\n",
      "ply                                  3.11\n",
      "pox                                  0.3.2\n",
      "ppft                                 1.7.6.6\n",
      "prometheus-client                    0.7.1\n",
      "prompt-toolkit                       3.0.3\n",
      "protobuf                             3.20.3\n",
      "protobuf3-to-dict                    0.1.5\n",
      "psutil                               5.6.7\n",
      "ptyprocess                           0.6.0\n",
      "pure-sasl                            0.6.2\n",
      "py                                   1.11.0\n",
      "pyarrow                              10.0.0\n",
      "pyasn1                               0.4.8\n",
      "pycodestyle                          2.5.0\n",
      "pycosat                              0.6.3\n",
      "pycparser                            2.19\n",
      "pycrypto                             2.6.1\n",
      "pycurl                               7.43.0.5\n",
      "pydocstyle                           4.0.1\n",
      "pyflakes                             2.1.1\n",
      "pyfunctional                         1.4.3\n",
      "Pygments                             2.13.0\n",
      "PyHive                               0.6.5\n",
      "pykerberos                           1.2.1\n",
      "pylint                               2.15.5\n",
      "pyodbc                               4.0.0-unsupported\n",
      "pyOpenSSL                            22.1.0\n",
      "pyparsing                            2.4.6\n",
      "pyrsistent                           0.15.7\n",
      "PySocks                              1.7.1\n",
      "pytest                               5.3.5\n",
      "pytest-arraydiff                     0.3\n",
      "pytest-astropy                       0.8.0\n",
      "pytest-astropy-header                0.1.2\n",
      "pytest-doctestplus                   0.5.0\n",
      "pytest-openfiles                     0.4.0\n",
      "pytest-remotedata                    0.3.2\n",
      "python-dateutil                      2.8.2\n",
      "python-dotenv                        0.21.0\n",
      "python-jsonrpc-server                0.3.4\n",
      "python-language-server               0.31.7\n",
      "pytz                                 2019.3\n",
      "PyWavelets                           1.1.1\n",
      "pyxdg                                0.26\n",
      "PyYAML                               6.0\n",
      "pyzmq                                24.0.1\n",
      "QDarkStyle                           2.8\n",
      "QtAwesome                            0.6.1\n",
      "qtconsole                            4.6.0\n",
      "QtPy                                 1.9.0\n",
      "regex                                2022.10.31\n",
      "requests                             2.28.1\n",
      "requests-kerberos                    0.12.0\n",
      "retrying                             1.3.3\n",
      "rope                                 0.16.0\n",
      "rsa                                  4.9\n",
      "Rtree                                0.9.3\n",
      "ruamel_yaml                          0.15.87\n",
      "s3fs                                 2022.11.0\n",
      "s3transfer                           0.6.0\n",
      "sagemaker                            2.116.0\n",
      "sagemaker-data-insights              0.3.3\n",
      "sagemaker-datawrangler               0.3.8\n",
      "sagemaker-scikit-learn-extension     2.5.0\n",
      "sagemaker-studio-analytics-extension 0.0.14\n",
      "sagemaker-studio-sparkmagic-lib      0.1.4\n",
      "sasl                                 0.2.1\n",
      "schema                               0.7.5\n",
      "scikit-image                         0.16.2\n",
      "scikit-learn                         0.22.1\n",
      "scipy                                1.4.1\n",
      "seaborn                              0.10.0\n",
      "SecretStorage                        3.1.2\n",
      "Send2Trash                           1.8.0\n",
      "setuptools                           59.3.0\n",
      "simplegeneric                        0.8.1\n",
      "singledispatch                       3.4.0.3\n",
      "six                                  1.14.0\n",
      "sklearn                              0.0.post1\n",
      "smclarify                            0.2\n",
      "smdebug-rulesconfig                  1.0.1\n",
      "sniffio                              1.3.0\n",
      "snowballstemmer                      2.0.0\n",
      "sortedcollections                    1.1.2\n",
      "sortedcontainers                     2.1.0\n",
      "soupsieve                            1.9.5\n",
      "sparkmagic                           0.20.0\n",
      "Sphinx                               2.4.0\n",
      "sphinxcontrib-applehelp              1.0.1\n",
      "sphinxcontrib-devhelp                1.0.1\n",
      "sphinxcontrib-htmlhelp               1.0.2\n",
      "sphinxcontrib-jsmath                 1.0.1\n",
      "sphinxcontrib-qthelp                 1.0.2\n",
      "sphinxcontrib-serializinghtml        1.1.3\n",
      "sphinxcontrib-websupport             1.2.0\n",
      "spyder                               4.0.1\n",
      "spyder-kernels                       1.8.1\n",
      "SQLAlchemy                           1.3.13\n",
      "statsmodels                          0.11.0\n",
      "sympy                                1.5.1\n",
      "tables                               3.6.1\n",
      "tabulate                             0.9.0\n",
      "tblib                                1.6.0\n",
      "tenacity                             8.1.0\n",
      "terminado                            0.8.3\n",
      "testpath                             0.4.4\n",
      "texttable                            1.6.4\n",
      "thrift                               0.13.0\n",
      "thrift-sasl                          0.4.3\n",
      "tinycss2                             1.2.1\n",
      "toml                                 0.10.2\n",
      "tomli                                2.0.1\n",
      "tomlkit                              0.11.6\n",
      "toolz                                0.10.0\n",
      "tornado                              6.2\n",
      "tqdm                                 4.42.1\n",
      "traitlets                            5.5.0\n",
      "typed-ast                            1.5.4\n",
      "typing_extensions                    4.4.0\n",
      "ujson                                5.5.0\n",
      "unicodecsv                           0.14.1\n",
      "urllib3                              1.26.12\n",
      "watchdog                             0.10.2\n",
      "wcwidth                              0.1.8\n",
      "webencodings                         0.5.1\n",
      "websocket-client                     0.59.0\n",
      "Werkzeug                             1.0.0\n",
      "wheel                                0.34.2\n",
      "widgetsnbextension                   3.5.1\n",
      "wrapt                                1.11.2\n",
      "wurlitzer                            2.0.0\n",
      "xlrd                                 1.2.0\n",
      "XlsxWriter                           1.2.7\n",
      "xlwt                                 1.3.0\n",
      "yapf                                 0.28.0\n",
      "yarl                                 1.8.1\n",
      "zict                                 1.0.0\n",
      "zipp                                 3.10.0\n"
     ]
    }
   ],
   "source": [
    "!pip list #checking enviroment to xee if we are using sm2.0 or later"
   ]
  },
  {
   "cell_type": "code",
   "execution_count": 4,
   "id": "4232f62a-9afa-4fa0-9f9a-3c584631d9db",
   "metadata": {
    "tags": []
   },
   "outputs": [],
   "source": [
    "#Importing libraries\n",
    "import numpy as np\n",
    "import seaborn as sns\n",
    "import matplotlib.pyplot as plt\n",
    "import pandas as pd\n",
    "%matplotlib inline"
   ]
  },
  {
   "cell_type": "code",
   "execution_count": 5,
   "id": "889e8d5c-7d3c-4834-a20c-8475f848776e",
   "metadata": {
    "tags": []
   },
   "outputs": [],
   "source": [
    "#reading data using pandas\n",
    "fuel_economy_df=pd.read_csv('FuelEconomy.csv')"
   ]
  },
  {
   "cell_type": "code",
   "execution_count": 6,
   "id": "d6da51ba-45f7-4858-86a4-de8df6332c11",
   "metadata": {
    "tags": []
   },
   "outputs": [
    {
     "data": {
      "text/html": [
       "<div>\n",
       "<style scoped>\n",
       "    .dataframe tbody tr th:only-of-type {\n",
       "        vertical-align: middle;\n",
       "    }\n",
       "\n",
       "    .dataframe tbody tr th {\n",
       "        vertical-align: top;\n",
       "    }\n",
       "\n",
       "    .dataframe thead th {\n",
       "        text-align: right;\n",
       "    }\n",
       "</style>\n",
       "<table border=\"1\" class=\"dataframe\">\n",
       "  <thead>\n",
       "    <tr style=\"text-align: right;\">\n",
       "      <th></th>\n",
       "      <th>Horse Power</th>\n",
       "      <th>Fuel Economy (MPG)</th>\n",
       "    </tr>\n",
       "  </thead>\n",
       "  <tbody>\n",
       "    <tr>\n",
       "      <th>0</th>\n",
       "      <td>118.770799</td>\n",
       "      <td>29.344195</td>\n",
       "    </tr>\n",
       "    <tr>\n",
       "      <th>1</th>\n",
       "      <td>176.326567</td>\n",
       "      <td>24.695934</td>\n",
       "    </tr>\n",
       "    <tr>\n",
       "      <th>2</th>\n",
       "      <td>219.262465</td>\n",
       "      <td>23.952010</td>\n",
       "    </tr>\n",
       "    <tr>\n",
       "      <th>3</th>\n",
       "      <td>187.310009</td>\n",
       "      <td>23.384546</td>\n",
       "    </tr>\n",
       "    <tr>\n",
       "      <th>4</th>\n",
       "      <td>218.594340</td>\n",
       "      <td>23.426739</td>\n",
       "    </tr>\n",
       "    <tr>\n",
       "      <th>...</th>\n",
       "      <td>...</td>\n",
       "      <td>...</td>\n",
       "    </tr>\n",
       "    <tr>\n",
       "      <th>95</th>\n",
       "      <td>162.810542</td>\n",
       "      <td>27.418661</td>\n",
       "    </tr>\n",
       "    <tr>\n",
       "      <th>96</th>\n",
       "      <td>266.869640</td>\n",
       "      <td>15.989945</td>\n",
       "    </tr>\n",
       "    <tr>\n",
       "      <th>97</th>\n",
       "      <td>243.831211</td>\n",
       "      <td>19.253375</td>\n",
       "    </tr>\n",
       "    <tr>\n",
       "      <th>98</th>\n",
       "      <td>140.959803</td>\n",
       "      <td>29.515593</td>\n",
       "    </tr>\n",
       "    <tr>\n",
       "      <th>99</th>\n",
       "      <td>184.123053</td>\n",
       "      <td>25.196097</td>\n",
       "    </tr>\n",
       "  </tbody>\n",
       "</table>\n",
       "<p>100 rows × 2 columns</p>\n",
       "</div>"
      ],
      "text/plain": [
       "    Horse Power  Fuel Economy (MPG)\n",
       "0    118.770799           29.344195\n",
       "1    176.326567           24.695934\n",
       "2    219.262465           23.952010\n",
       "3    187.310009           23.384546\n",
       "4    218.594340           23.426739\n",
       "..          ...                 ...\n",
       "95   162.810542           27.418661\n",
       "96   266.869640           15.989945\n",
       "97   243.831211           19.253375\n",
       "98   140.959803           29.515593\n",
       "99   184.123053           25.196097\n",
       "\n",
       "[100 rows x 2 columns]"
      ]
     },
     "execution_count": 6,
     "metadata": {},
     "output_type": "execute_result"
    }
   ],
   "source": [
    "#view the dataframe\n",
    "fuel_economy_df"
   ]
  },
  {
   "cell_type": "code",
   "execution_count": 7,
   "id": "baa528bb-0b53-4f82-a35c-c12bf639af85",
   "metadata": {
    "tags": []
   },
   "outputs": [
    {
     "data": {
      "text/plain": [
       "<bound method NDFrame.head of     Horse Power  Fuel Economy (MPG)\n",
       "0    118.770799           29.344195\n",
       "1    176.326567           24.695934\n",
       "2    219.262465           23.952010\n",
       "3    187.310009           23.384546\n",
       "4    218.594340           23.426739\n",
       "..          ...                 ...\n",
       "95   162.810542           27.418661\n",
       "96   266.869640           15.989945\n",
       "97   243.831211           19.253375\n",
       "98   140.959803           29.515593\n",
       "99   184.123053           25.196097\n",
       "\n",
       "[100 rows x 2 columns]>"
      ]
     },
     "execution_count": 7,
     "metadata": {},
     "output_type": "execute_result"
    }
   ],
   "source": [
    "fuel_economy_df.head"
   ]
  },
  {
   "cell_type": "code",
   "execution_count": 9,
   "id": "bcdbd68b-e77f-4b96-828e-1514101a91a6",
   "metadata": {
    "tags": []
   },
   "outputs": [],
   "source": [
    "#Seprate the data into input X and output Y\n",
    "x=fuel_economy_df[['Horse Power']]\n",
    "y=fuel_economy_df[['Fuel Economy (MPG)']]"
   ]
  },
  {
   "cell_type": "code",
   "execution_count": 10,
   "id": "05849922-a8ee-44ca-96ba-c78a13a41061",
   "metadata": {
    "tags": []
   },
   "outputs": [
    {
     "data": {
      "text/plain": [
       "(100, 1)"
      ]
     },
     "execution_count": 10,
     "metadata": {},
     "output_type": "execute_result"
    }
   ],
   "source": [
    "x.shape #shape of input"
   ]
  },
  {
   "cell_type": "code",
   "execution_count": 11,
   "id": "530f091b-8754-44f1-91c7-145f39ae7574",
   "metadata": {
    "tags": []
   },
   "outputs": [
    {
     "data": {
      "text/plain": [
       "(100, 1)"
      ]
     },
     "execution_count": 11,
     "metadata": {},
     "output_type": "execute_result"
    }
   ],
   "source": [
    "y.shape"
   ]
  },
  {
   "cell_type": "code",
   "execution_count": 12,
   "id": "c89469dc-133c-4147-840b-c036a9f1f872",
   "metadata": {
    "tags": []
   },
   "outputs": [],
   "source": [
    "#Convert data into float32\n",
    "X=np.array(x).astype('float32')\n",
    "Y=np.array(y).astype('float32')"
   ]
  },
  {
   "cell_type": "code",
   "execution_count": 13,
   "id": "2303f4b4-7b8f-4c9b-be36-fb8815a7fb4f",
   "metadata": {
    "tags": []
   },
   "outputs": [
    {
     "data": {
      "text/plain": [
       "array([[118.7708  ],\n",
       "       [176.32657 ],\n",
       "       [219.26247 ],\n",
       "       [187.31001 ],\n",
       "       [218.59435 ],\n",
       "       [175.8381  ],\n",
       "       [271.44162 ],\n",
       "       [294.4259  ],\n",
       "       [126.211006],\n",
       "       [163.35034 ],\n",
       "       [321.84076 ],\n",
       "       [120.48424 ],\n",
       "       [155.41537 ],\n",
       "       [191.71481 ],\n",
       "       [211.72911 ],\n",
       "       [259.1832  ],\n",
       "       [236.57173 ],\n",
       "       [191.09897 ],\n",
       "       [123.8857  ],\n",
       "       [136.30646 ],\n",
       "       [212.73895 ],\n",
       "       [232.44995 ],\n",
       "       [122.04016 ],\n",
       "       [140.43231 ],\n",
       "       [243.34784 ],\n",
       "       [178.43028 ],\n",
       "       [258.42422 ],\n",
       "       [231.8549  ],\n",
       "       [ 91.44026 ],\n",
       "       [119.53666 ],\n",
       "       [350.      ],\n",
       "       [175.97922 ],\n",
       "       [312.49222 ],\n",
       "       [282.60425 ],\n",
       "       [138.26474 ],\n",
       "       [301.05417 ],\n",
       "       [227.8735  ],\n",
       "       [ 50.      ],\n",
       "       [152.34785 ],\n",
       "       [252.55238 ],\n",
       "       [218.10709 ],\n",
       "       [172.64366 ],\n",
       "       [243.73724 ],\n",
       "       [186.04004 ],\n",
       "       [227.67047 ],\n",
       "       [132.66957 ],\n",
       "       [196.85954 ],\n",
       "       [244.35834 ],\n",
       "       [161.41107 ],\n",
       "       [133.82306 ],\n",
       "       [150.50624 ],\n",
       "       [290.8872  ],\n",
       "       [245.8204  ],\n",
       "       [250.70929 ],\n",
       "       [272.90573 ],\n",
       "       [199.14764 ],\n",
       "       [251.4245  ],\n",
       "       [284.9286  ],\n",
       "       [201.62646 ],\n",
       "       [173.93932 ],\n",
       "       [230.46268 ],\n",
       "       [289.49    ],\n",
       "       [220.72095 ],\n",
       "       [212.08304 ],\n",
       "       [188.50523 ],\n",
       "       [181.06793 ],\n",
       "       [245.55965 ],\n",
       "       [ 84.57199 ],\n",
       "       [311.75745 ],\n",
       "       [315.8175  ],\n",
       "       [223.17964 ],\n",
       "       [299.53046 ],\n",
       "       [175.3489  ],\n",
       "       [261.8521  ],\n",
       "       [258.30835 ],\n",
       "       [220.09859 ],\n",
       "       [214.4845  ],\n",
       "       [320.95135 ],\n",
       "       [258.65988 ],\n",
       "       [236.46445 ],\n",
       "       [198.95831 ],\n",
       "       [249.884   ],\n",
       "       [216.2812  ],\n",
       "       [232.21661 ],\n",
       "       [224.34207 ],\n",
       "       [238.83649 ],\n",
       "       [331.6986  ],\n",
       "       [106.25756 ],\n",
       "       [203.57166 ],\n",
       "       [342.90625 ],\n",
       "       [237.67308 ],\n",
       "       [205.0468  ],\n",
       "       [227.38013 ],\n",
       "       [131.54211 ],\n",
       "       [260.67444 ],\n",
       "       [162.81055 ],\n",
       "       [266.86963 ],\n",
       "       [243.8312  ],\n",
       "       [140.95981 ],\n",
       "       [184.12305 ]], dtype=float32)"
      ]
     },
     "execution_count": 13,
     "metadata": {},
     "output_type": "execute_result"
    }
   ],
   "source": [
    "#only take numerical variable\n",
    "X"
   ]
  },
  {
   "cell_type": "code",
   "execution_count": 15,
   "id": "02e31074-d7d7-421f-9e9c-35d6a1951f23",
   "metadata": {
    "tags": []
   },
   "outputs": [],
   "source": [
    "# Splitting the data and testing using sklearn library\n",
    "from sklearn.model_selection import train_test_split\n",
    "X_train,X_test,Y_train,Y_test=train_test_split(X,Y,test_size=0.2)"
   ]
  },
  {
   "cell_type": "code",
   "execution_count": 17,
   "id": "51dbd643-fe72-466e-a0de-7452e311837a",
   "metadata": {
    "tags": []
   },
   "outputs": [],
   "source": [
    "# Train a linear model using AWS Sagemaker\n",
    "import sagemaker\n",
    "import boto3 #It is AWS SDk for python.It facilates the libraries and method of python"
   ]
  },
  {
   "cell_type": "code",
   "execution_count": 19,
   "id": "c41d70b2-d716-4398-a29d-7cc97002ac70",
   "metadata": {
    "tags": []
   },
   "outputs": [],
   "source": [
    "# create bucket\n",
    "bucket='aws.ml.engineer5' #bucket need to created forhead\n",
    "prefix='linear_learner_fuel_economy' #subfolder within bucket"
   ]
  },
  {
   "cell_type": "code",
   "execution_count": 20,
   "id": "e8d74de7-dc5c-4b2d-a2de-bea5791ff88e",
   "metadata": {
    "tags": []
   },
   "outputs": [
    {
     "name": "stdout",
     "output_type": "stream",
     "text": [
      "arn:aws:iam::451246788348:role/service-role/AmazonSageMaker-ExecutionRole-20221121T170854\n"
     ]
    }
   ],
   "source": [
    "role=sagemaker.get_execution_role() #making role to access the bucket \n",
    "print(role)"
   ]
  },
  {
   "cell_type": "code",
   "execution_count": 21,
   "id": "78cdffa8-7b80-4d21-9d82-cbda1aebb46b",
   "metadata": {
    "tags": []
   },
   "outputs": [
    {
     "data": {
      "text/plain": [
       "(80, 1)"
      ]
     },
     "execution_count": 21,
     "metadata": {},
     "output_type": "execute_result"
    }
   ],
   "source": [
    "X_train.shape"
   ]
  },
  {
   "cell_type": "code",
   "execution_count": 22,
   "id": "69dbb9b2-a7d6-46be-a20e-31bf1ab60607",
   "metadata": {
    "tags": []
   },
   "outputs": [],
   "source": [
    "Y_train=Y_train[:,0]"
   ]
  },
  {
   "cell_type": "code",
   "execution_count": 23,
   "id": "a2eb483b-94f1-46ef-ab92-79f832636807",
   "metadata": {
    "tags": []
   },
   "outputs": [
    {
     "data": {
      "text/plain": [
       "(80,)"
      ]
     },
     "execution_count": 23,
     "metadata": {},
     "output_type": "execute_result"
    }
   ],
   "source": [
    "Y_train.shape"
   ]
  },
  {
   "cell_type": "code",
   "execution_count": 24,
   "id": "ab89f263-8c10-4b61-900b-927a6b8ca259",
   "metadata": {
    "tags": []
   },
   "outputs": [],
   "source": [
    "import io #This will allow for various I/O operation\n",
    "import sagemaker.amazon.common as smac #sagemaker common library \n"
   ]
  },
  {
   "cell_type": "code",
   "execution_count": 27,
   "id": "fd92717c-d52d-4296-80e6-334f25ff66d0",
   "metadata": {
    "tags": []
   },
   "outputs": [
    {
     "data": {
      "text/plain": [
       "0"
      ]
     },
     "execution_count": 27,
     "metadata": {},
     "output_type": "execute_result"
    }
   ],
   "source": [
    "#COnverting the data into numpy array format to Record IO format\n",
    "#this is the format required by sagemaker linear learner\n",
    "buf=io.BytesIO() #create an in-memory byte array\n",
    "smac.write_numpy_to_dense_tensor(buf,X_train,Y_train)\n",
    "buf.seek(0)"
   ]
  },
  {
   "cell_type": "code",
   "execution_count": 28,
   "id": "f938c11d-734f-4f10-a474-866457baff34",
   "metadata": {
    "tags": []
   },
   "outputs": [],
   "source": [
    "#Code to upload RecordIO data to S3\n",
    "#key refers to name of the file\n",
    "key='linear-train-data'"
   ]
  },
  {
   "cell_type": "code",
   "execution_count": 31,
   "id": "022e567e-94ec-4669-8e88-1302b77dfa17",
   "metadata": {
    "tags": []
   },
   "outputs": [
    {
     "name": "stdout",
     "output_type": "stream",
     "text": [
      "uploaded training data location: s3://aws.ml.engineer5/linear_learner_fuel_economy/train/linear-train-data\n"
     ]
    }
   ],
   "source": [
    "# The following code uploads the data in record-io format to S3 bucket to be accessed later for training\n",
    "import os\n",
    "boto3.resource('s3').Bucket(bucket).Object(os.path.join(prefix, 'train', key)).upload_fileobj(buf)\n",
    " \n",
    "# Let's print out the training data location in s3\n",
    "s3_train_data = 's3://{}/{}/train/{}'.format(bucket, prefix, key)\n",
    "print('uploaded training data location: {}'.format(s3_train_data))"
   ]
  },
  {
   "cell_type": "code",
   "execution_count": 32,
   "id": "a897a262-032c-41a7-a99d-1ce601b5357d",
   "metadata": {
    "tags": []
   },
   "outputs": [
    {
     "data": {
      "text/plain": [
       "(20, 1)"
      ]
     },
     "execution_count": 32,
     "metadata": {},
     "output_type": "execute_result"
    }
   ],
   "source": [
    "X_test.shape"
   ]
  },
  {
   "cell_type": "code",
   "execution_count": 33,
   "id": "efc958ca-19ee-4ea3-8649-0563732a5d54",
   "metadata": {
    "tags": []
   },
   "outputs": [
    {
     "data": {
      "text/plain": [
       "(20, 1)"
      ]
     },
     "execution_count": 33,
     "metadata": {},
     "output_type": "execute_result"
    }
   ],
   "source": [
    "Y_test.shape\n"
   ]
  },
  {
   "cell_type": "code",
   "execution_count": 34,
   "id": "3057aee3-cb4d-4de9-8b90-a709142d2f2d",
   "metadata": {
    "tags": []
   },
   "outputs": [],
   "source": [
    "#make sure that the target label is a vector\n",
    "Y_test=Y_test[:,0]"
   ]
  },
  {
   "cell_type": "code",
   "execution_count": 35,
   "id": "43bce8a8-fa81-4f9b-ab1f-4e392dd31df6",
   "metadata": {
    "tags": []
   },
   "outputs": [
    {
     "data": {
      "text/plain": [
       "0"
      ]
     },
     "execution_count": 35,
     "metadata": {},
     "output_type": "execute_result"
    }
   ],
   "source": [
    "buf=io.BytesIO() #create an in-memory byte array\n",
    "smac.write_numpy_to_dense_tensor(buf,X_test,Y_test)\n",
    "buf.seek(0)"
   ]
  },
  {
   "cell_type": "code",
   "execution_count": 36,
   "id": "60da4083-2700-4e21-a196-9b579208397e",
   "metadata": {
    "tags": []
   },
   "outputs": [
    {
     "name": "stdout",
     "output_type": "stream",
     "text": [
      "uploaded training data location: s3://aws.ml.engineer5/linear_learner_fuel_economy/test/linear-test-data\n"
     ]
    }
   ],
   "source": [
    "# The following code uploads the data in record-io format to S3 bucket to be accessed later for training\n",
    "import os\n",
    "key='linear-test-data'\n",
    "boto3.resource('s3').Bucket(bucket).Object(os.path.join(prefix, 'test', key)).upload_fileobj(buf)\n",
    " \n",
    "# Let's print out the training data location in s3\n",
    "s3_test_data = 's3://{}/{}/test/{}'.format(bucket, prefix, key)\n",
    "print('uploaded training data location: {}'.format(s3_test_data))"
   ]
  },
  {
   "cell_type": "code",
   "execution_count": null,
   "id": "62626480-10ec-4f3b-84f4-29e429af61e9",
   "metadata": {},
   "outputs": [],
   "source": []
  }
 ],
 "metadata": {
  "instance_type": "ml.t3.medium",
  "kernelspec": {
   "display_name": "Python 3 (Data Science)",
   "language": "python",
   "name": "python3__SAGEMAKER_INTERNAL__arn:aws:sagemaker:us-east-1:081325390199:image/datascience-1.0"
  },
  "language_info": {
   "codemirror_mode": {
    "name": "ipython",
    "version": 3
   },
   "file_extension": ".py",
   "mimetype": "text/x-python",
   "name": "python",
   "nbconvert_exporter": "python",
   "pygments_lexer": "ipython3",
   "version": "3.7.10"
  }
 },
 "nbformat": 4,
 "nbformat_minor": 5
}
