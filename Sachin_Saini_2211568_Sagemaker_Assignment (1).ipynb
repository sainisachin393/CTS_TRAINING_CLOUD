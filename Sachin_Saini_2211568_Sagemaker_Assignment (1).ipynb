{
 "cells": [
  {
   "cell_type": "code",
   "execution_count": 38,
   "id": "2ee76ec1-4c5e-4ff8-8902-dc247cb4dc8a",
   "metadata": {
    "tags": []
   },
   "outputs": [
    {
     "name": "stdout",
     "output_type": "stream",
     "text": [
      "Keyring is skipped due to an exception: 'keyring.backends'\n",
      "Package                              Version\n",
      "------------------------------------ -----------------\n",
      "aiobotocore                          2.4.0\n",
      "aiohttp                              3.8.3\n",
      "aioitertools                         0.11.0\n",
      "aiosignal                            1.3.1\n",
      "alabaster                            0.7.12\n",
      "anaconda-client                      1.7.2\n",
      "anaconda-project                     0.8.3\n",
      "ansi2html                            1.8.0\n",
      "anyio                                3.6.2\n",
      "argh                                 0.26.2\n",
      "argon2-cffi                          21.3.0\n",
      "argon2-cffi-bindings                 21.2.0\n",
      "asn1crypto                           1.3.0\n",
      "astroid                              2.12.12\n",
      "astropy                              4.0\n",
      "async-timeout                        4.0.2\n",
      "asynctest                            0.13.0\n",
      "atomicwrites                         1.3.0\n",
      "attrs                                22.1.0\n",
      "autopep8                             1.4.4\n",
      "autovizwidget                        0.20.0\n",
      "awscli                               1.27.8\n",
      "Babel                                2.11.0\n",
      "backcall                             0.1.0\n",
      "backports.shutil-get-terminal-size   1.0.0\n",
      "beautifulsoup4                       4.8.2\n",
      "bitarray                             1.2.1\n",
      "bkcharts                             0.2\n",
      "bleach                               5.0.1\n",
      "bokeh                                1.4.0\n",
      "boto                                 2.49.0\n",
      "boto3                                1.26.8\n",
      "botocore                             1.29.8\n",
      "Bottleneck                           1.3.2\n",
      "brotlipy                             0.7.0\n",
      "cached-property                      1.5.2\n",
      "certifi                              2022.9.24\n",
      "cffi                                 1.15.0\n",
      "chardet                              3.0.4\n",
      "charset-normalizer                   2.0.4\n",
      "Click                                7.0\n",
      "cloudpickle                          2.2.0\n",
      "clyent                               1.2.2\n",
      "colorama                             0.4.3\n",
      "conda                                22.9.0\n",
      "conda-package-handling               1.8.1\n",
      "contextlib2                          0.6.0.post1\n",
      "cryptography                         38.0.3\n",
      "cycler                               0.10.0\n",
      "Cython                               0.29.15\n",
      "cytoolz                              0.10.1\n",
      "dash                                 2.7.0\n",
      "dash-core-components                 2.0.0\n",
      "dash-html-components                 2.0.0\n",
      "dash-table                           5.0.0\n",
      "dask                                 2022.2.0\n",
      "decorator                            4.4.1\n",
      "defusedxml                           0.6.0\n",
      "diff-match-patch                     20181111\n",
      "dill                                 0.3.6\n",
      "distributed                          2022.2.0\n",
      "distro                               1.8.0\n",
      "docker                               6.0.1\n",
      "docker-compose                       1.29.2\n",
      "dockerpty                            0.4.1\n",
      "docopt                               0.6.2\n",
      "docutils                             0.16\n",
      "dparse                               0.6.2\n",
      "entrypoints                          0.3\n",
      "et-xmlfile                           1.0.1\n",
      "fastcache                            1.1.0\n",
      "fastjsonschema                       2.16.2\n",
      "filelock                             3.0.12\n",
      "flake8                               3.7.9\n",
      "Flask                                1.1.1\n",
      "frozenlist                           1.3.3\n",
      "fsspec                               2022.11.0\n",
      "future                               0.18.2\n",
      "gevent                               1.4.0\n",
      "glob2                                0.7\n",
      "gmpy2                                2.0.8\n",
      "google-pasta                         0.2.0\n",
      "greenlet                             0.4.15\n",
      "h5py                                 2.10.0\n",
      "hdijupyterutils                      0.20.0\n",
      "HeapDict                             1.0.1\n",
      "html5lib                             1.0.1\n",
      "hypothesis                           5.5.4\n",
      "idna                                 2.8\n",
      "imageio                              2.6.1\n",
      "imagesize                            1.2.0\n",
      "importlib-metadata                   5.0.0\n",
      "intervaltree                         3.0.2\n",
      "ipykernel                            5.1.4\n",
      "ipython                              7.34.0\n",
      "ipython_genutils                     0.2.0\n",
      "ipywidgets                           7.5.1\n",
      "isort                                4.3.21\n",
      "itsdangerous                         1.1.0\n",
      "jdcal                                1.4.1\n",
      "jedi                                 0.18.1\n",
      "jeepney                              0.4.2\n",
      "Jinja2                               3.1.2\n",
      "jmespath                             1.0.1\n",
      "joblib                               0.14.1\n",
      "json5                                0.9.1\n",
      "jsonschema                           3.2.0\n",
      "jupyter                              1.0.0\n",
      "jupyter_client                       7.4.5\n",
      "jupyter-console                      6.1.0\n",
      "jupyter_core                         4.11.2\n",
      "jupyter-dash                         0.4.2\n",
      "jupyter-server                       1.23.2\n",
      "jupyterlab                           1.2.21\n",
      "jupyterlab-pygments                  0.2.2\n",
      "jupyterlab-server                    1.0.6\n",
      "keyring                              21.1.0\n",
      "kiwisolver                           1.1.0\n",
      "lazy-object-proxy                    1.4.3\n",
      "libarchive-c                         2.8\n",
      "lief                                 0.9.0\n",
      "llvmlite                             0.39.1\n",
      "locket                               0.2.0\n",
      "lxml                                 4.9.1\n",
      "MarkupSafe                           2.1.1\n",
      "matplotlib                           3.1.3\n",
      "matplotlib-inline                    0.1.6\n",
      "mccabe                               0.6.1\n",
      "mistune                              0.8.4\n",
      "mkl-fft                              1.0.15\n",
      "mkl-random                           1.1.0\n",
      "mkl-service                          2.3.0\n",
      "mock                                 4.0.1\n",
      "more-itertools                       8.2.0\n",
      "mpmath                               1.1.0\n",
      "msgpack                              0.6.1\n",
      "multidict                            6.0.2\n",
      "multipledispatch                     0.6.0\n",
      "multiprocess                         0.70.14\n",
      "nbclassic                            0.4.8\n",
      "nbclient                             0.7.0\n",
      "nbconvert                            6.5.4\n",
      "nbformat                             5.7.0\n",
      "nest-asyncio                         1.5.6\n",
      "networkx                             2.4\n",
      "nltk                                 3.7\n",
      "nose                                 1.3.7\n",
      "notebook                             6.5.2\n",
      "notebook_shim                        0.2.2\n",
      "numba                                0.56.4\n",
      "numexpr                              2.7.1\n",
      "numpy                                1.21.6\n",
      "numpydoc                             0.9.2\n",
      "olefile                              0.46\n",
      "openpyxl                             3.0.3\n",
      "packaging                            20.1\n",
      "pandas                               1.3.5\n",
      "pandocfilters                        1.4.2\n",
      "parso                                0.8.3\n",
      "partd                                1.1.0\n",
      "path                                 13.1.0\n",
      "pathlib2                             2.3.5\n",
      "pathos                               0.3.0\n",
      "pathtools                            0.1.2\n",
      "patsy                                0.5.1\n",
      "pep8                                 1.7.1\n",
      "pexpect                              4.8.0\n",
      "pickleshare                          0.7.5\n",
      "Pillow                               9.3.0\n",
      "pip                                  22.3.1\n",
      "pkginfo                              1.5.0.1\n",
      "platformdirs                         2.5.4\n",
      "plotly                               5.8.2\n",
      "pluggy                               0.13.1\n",
      "ply                                  3.11\n",
      "pox                                  0.3.2\n",
      "ppft                                 1.7.6.6\n",
      "prometheus-client                    0.7.1\n",
      "prompt-toolkit                       3.0.3\n",
      "protobuf                             3.20.3\n",
      "protobuf3-to-dict                    0.1.5\n",
      "psutil                               5.6.7\n",
      "ptyprocess                           0.6.0\n",
      "pure-sasl                            0.6.2\n",
      "py                                   1.11.0\n",
      "pyarrow                              10.0.0\n",
      "pyasn1                               0.4.8\n",
      "pycodestyle                          2.5.0\n",
      "pycosat                              0.6.3\n",
      "pycparser                            2.19\n",
      "pycrypto                             2.6.1\n",
      "pycurl                               7.43.0.5\n",
      "pydocstyle                           4.0.1\n",
      "pyflakes                             2.1.1\n",
      "pyfunctional                         1.4.3\n",
      "Pygments                             2.13.0\n",
      "PyHive                               0.6.5\n",
      "pykerberos                           1.2.1\n",
      "pylint                               2.15.5\n",
      "pyodbc                               4.0.0-unsupported\n",
      "pyOpenSSL                            22.1.0\n",
      "pyparsing                            2.4.6\n",
      "pyrsistent                           0.15.7\n",
      "PySocks                              1.7.1\n",
      "pytest                               5.3.5\n",
      "pytest-arraydiff                     0.3\n",
      "pytest-astropy                       0.8.0\n",
      "pytest-astropy-header                0.1.2\n",
      "pytest-doctestplus                   0.5.0\n",
      "pytest-openfiles                     0.4.0\n",
      "pytest-remotedata                    0.3.2\n",
      "python-dateutil                      2.8.2\n",
      "python-dotenv                        0.21.0\n",
      "python-jsonrpc-server                0.3.4\n",
      "python-language-server               0.31.7\n",
      "pytz                                 2019.3\n",
      "PyWavelets                           1.1.1\n",
      "pyxdg                                0.26\n",
      "PyYAML                               6.0\n",
      "pyzmq                                24.0.1\n",
      "QDarkStyle                           2.8\n",
      "QtAwesome                            0.6.1\n",
      "qtconsole                            4.6.0\n",
      "QtPy                                 1.9.0\n",
      "regex                                2022.10.31\n",
      "requests                             2.28.1\n",
      "requests-kerberos                    0.12.0\n",
      "retrying                             1.3.3\n",
      "rope                                 0.16.0\n",
      "rsa                                  4.9\n",
      "Rtree                                0.9.3\n",
      "ruamel_yaml                          0.15.87\n",
      "s3fs                                 2022.11.0\n",
      "s3transfer                           0.6.0\n",
      "sagemaker                            2.116.0\n",
      "sagemaker-data-insights              0.3.3\n",
      "sagemaker-datawrangler               0.3.8\n",
      "sagemaker-scikit-learn-extension     2.5.0\n",
      "sagemaker-studio-analytics-extension 0.0.14\n",
      "sagemaker-studio-sparkmagic-lib      0.1.4\n",
      "sasl                                 0.2.1\n",
      "schema                               0.7.5\n",
      "scikit-image                         0.16.2\n",
      "scikit-learn                         0.22.1\n",
      "scipy                                1.4.1\n",
      "seaborn                              0.10.0\n",
      "SecretStorage                        3.1.2\n",
      "Send2Trash                           1.8.0\n",
      "setuptools                           59.3.0\n",
      "simplegeneric                        0.8.1\n",
      "singledispatch                       3.4.0.3\n",
      "six                                  1.14.0\n",
      "sklearn                              0.0.post1\n",
      "smclarify                            0.2\n",
      "smdebug-rulesconfig                  1.0.1\n",
      "sniffio                              1.3.0\n",
      "snowballstemmer                      2.0.0\n",
      "sortedcollections                    1.1.2\n",
      "sortedcontainers                     2.1.0\n",
      "soupsieve                            1.9.5\n",
      "sparkmagic                           0.20.0\n",
      "Sphinx                               2.4.0\n",
      "sphinxcontrib-applehelp              1.0.1\n",
      "sphinxcontrib-devhelp                1.0.1\n",
      "sphinxcontrib-htmlhelp               1.0.2\n",
      "sphinxcontrib-jsmath                 1.0.1\n",
      "sphinxcontrib-qthelp                 1.0.2\n",
      "sphinxcontrib-serializinghtml        1.1.3\n",
      "sphinxcontrib-websupport             1.2.0\n",
      "spyder                               4.0.1\n",
      "spyder-kernels                       1.8.1\n",
      "SQLAlchemy                           1.3.13\n",
      "statsmodels                          0.11.0\n",
      "sympy                                1.5.1\n",
      "tables                               3.6.1\n",
      "tabulate                             0.9.0\n",
      "tblib                                1.6.0\n",
      "tenacity                             8.1.0\n",
      "terminado                            0.8.3\n",
      "testpath                             0.4.4\n",
      "texttable                            1.6.4\n",
      "thrift                               0.13.0\n",
      "thrift-sasl                          0.4.3\n",
      "tinycss2                             1.2.1\n",
      "toml                                 0.10.2\n",
      "tomli                                2.0.1\n",
      "tomlkit                              0.11.6\n",
      "toolz                                0.10.0\n",
      "tornado                              6.2\n",
      "tqdm                                 4.42.1\n",
      "traitlets                            5.5.0\n",
      "typed-ast                            1.5.4\n",
      "typing_extensions                    4.4.0\n",
      "ujson                                5.5.0\n",
      "unicodecsv                           0.14.1\n",
      "urllib3                              1.26.12\n",
      "watchdog                             0.10.2\n",
      "wcwidth                              0.1.8\n",
      "webencodings                         0.5.1\n",
      "websocket-client                     0.59.0\n",
      "Werkzeug                             1.0.0\n",
      "wheel                                0.34.2\n",
      "widgetsnbextension                   3.5.1\n",
      "wrapt                                1.11.2\n",
      "wurlitzer                            2.0.0\n",
      "xlrd                                 1.2.0\n",
      "XlsxWriter                           1.2.7\n",
      "xlwt                                 1.3.0\n",
      "yapf                                 0.28.0\n",
      "yarl                                 1.8.1\n",
      "zict                                 1.0.0\n",
      "zipp                                 3.10.0\n"
     ]
    }
   ],
   "source": [
    "!pip list #checking enviroment to xee if we are using sm2.0 or later"
   ]
  },
  {
   "cell_type": "code",
   "execution_count": 39,
   "id": "4232f62a-9afa-4fa0-9f9a-3c584631d9db",
   "metadata": {
    "tags": []
   },
   "outputs": [],
   "source": [
    "#Importing libraries\n",
    "import numpy as np\n",
    "import seaborn as sns\n",
    "import matplotlib.pyplot as plt\n",
    "import pandas as pd\n",
    "%matplotlib inline"
   ]
  },
  {
   "cell_type": "code",
   "execution_count": 40,
   "id": "889e8d5c-7d3c-4834-a20c-8475f848776e",
   "metadata": {
    "tags": []
   },
   "outputs": [],
   "source": [
    "#reading data using pandas\n",
    "fuel_economy_df=pd.read_csv('FuelEconomy.csv')"
   ]
  },
  {
   "cell_type": "code",
   "execution_count": 41,
   "id": "d6da51ba-45f7-4858-86a4-de8df6332c11",
   "metadata": {
    "tags": []
   },
   "outputs": [
    {
     "data": {
      "text/html": [
       "<div>\n",
       "<style scoped>\n",
       "    .dataframe tbody tr th:only-of-type {\n",
       "        vertical-align: middle;\n",
       "    }\n",
       "\n",
       "    .dataframe tbody tr th {\n",
       "        vertical-align: top;\n",
       "    }\n",
       "\n",
       "    .dataframe thead th {\n",
       "        text-align: right;\n",
       "    }\n",
       "</style>\n",
       "<table border=\"1\" class=\"dataframe\">\n",
       "  <thead>\n",
       "    <tr style=\"text-align: right;\">\n",
       "      <th></th>\n",
       "      <th>Horse Power</th>\n",
       "      <th>Fuel Economy (MPG)</th>\n",
       "    </tr>\n",
       "  </thead>\n",
       "  <tbody>\n",
       "    <tr>\n",
       "      <th>0</th>\n",
       "      <td>118.770799</td>\n",
       "      <td>29.344195</td>\n",
       "    </tr>\n",
       "    <tr>\n",
       "      <th>1</th>\n",
       "      <td>176.326567</td>\n",
       "      <td>24.695934</td>\n",
       "    </tr>\n",
       "    <tr>\n",
       "      <th>2</th>\n",
       "      <td>219.262465</td>\n",
       "      <td>23.952010</td>\n",
       "    </tr>\n",
       "    <tr>\n",
       "      <th>3</th>\n",
       "      <td>187.310009</td>\n",
       "      <td>23.384546</td>\n",
       "    </tr>\n",
       "    <tr>\n",
       "      <th>4</th>\n",
       "      <td>218.594340</td>\n",
       "      <td>23.426739</td>\n",
       "    </tr>\n",
       "    <tr>\n",
       "      <th>...</th>\n",
       "      <td>...</td>\n",
       "      <td>...</td>\n",
       "    </tr>\n",
       "    <tr>\n",
       "      <th>95</th>\n",
       "      <td>162.810542</td>\n",
       "      <td>27.418661</td>\n",
       "    </tr>\n",
       "    <tr>\n",
       "      <th>96</th>\n",
       "      <td>266.869640</td>\n",
       "      <td>15.989945</td>\n",
       "    </tr>\n",
       "    <tr>\n",
       "      <th>97</th>\n",
       "      <td>243.831211</td>\n",
       "      <td>19.253375</td>\n",
       "    </tr>\n",
       "    <tr>\n",
       "      <th>98</th>\n",
       "      <td>140.959803</td>\n",
       "      <td>29.515593</td>\n",
       "    </tr>\n",
       "    <tr>\n",
       "      <th>99</th>\n",
       "      <td>184.123053</td>\n",
       "      <td>25.196097</td>\n",
       "    </tr>\n",
       "  </tbody>\n",
       "</table>\n",
       "<p>100 rows × 2 columns</p>\n",
       "</div>"
      ],
      "text/plain": [
       "    Horse Power  Fuel Economy (MPG)\n",
       "0    118.770799           29.344195\n",
       "1    176.326567           24.695934\n",
       "2    219.262465           23.952010\n",
       "3    187.310009           23.384546\n",
       "4    218.594340           23.426739\n",
       "..          ...                 ...\n",
       "95   162.810542           27.418661\n",
       "96   266.869640           15.989945\n",
       "97   243.831211           19.253375\n",
       "98   140.959803           29.515593\n",
       "99   184.123053           25.196097\n",
       "\n",
       "[100 rows x 2 columns]"
      ]
     },
     "execution_count": 41,
     "metadata": {},
     "output_type": "execute_result"
    }
   ],
   "source": [
    "#view the dataframe\n",
    "fuel_economy_df"
   ]
  },
  {
   "cell_type": "code",
   "execution_count": 42,
   "id": "baa528bb-0b53-4f82-a35c-c12bf639af85",
   "metadata": {
    "tags": []
   },
   "outputs": [
    {
     "data": {
      "text/plain": [
       "<bound method NDFrame.head of     Horse Power  Fuel Economy (MPG)\n",
       "0    118.770799           29.344195\n",
       "1    176.326567           24.695934\n",
       "2    219.262465           23.952010\n",
       "3    187.310009           23.384546\n",
       "4    218.594340           23.426739\n",
       "..          ...                 ...\n",
       "95   162.810542           27.418661\n",
       "96   266.869640           15.989945\n",
       "97   243.831211           19.253375\n",
       "98   140.959803           29.515593\n",
       "99   184.123053           25.196097\n",
       "\n",
       "[100 rows x 2 columns]>"
      ]
     },
     "execution_count": 42,
     "metadata": {},
     "output_type": "execute_result"
    }
   ],
   "source": [
    "fuel_economy_df.head"
   ]
  },
  {
   "cell_type": "code",
   "execution_count": 43,
   "id": "bcdbd68b-e77f-4b96-828e-1514101a91a6",
   "metadata": {
    "tags": []
   },
   "outputs": [],
   "source": [
    "#Seprate the data into input X and output Y\n",
    "x=fuel_economy_df[['Horse Power']]\n",
    "y=fuel_economy_df[['Fuel Economy (MPG)']]"
   ]
  },
  {
   "cell_type": "code",
   "execution_count": 44,
   "id": "05849922-a8ee-44ca-96ba-c78a13a41061",
   "metadata": {
    "tags": []
   },
   "outputs": [
    {
     "data": {
      "text/plain": [
       "(100, 1)"
      ]
     },
     "execution_count": 44,
     "metadata": {},
     "output_type": "execute_result"
    }
   ],
   "source": [
    "x.shape #shape of input"
   ]
  },
  {
   "cell_type": "code",
   "execution_count": 45,
   "id": "530f091b-8754-44f1-91c7-145f39ae7574",
   "metadata": {
    "tags": []
   },
   "outputs": [
    {
     "data": {
      "text/plain": [
       "(100, 1)"
      ]
     },
     "execution_count": 45,
     "metadata": {},
     "output_type": "execute_result"
    }
   ],
   "source": [
    "y.shape"
   ]
  },
  {
   "cell_type": "code",
   "execution_count": 46,
   "id": "c89469dc-133c-4147-840b-c036a9f1f872",
   "metadata": {
    "tags": []
   },
   "outputs": [],
   "source": [
    "#Convert data into float32\n",
    "X=np.array(x).astype('float32')\n",
    "Y=np.array(y).astype('float32')"
   ]
  },
  {
   "cell_type": "code",
   "execution_count": 47,
   "id": "2303f4b4-7b8f-4c9b-be36-fb8815a7fb4f",
   "metadata": {
    "tags": []
   },
   "outputs": [
    {
     "data": {
      "text/plain": [
       "array([[118.7708  ],\n",
       "       [176.32657 ],\n",
       "       [219.26247 ],\n",
       "       [187.31001 ],\n",
       "       [218.59435 ],\n",
       "       [175.8381  ],\n",
       "       [271.44162 ],\n",
       "       [294.4259  ],\n",
       "       [126.211006],\n",
       "       [163.35034 ],\n",
       "       [321.84076 ],\n",
       "       [120.48424 ],\n",
       "       [155.41537 ],\n",
       "       [191.71481 ],\n",
       "       [211.72911 ],\n",
       "       [259.1832  ],\n",
       "       [236.57173 ],\n",
       "       [191.09897 ],\n",
       "       [123.8857  ],\n",
       "       [136.30646 ],\n",
       "       [212.73895 ],\n",
       "       [232.44995 ],\n",
       "       [122.04016 ],\n",
       "       [140.43231 ],\n",
       "       [243.34784 ],\n",
       "       [178.43028 ],\n",
       "       [258.42422 ],\n",
       "       [231.8549  ],\n",
       "       [ 91.44026 ],\n",
       "       [119.53666 ],\n",
       "       [350.      ],\n",
       "       [175.97922 ],\n",
       "       [312.49222 ],\n",
       "       [282.60425 ],\n",
       "       [138.26474 ],\n",
       "       [301.05417 ],\n",
       "       [227.8735  ],\n",
       "       [ 50.      ],\n",
       "       [152.34785 ],\n",
       "       [252.55238 ],\n",
       "       [218.10709 ],\n",
       "       [172.64366 ],\n",
       "       [243.73724 ],\n",
       "       [186.04004 ],\n",
       "       [227.67047 ],\n",
       "       [132.66957 ],\n",
       "       [196.85954 ],\n",
       "       [244.35834 ],\n",
       "       [161.41107 ],\n",
       "       [133.82306 ],\n",
       "       [150.50624 ],\n",
       "       [290.8872  ],\n",
       "       [245.8204  ],\n",
       "       [250.70929 ],\n",
       "       [272.90573 ],\n",
       "       [199.14764 ],\n",
       "       [251.4245  ],\n",
       "       [284.9286  ],\n",
       "       [201.62646 ],\n",
       "       [173.93932 ],\n",
       "       [230.46268 ],\n",
       "       [289.49    ],\n",
       "       [220.72095 ],\n",
       "       [212.08304 ],\n",
       "       [188.50523 ],\n",
       "       [181.06793 ],\n",
       "       [245.55965 ],\n",
       "       [ 84.57199 ],\n",
       "       [311.75745 ],\n",
       "       [315.8175  ],\n",
       "       [223.17964 ],\n",
       "       [299.53046 ],\n",
       "       [175.3489  ],\n",
       "       [261.8521  ],\n",
       "       [258.30835 ],\n",
       "       [220.09859 ],\n",
       "       [214.4845  ],\n",
       "       [320.95135 ],\n",
       "       [258.65988 ],\n",
       "       [236.46445 ],\n",
       "       [198.95831 ],\n",
       "       [249.884   ],\n",
       "       [216.2812  ],\n",
       "       [232.21661 ],\n",
       "       [224.34207 ],\n",
       "       [238.83649 ],\n",
       "       [331.6986  ],\n",
       "       [106.25756 ],\n",
       "       [203.57166 ],\n",
       "       [342.90625 ],\n",
       "       [237.67308 ],\n",
       "       [205.0468  ],\n",
       "       [227.38013 ],\n",
       "       [131.54211 ],\n",
       "       [260.67444 ],\n",
       "       [162.81055 ],\n",
       "       [266.86963 ],\n",
       "       [243.8312  ],\n",
       "       [140.95981 ],\n",
       "       [184.12305 ]], dtype=float32)"
      ]
     },
     "execution_count": 47,
     "metadata": {},
     "output_type": "execute_result"
    }
   ],
   "source": [
    "#only take numerical variable\n",
    "X"
   ]
  },
  {
   "cell_type": "code",
   "execution_count": 48,
   "id": "02e31074-d7d7-421f-9e9c-35d6a1951f23",
   "metadata": {
    "tags": []
   },
   "outputs": [],
   "source": [
    "# Splitting the data and testing using sklearn library\n",
    "from sklearn.model_selection import train_test_split\n",
    "X_train,X_test,Y_train,Y_test=train_test_split(X,Y,test_size=0.2)"
   ]
  },
  {
   "cell_type": "code",
   "execution_count": 49,
   "id": "51dbd643-fe72-466e-a0de-7452e311837a",
   "metadata": {
    "tags": []
   },
   "outputs": [],
   "source": [
    "# Train a linear model using AWS Sagemaker\n",
    "import sagemaker\n",
    "import boto3 #It is AWS SDk for python.It facilates the libraries and method of python"
   ]
  },
  {
   "cell_type": "code",
   "execution_count": 50,
   "id": "c41d70b2-d716-4398-a29d-7cc97002ac70",
   "metadata": {
    "tags": []
   },
   "outputs": [],
   "source": [
    "# create bucket\n",
    "bucket='aws.ml.engineer5' #bucket need to created forhead\n",
    "prefix='linear_learner_fuel_economy' #subfolder within bucket"
   ]
  },
  {
   "cell_type": "code",
   "execution_count": 51,
   "id": "e8d74de7-dc5c-4b2d-a2de-bea5791ff88e",
   "metadata": {
    "tags": []
   },
   "outputs": [
    {
     "name": "stdout",
     "output_type": "stream",
     "text": [
      "arn:aws:iam::451246788348:role/service-role/AmazonSageMaker-ExecutionRole-20221121T170854\n"
     ]
    }
   ],
   "source": [
    "role=sagemaker.get_execution_role() #making role to access the bucket \n",
    "print(role)"
   ]
  },
  {
   "cell_type": "code",
   "execution_count": 52,
   "id": "78cdffa8-7b80-4d21-9d82-cbda1aebb46b",
   "metadata": {
    "tags": []
   },
   "outputs": [
    {
     "data": {
      "text/plain": [
       "(80, 1)"
      ]
     },
     "execution_count": 52,
     "metadata": {},
     "output_type": "execute_result"
    }
   ],
   "source": [
    "X_train.shape"
   ]
  },
  {
   "cell_type": "code",
   "execution_count": 53,
   "id": "69dbb9b2-a7d6-46be-a20e-31bf1ab60607",
   "metadata": {
    "tags": []
   },
   "outputs": [],
   "source": [
    "Y_train=Y_train[:,0]"
   ]
  },
  {
   "cell_type": "code",
   "execution_count": 54,
   "id": "a2eb483b-94f1-46ef-ab92-79f832636807",
   "metadata": {
    "tags": []
   },
   "outputs": [
    {
     "data": {
      "text/plain": [
       "(80,)"
      ]
     },
     "execution_count": 54,
     "metadata": {},
     "output_type": "execute_result"
    }
   ],
   "source": [
    "Y_train.shape"
   ]
  },
  {
   "cell_type": "code",
   "execution_count": 69,
   "id": "ab89f263-8c10-4b61-900b-927a6b8ca259",
   "metadata": {
    "tags": []
   },
   "outputs": [],
   "source": [
    "import io #This will allow for various I/O operation\n",
    "import sagemaker.amazon.common as smac #sagemaker common library \n",
    "sagemaker_session=sagemaker.Session() #creating sagemaker session so that ml commands can be used in this\n"
   ]
  },
  {
   "cell_type": "code",
   "execution_count": 56,
   "id": "fd92717c-d52d-4296-80e6-334f25ff66d0",
   "metadata": {
    "tags": []
   },
   "outputs": [
    {
     "data": {
      "text/plain": [
       "0"
      ]
     },
     "execution_count": 56,
     "metadata": {},
     "output_type": "execute_result"
    }
   ],
   "source": [
    "#COnverting the data into numpy array format to Record IO format\n",
    "#this is the format required by sagemaker linear learner\n",
    "buf=io.BytesIO() #create an in-memory byte array\n",
    "smac.write_numpy_to_dense_tensor(buf,X_train,Y_train)\n",
    "buf.seek(0)"
   ]
  },
  {
   "cell_type": "code",
   "execution_count": 57,
   "id": "f938c11d-734f-4f10-a474-866457baff34",
   "metadata": {
    "tags": []
   },
   "outputs": [],
   "source": [
    "#Code to upload RecordIO data to S3\n",
    "#key refers to name of the file\n",
    "key='linear-train-data'"
   ]
  },
  {
   "cell_type": "code",
   "execution_count": 58,
   "id": "022e567e-94ec-4669-8e88-1302b77dfa17",
   "metadata": {
    "tags": []
   },
   "outputs": [
    {
     "name": "stdout",
     "output_type": "stream",
     "text": [
      "uploaded training data location: s3://aws.ml.engineer5/linear_learner_fuel_economy/train/linear-train-data\n"
     ]
    }
   ],
   "source": [
    "# The following code uploads the data in record-io format to S3 bucket to be accessed later for training\n",
    "import os\n",
    "boto3.resource('s3').Bucket(bucket).Object(os.path.join(prefix, 'train', key)).upload_fileobj(buf)\n",
    " \n",
    "# Let's print out the training data location in s3\n",
    "s3_train_data = 's3://{}/{}/train/{}'.format(bucket, prefix, key)\n",
    "print('uploaded training data location: {}'.format(s3_train_data))"
   ]
  },
  {
   "cell_type": "code",
   "execution_count": 59,
   "id": "a897a262-032c-41a7-a99d-1ce601b5357d",
   "metadata": {
    "tags": []
   },
   "outputs": [
    {
     "data": {
      "text/plain": [
       "(20, 1)"
      ]
     },
     "execution_count": 59,
     "metadata": {},
     "output_type": "execute_result"
    }
   ],
   "source": [
    "X_test.shape"
   ]
  },
  {
   "cell_type": "code",
   "execution_count": 60,
   "id": "efc958ca-19ee-4ea3-8649-0563732a5d54",
   "metadata": {
    "tags": []
   },
   "outputs": [
    {
     "data": {
      "text/plain": [
       "(20, 1)"
      ]
     },
     "execution_count": 60,
     "metadata": {},
     "output_type": "execute_result"
    }
   ],
   "source": [
    "Y_test.shape\n"
   ]
  },
  {
   "cell_type": "code",
   "execution_count": 61,
   "id": "3057aee3-cb4d-4de9-8b90-a709142d2f2d",
   "metadata": {
    "tags": []
   },
   "outputs": [],
   "source": [
    "#make sure that the target label is a vector\n",
    "Y_test=Y_test[:,0]"
   ]
  },
  {
   "cell_type": "code",
   "execution_count": 62,
   "id": "43bce8a8-fa81-4f9b-ab1f-4e392dd31df6",
   "metadata": {
    "tags": []
   },
   "outputs": [
    {
     "data": {
      "text/plain": [
       "0"
      ]
     },
     "execution_count": 62,
     "metadata": {},
     "output_type": "execute_result"
    }
   ],
   "source": [
    "buf=io.BytesIO() #create an in-memory byte array\n",
    "smac.write_numpy_to_dense_tensor(buf,X_test,Y_test)\n",
    "buf.seek(0)"
   ]
  },
  {
   "cell_type": "code",
   "execution_count": 63,
   "id": "60da4083-2700-4e21-a196-9b579208397e",
   "metadata": {
    "tags": []
   },
   "outputs": [
    {
     "name": "stdout",
     "output_type": "stream",
     "text": [
      "uploaded training data location: s3://aws.ml.engineer5/linear_learner_fuel_economy/test/linear-test-data\n"
     ]
    }
   ],
   "source": [
    "# The following code uploads the data in record-io format to S3 bucket to be accessed later for training\n",
    "import os\n",
    "key='linear-test-data'\n",
    "boto3.resource('s3').Bucket(bucket).Object(os.path.join(prefix, 'test', key)).upload_fileobj(buf)\n",
    " \n",
    "# Let's print out the training data location in s3\n",
    "s3_test_data = 's3://{}/{}/test/{}'.format(bucket, prefix, key)\n",
    "print('uploaded training data location: {}'.format(s3_test_data))"
   ]
  },
  {
   "cell_type": "code",
   "execution_count": 64,
   "id": "62626480-10ec-4f3b-84f4-29e429af61e9",
   "metadata": {},
   "outputs": [
    {
     "name": "stdout",
     "output_type": "stream",
     "text": [
      "Training artifacts will be uploaded to:s3://aws.ml.engineer5/linear_learner_fuel_economy/output\n"
     ]
    }
   ],
   "source": [
    "#create an output placeholder in s3 bucket to stor the linear learner object\n",
    "\n",
    "output_location='s3://{}/{}/output'.format(bucket,prefix)\n",
    "print('Training artifacts will be uploaded to:{}'.format(output_location))"
   ]
  },
  {
   "cell_type": "code",
   "execution_count": 67,
   "id": "d39be499-c42c-4776-8b39-1ef8677693b3",
   "metadata": {
    "tags": []
   },
   "outputs": [],
   "source": [
    "#creating sagemaker container reviewer \n",
    "container=sagemaker.image_uris.retrieve('linear-learner',boto3.Session().region_name)"
   ]
  },
  {
   "cell_type": "code",
   "execution_count": 71,
   "id": "90a75b87-eee8-4c7a-8193-381924025484",
   "metadata": {
    "tags": []
   },
   "outputs": [],
   "source": [
    "#creating the model\n",
    "linear=sagemaker.estimator.Estimator(container,role,\n",
    "                                     instance_count=1,\n",
    "                                     instance_type='ml.m5.xlarge',\n",
    "                                     output_path=output_location,\n",
    "                                     sagemaker_session=sagemaker_session)\n",
    "                            "
   ]
  },
  {
   "cell_type": "code",
   "execution_count": 75,
   "id": "dd458a4e-a0cc-4b65-b9f6-c808d4348dbd",
   "metadata": {
    "tags": []
   },
   "outputs": [],
   "source": [
    "#hyperparameters\n",
    "linear.set_hyperparameters(feature_dim=1,\n",
    "                           predictor_type='regressor',\n",
    "                           mini_batch_size=5,\n",
    "                           epochs=5,\n",
    "                           num_models=32,\n",
    "                           loss='absolute_loss')\n",
    "                           \n",
    "                        "
   ]
  },
  {
   "cell_type": "code",
   "execution_count": 76,
   "id": "e94c8b6f-e905-4334-b1b9-89dc4c48f1cc",
   "metadata": {
    "tags": []
   },
   "outputs": [
    {
     "name": "stdout",
     "output_type": "stream",
     "text": [
      "2022-11-23 09:12:15 Starting - Starting the training job...\n",
      "2022-11-23 09:12:38 Starting - Preparing the instances for trainingProfilerReport-1669194735: InProgress\n",
      "......\n",
      "2022-11-23 09:13:41 Downloading - Downloading input data...\n",
      "2022-11-23 09:14:06 Training - Downloading the training image......\n",
      "2022-11-23 09:15:07 Training - Training image download completed. Training in progress..\u001b[34mDocker entrypoint called with argument(s): train\u001b[0m\n",
      "\u001b[34mRunning default environment configuration script\u001b[0m\n",
      "\u001b[34m[11/23/2022 09:15:09 INFO 140521975678784] Reading default configuration from /opt/amazon/lib/python3.7/site-packages/algorithm/resources/default-input.json: {'mini_batch_size': '1000', 'epochs': '15', 'feature_dim': 'auto', 'use_bias': 'true', 'binary_classifier_model_selection_criteria': 'accuracy', 'f_beta': '1.0', 'target_recall': '0.8', 'target_precision': '0.8', 'num_models': 'auto', 'num_calibration_samples': '10000000', 'init_method': 'uniform', 'init_scale': '0.07', 'init_sigma': '0.01', 'init_bias': '0.0', 'optimizer': 'auto', 'loss': 'auto', 'margin': '1.0', 'quantile': '0.5', 'loss_insensitivity': '0.01', 'huber_delta': '1.0', 'num_classes': '1', 'accuracy_top_k': '3', 'wd': 'auto', 'l1': 'auto', 'momentum': 'auto', 'learning_rate': 'auto', 'beta_1': 'auto', 'beta_2': 'auto', 'bias_lr_mult': 'auto', 'bias_wd_mult': 'auto', 'use_lr_scheduler': 'true', 'lr_scheduler_step': 'auto', 'lr_scheduler_factor': 'auto', 'lr_scheduler_minimum_lr': 'auto', 'positive_example_weight_mult': '1.0', 'balance_multiclass_weights': 'false', 'normalize_data': 'true', 'normalize_label': 'auto', 'unbias_data': 'auto', 'unbias_label': 'auto', 'num_point_for_scaler': '10000', '_kvstore': 'auto', '_num_gpus': 'auto', '_num_kv_servers': 'auto', '_log_level': 'info', '_tuning_objective_metric': '', 'early_stopping_patience': '3', 'early_stopping_tolerance': '0.001', '_enable_profiler': 'false'}\u001b[0m\n",
      "\u001b[34m[11/23/2022 09:15:09 INFO 140521975678784] Merging with provided configuration from /opt/ml/input/config/hyperparameters.json: {'epochs': '5', 'feature_dim': '1', 'loss': 'absolute_loss', 'mini_batch_size': '5', 'num_models': '32', 'predictor_type': 'regressor'}\u001b[0m\n",
      "\u001b[34m[11/23/2022 09:15:09 INFO 140521975678784] Final configuration: {'mini_batch_size': '5', 'epochs': '5', 'feature_dim': '1', 'use_bias': 'true', 'binary_classifier_model_selection_criteria': 'accuracy', 'f_beta': '1.0', 'target_recall': '0.8', 'target_precision': '0.8', 'num_models': '32', 'num_calibration_samples': '10000000', 'init_method': 'uniform', 'init_scale': '0.07', 'init_sigma': '0.01', 'init_bias': '0.0', 'optimizer': 'auto', 'loss': 'absolute_loss', 'margin': '1.0', 'quantile': '0.5', 'loss_insensitivity': '0.01', 'huber_delta': '1.0', 'num_classes': '1', 'accuracy_top_k': '3', 'wd': 'auto', 'l1': 'auto', 'momentum': 'auto', 'learning_rate': 'auto', 'beta_1': 'auto', 'beta_2': 'auto', 'bias_lr_mult': 'auto', 'bias_wd_mult': 'auto', 'use_lr_scheduler': 'true', 'lr_scheduler_step': 'auto', 'lr_scheduler_factor': 'auto', 'lr_scheduler_minimum_lr': 'auto', 'positive_example_weight_mult': '1.0', 'balance_multiclass_weights': 'false', 'normalize_data': 'true', 'normalize_label': 'auto', 'unbias_data': 'auto', 'unbias_label': 'auto', 'num_point_for_scaler': '10000', '_kvstore': 'auto', '_num_gpus': 'auto', '_num_kv_servers': 'auto', '_log_level': 'info', '_tuning_objective_metric': '', 'early_stopping_patience': '3', 'early_stopping_tolerance': '0.001', '_enable_profiler': 'false', 'predictor_type': 'regressor'}\u001b[0m\n",
      "\u001b[34m[11/23/2022 09:15:13 WARNING 140521975678784] Loggers have already been setup.\u001b[0m\n",
      "\u001b[34m[11/23/2022 09:15:13 INFO 140521975678784] Final configuration: {'mini_batch_size': '5', 'epochs': '5', 'feature_dim': '1', 'use_bias': 'true', 'binary_classifier_model_selection_criteria': 'accuracy', 'f_beta': '1.0', 'target_recall': '0.8', 'target_precision': '0.8', 'num_models': '32', 'num_calibration_samples': '10000000', 'init_method': 'uniform', 'init_scale': '0.07', 'init_sigma': '0.01', 'init_bias': '0.0', 'optimizer': 'auto', 'loss': 'absolute_loss', 'margin': '1.0', 'quantile': '0.5', 'loss_insensitivity': '0.01', 'huber_delta': '1.0', 'num_classes': '1', 'accuracy_top_k': '3', 'wd': 'auto', 'l1': 'auto', 'momentum': 'auto', 'learning_rate': 'auto', 'beta_1': 'auto', 'beta_2': 'auto', 'bias_lr_mult': 'auto', 'bias_wd_mult': 'auto', 'use_lr_scheduler': 'true', 'lr_scheduler_step': 'auto', 'lr_scheduler_factor': 'auto', 'lr_scheduler_minimum_lr': 'auto', 'positive_example_weight_mult': '1.0', 'balance_multiclass_weights': 'false', 'normalize_data': 'true', 'normalize_label': 'auto', 'unbias_data': 'auto', 'unbias_label': 'auto', 'num_point_for_scaler': '10000', '_kvstore': 'auto', '_num_gpus': 'auto', '_num_kv_servers': 'auto', '_log_level': 'info', '_tuning_objective_metric': '', 'early_stopping_patience': '3', 'early_stopping_tolerance': '0.001', '_enable_profiler': 'false', 'predictor_type': 'regressor'}\u001b[0m\n",
      "\u001b[34m[11/23/2022 09:15:13 WARNING 140521975678784] Loggers have already been setup.\u001b[0m\n",
      "\u001b[34mProcess 8 is a worker.\u001b[0m\n",
      "\u001b[34m[11/23/2022 09:15:13 INFO 140521975678784] Using default worker.\u001b[0m\n",
      "\u001b[34m[11/23/2022 09:15:13 INFO 140521975678784] Checkpoint loading and saving are disabled.\u001b[0m\n",
      "\u001b[34m[2022-11-23 09:15:13.358] [tensorio] [info] epoch_stats={\"data_pipeline\": \"/opt/ml/input/data/train\", \"epoch\": 0, \"duration\": 12, \"num_examples\": 1, \"num_bytes\": 240}\u001b[0m\n",
      "\u001b[34m[11/23/2022 09:15:13 INFO 140521975678784] Create Store: local\u001b[0m\n",
      "\u001b[34m[2022-11-23 09:15:13.436] [tensorio] [info] epoch_stats={\"data_pipeline\": \"/opt/ml/input/data/train\", \"epoch\": 1, \"duration\": 77, \"num_examples\": 16, \"num_bytes\": 3840}\u001b[0m\n",
      "\u001b[34m[11/23/2022 09:15:13 INFO 140521975678784] Scaler algorithm parameters\n",
      " <algorithm.scaler.ScalerAlgorithmStable object at 0x7fcd4899a2d0>\u001b[0m\n",
      "\u001b[34m[11/23/2022 09:15:13 INFO 140521975678784] Scaling model computed with parameters:\n",
      " {'stdev_label': \u001b[0m\n",
      "\u001b[34m[4.40207]\u001b[0m\n",
      "\u001b[34m<NDArray 1 @cpu(0)>, 'stdev_weight': \u001b[0m\n",
      "\u001b[34m[59.986233]\u001b[0m\n",
      "\u001b[34m<NDArray 1 @cpu(0)>, 'mean_label': \u001b[0m\n",
      "\u001b[34m[23.03506]\u001b[0m\n",
      "\u001b[34m<NDArray 1 @cpu(0)>, 'mean_weight': \u001b[0m\n",
      "\u001b[34m[216.03554]\u001b[0m\n",
      "\u001b[34m<NDArray 1 @cpu(0)>}\u001b[0m\n",
      "\u001b[34m[11/23/2022 09:15:13 INFO 140521975678784] nvidia-smi: took 0.032 seconds to run.\u001b[0m\n",
      "\u001b[34m[11/23/2022 09:15:13 INFO 140521975678784] nvidia-smi identified 0 GPUs.\u001b[0m\n",
      "\u001b[34m[11/23/2022 09:15:13 INFO 140521975678784] Number of GPUs being used: 0\u001b[0m\n",
      "\u001b[34m#metrics {\"StartTime\": 1669194913.5310066, \"EndTime\": 1669194913.5310397, \"Dimensions\": {\"Algorithm\": \"Linear Learner\", \"Host\": \"algo-1\", \"Operation\": \"training\", \"Meta\": \"init_train_data_iter\"}, \"Metrics\": {\"Total Records Seen\": {\"sum\": 85.0, \"count\": 1, \"min\": 85, \"max\": 85}, \"Total Batches Seen\": {\"sum\": 17.0, \"count\": 1, \"min\": 17, \"max\": 17}, \"Max Records Seen Between Resets\": {\"sum\": 80.0, \"count\": 1, \"min\": 80, \"max\": 80}, \"Max Batches Seen Between Resets\": {\"sum\": 16.0, \"count\": 1, \"min\": 16, \"max\": 16}, \"Reset Count\": {\"sum\": 2.0, \"count\": 1, \"min\": 2, \"max\": 2}, \"Number of Records Since Last Reset\": {\"sum\": 0.0, \"count\": 1, \"min\": 0, \"max\": 0}, \"Number of Batches Since Last Reset\": {\"sum\": 0.0, \"count\": 1, \"min\": 0, \"max\": 0}}}\u001b[0m\n",
      "\u001b[34m[2022-11-23 09:15:13.741] [tensorio] [info] epoch_stats={\"data_pipeline\": \"/opt/ml/input/data/train\", \"epoch\": 4, \"duration\": 209, \"num_examples\": 16, \"num_bytes\": 3840}\u001b[0m\n",
      "\u001b[34m#metrics {\"StartTime\": 1669194913.7410643, \"EndTime\": 1669194913.7411332, \"Dimensions\": {\"Algorithm\": \"Linear Learner\", \"Host\": \"algo-1\", \"Operation\": \"training\", \"epoch\": 0, \"model\": 0}, \"Metrics\": {\"train_absolute_loss_objective\": {\"sum\": 0.7642759710550309, \"count\": 1, \"min\": 0.7642759710550309, \"max\": 0.7642759710550309}}}\u001b[0m\n",
      "\u001b[34m#metrics {\"StartTime\": 1669194913.7412014, \"EndTime\": 1669194913.7412148, \"Dimensions\": {\"Algorithm\": \"Linear Learner\", \"Host\": \"algo-1\", \"Operation\": \"training\", \"epoch\": 0, \"model\": 1}, \"Metrics\": {\"train_absolute_loss_objective\": {\"sum\": 0.7478272557258606, \"count\": 1, \"min\": 0.7478272557258606, \"max\": 0.7478272557258606}}}\u001b[0m\n",
      "\u001b[34m#metrics {\"StartTime\": 1669194913.741252, \"EndTime\": 1669194913.7412615, \"Dimensions\": {\"Algorithm\": \"Linear Learner\", \"Host\": \"algo-1\", \"Operation\": \"training\", \"epoch\": 0, \"model\": 2}, \"Metrics\": {\"train_absolute_loss_objective\": {\"sum\": 0.7622852131724358, \"count\": 1, \"min\": 0.7622852131724358, \"max\": 0.7622852131724358}}}\u001b[0m\n",
      "\u001b[34m#metrics {\"StartTime\": 1669194913.7412927, \"EndTime\": 1669194913.7413008, \"Dimensions\": {\"Algorithm\": \"Linear Learner\", \"Host\": \"algo-1\", \"Operation\": \"training\", \"epoch\": 0, \"model\": 3}, \"Metrics\": {\"train_absolute_loss_objective\": {\"sum\": 0.7486670970916748, \"count\": 1, \"min\": 0.7486670970916748, \"max\": 0.7486670970916748}}}\u001b[0m\n",
      "\u001b[34m#metrics {\"StartTime\": 1669194913.7413306, \"EndTime\": 1669194913.7413383, \"Dimensions\": {\"Algorithm\": \"Linear Learner\", \"Host\": \"algo-1\", \"Operation\": \"training\", \"epoch\": 0, \"model\": 4}, \"Metrics\": {\"train_absolute_loss_objective\": {\"sum\": 0.5350209653377533, \"count\": 1, \"min\": 0.5350209653377533, \"max\": 0.5350209653377533}}}\u001b[0m\n",
      "\u001b[34m#metrics {\"StartTime\": 1669194913.7413712, \"EndTime\": 1669194913.7413785, \"Dimensions\": {\"Algorithm\": \"Linear Learner\", \"Host\": \"algo-1\", \"Operation\": \"training\", \"epoch\": 0, \"model\": 5}, \"Metrics\": {\"train_absolute_loss_objective\": {\"sum\": 0.5414020508527756, \"count\": 1, \"min\": 0.5414020508527756, \"max\": 0.5414020508527756}}}\u001b[0m\n",
      "\u001b[34m#metrics {\"StartTime\": 1669194913.7414055, \"EndTime\": 1669194913.7414107, \"Dimensions\": {\"Algorithm\": \"Linear Learner\", \"Host\": \"algo-1\", \"Operation\": \"training\", \"epoch\": 0, \"model\": 6}, \"Metrics\": {\"train_absolute_loss_objective\": {\"sum\": 0.5077429346740245, \"count\": 1, \"min\": 0.5077429346740245, \"max\": 0.5077429346740245}}}\u001b[0m\n",
      "\u001b[34m#metrics {\"StartTime\": 1669194913.7414343, \"EndTime\": 1669194913.7414422, \"Dimensions\": {\"Algorithm\": \"Linear Learner\", \"Host\": \"algo-1\", \"Operation\": \"training\", \"epoch\": 0, \"model\": 7}, \"Metrics\": {\"train_absolute_loss_objective\": {\"sum\": 0.5163154378533363, \"count\": 1, \"min\": 0.5163154378533363, \"max\": 0.5163154378533363}}}\u001b[0m\n",
      "\u001b[34m#metrics {\"StartTime\": 1669194913.7414749, \"EndTime\": 1669194913.7414837, \"Dimensions\": {\"Algorithm\": \"Linear Learner\", \"Host\": \"algo-1\", \"Operation\": \"training\", \"epoch\": 0, \"model\": 8}, \"Metrics\": {\"train_absolute_loss_objective\": {\"sum\": 0.7181371852755547, \"count\": 1, \"min\": 0.7181371852755547, \"max\": 0.7181371852755547}}}\u001b[0m\n",
      "\u001b[34m#metrics {\"StartTime\": 1669194913.741532, \"EndTime\": 1669194913.741542, \"Dimensions\": {\"Algorithm\": \"Linear Learner\", \"Host\": \"algo-1\", \"Operation\": \"training\", \"epoch\": 0, \"model\": 9}, \"Metrics\": {\"train_absolute_loss_objective\": {\"sum\": 0.7741917401552201, \"count\": 1, \"min\": 0.7741917401552201, \"max\": 0.7741917401552201}}}\u001b[0m\n",
      "\u001b[34m#metrics {\"StartTime\": 1669194913.741575, \"EndTime\": 1669194913.7415836, \"Dimensions\": {\"Algorithm\": \"Linear Learner\", \"Host\": \"algo-1\", \"Operation\": \"training\", \"epoch\": 0, \"model\": 10}, \"Metrics\": {\"train_absolute_loss_objective\": {\"sum\": 0.7686771348118782, \"count\": 1, \"min\": 0.7686771348118782, \"max\": 0.7686771348118782}}}\u001b[0m\n",
      "\u001b[34m#metrics {\"StartTime\": 1669194913.7416189, \"EndTime\": 1669194913.7416284, \"Dimensions\": {\"Algorithm\": \"Linear Learner\", \"Host\": \"algo-1\", \"Operation\": \"training\", \"epoch\": 0, \"model\": 11}, \"Metrics\": {\"train_absolute_loss_objective\": {\"sum\": 0.7814309030771256, \"count\": 1, \"min\": 0.7814309030771256, \"max\": 0.7814309030771256}}}\u001b[0m\n",
      "\u001b[34m#metrics {\"StartTime\": 1669194913.7416666, \"EndTime\": 1669194913.7416766, \"Dimensions\": {\"Algorithm\": \"Linear Learner\", \"Host\": \"algo-1\", \"Operation\": \"training\", \"epoch\": 0, \"model\": 12}, \"Metrics\": {\"train_absolute_loss_objective\": {\"sum\": 0.5311715573072433, \"count\": 1, \"min\": 0.5311715573072433, \"max\": 0.5311715573072433}}}\u001b[0m\n",
      "\u001b[34m#metrics {\"StartTime\": 1669194913.7417114, \"EndTime\": 1669194913.7417207, \"Dimensions\": {\"Algorithm\": \"Linear Learner\", \"Host\": \"algo-1\", \"Operation\": \"training\", \"epoch\": 0, \"model\": 13}, \"Metrics\": {\"train_absolute_loss_objective\": {\"sum\": 0.5312431365251541, \"count\": 1, \"min\": 0.5312431365251541, \"max\": 0.5312431365251541}}}\u001b[0m\n",
      "\u001b[34m#metrics {\"StartTime\": 1669194913.7417545, \"EndTime\": 1669194913.7417634, \"Dimensions\": {\"Algorithm\": \"Linear Learner\", \"Host\": \"algo-1\", \"Operation\": \"training\", \"epoch\": 0, \"model\": 14}, \"Metrics\": {\"train_absolute_loss_objective\": {\"sum\": 0.5318394705653191, \"count\": 1, \"min\": 0.5318394705653191, \"max\": 0.5318394705653191}}}\u001b[0m\n",
      "\u001b[34m#metrics {\"StartTime\": 1669194913.7417955, \"EndTime\": 1669194913.7418041, \"Dimensions\": {\"Algorithm\": \"Linear Learner\", \"Host\": \"algo-1\", \"Operation\": \"training\", \"epoch\": 0, \"model\": 15}, \"Metrics\": {\"train_absolute_loss_objective\": {\"sum\": 0.528685363382101, \"count\": 1, \"min\": 0.528685363382101, \"max\": 0.528685363382101}}}\u001b[0m\n",
      "\u001b[34m#metrics {\"StartTime\": 1669194913.7418373, \"EndTime\": 1669194913.741846, \"Dimensions\": {\"Algorithm\": \"Linear Learner\", \"Host\": \"algo-1\", \"Operation\": \"training\", \"epoch\": 0, \"model\": 16}, \"Metrics\": {\"train_absolute_loss_objective\": {\"sum\": 0.7947286471724511, \"count\": 1, \"min\": 0.7947286471724511, \"max\": 0.7947286471724511}}}\u001b[0m\n",
      "\u001b[34m#metrics {\"StartTime\": 1669194913.7418797, \"EndTime\": 1669194913.7418892, \"Dimensions\": {\"Algorithm\": \"Linear Learner\", \"Host\": \"algo-1\", \"Operation\": \"training\", \"epoch\": 0, \"model\": 17}, \"Metrics\": {\"train_absolute_loss_objective\": {\"sum\": 0.7519301265478134, \"count\": 1, \"min\": 0.7519301265478134, \"max\": 0.7519301265478134}}}\u001b[0m\n",
      "\u001b[34m#metrics {\"StartTime\": 1669194913.741925, \"EndTime\": 1669194913.7419348, \"Dimensions\": {\"Algorithm\": \"Linear Learner\", \"Host\": \"algo-1\", \"Operation\": \"training\", \"epoch\": 0, \"model\": 18}, \"Metrics\": {\"train_absolute_loss_objective\": {\"sum\": 0.7717776134610176, \"count\": 1, \"min\": 0.7717776134610176, \"max\": 0.7717776134610176}}}\u001b[0m\n",
      "\u001b[34m#metrics {\"StartTime\": 1669194913.741969, \"EndTime\": 1669194913.7419782, \"Dimensions\": {\"Algorithm\": \"Linear Learner\", \"Host\": \"algo-1\", \"Operation\": \"training\", \"epoch\": 0, \"model\": 19}, \"Metrics\": {\"train_absolute_loss_objective\": {\"sum\": 0.7739795371890068, \"count\": 1, \"min\": 0.7739795371890068, \"max\": 0.7739795371890068}}}\u001b[0m\n",
      "\u001b[34m#metrics {\"StartTime\": 1669194913.7420092, \"EndTime\": 1669194913.7420175, \"Dimensions\": {\"Algorithm\": \"Linear Learner\", \"Host\": \"algo-1\", \"Operation\": \"training\", \"epoch\": 0, \"model\": 20}, \"Metrics\": {\"train_absolute_loss_objective\": {\"sum\": 0.5563935533165931, \"count\": 1, \"min\": 0.5563935533165931, \"max\": 0.5563935533165931}}}\u001b[0m\n",
      "\u001b[34m#metrics {\"StartTime\": 1669194913.742049, \"EndTime\": 1669194913.742058, \"Dimensions\": {\"Algorithm\": \"Linear Learner\", \"Host\": \"algo-1\", \"Operation\": \"training\", \"epoch\": 0, \"model\": 21}, \"Metrics\": {\"train_absolute_loss_objective\": {\"sum\": 0.5653872951865196, \"count\": 1, \"min\": 0.5653872951865196, \"max\": 0.5653872951865196}}}\u001b[0m\n",
      "\u001b[34m#metrics {\"StartTime\": 1669194913.7420914, \"EndTime\": 1669194913.7421005, \"Dimensions\": {\"Algorithm\": \"Linear Learner\", \"Host\": \"algo-1\", \"Operation\": \"training\", \"epoch\": 0, \"model\": 22}, \"Metrics\": {\"train_absolute_loss_objective\": {\"sum\": 0.5776678994297981, \"count\": 1, \"min\": 0.5776678994297981, \"max\": 0.5776678994297981}}}\u001b[0m\n",
      "\u001b[34m#metrics {\"StartTime\": 1669194913.742133, \"EndTime\": 1669194913.7421424, \"Dimensions\": {\"Algorithm\": \"Linear Learner\", \"Host\": \"algo-1\", \"Operation\": \"training\", \"epoch\": 0, \"model\": 23}, \"Metrics\": {\"train_absolute_loss_objective\": {\"sum\": 0.5578087151050568, \"count\": 1, \"min\": 0.5578087151050568, \"max\": 0.5578087151050568}}}\u001b[0m\n",
      "\u001b[34m#metrics {\"StartTime\": 1669194913.7421749, \"EndTime\": 1669194913.742184, \"Dimensions\": {\"Algorithm\": \"Linear Learner\", \"Host\": \"algo-1\", \"Operation\": \"training\", \"epoch\": 0, \"model\": 24}, \"Metrics\": {\"train_absolute_loss_objective\": {\"sum\": 0.8056782260537148, \"count\": 1, \"min\": 0.8056782260537148, \"max\": 0.8056782260537148}}}\u001b[0m\n",
      "\u001b[34m#metrics {\"StartTime\": 1669194913.7422154, \"EndTime\": 1669194913.7422252, \"Dimensions\": {\"Algorithm\": \"Linear Learner\", \"Host\": \"algo-1\", \"Operation\": \"training\", \"epoch\": 0, \"model\": 25}, \"Metrics\": {\"train_absolute_loss_objective\": {\"sum\": 0.7775153666734695, \"count\": 1, \"min\": 0.7775153666734695, \"max\": 0.7775153666734695}}}\u001b[0m\n",
      "\u001b[34m#metrics {\"StartTime\": 1669194913.742257, \"EndTime\": 1669194913.7422817, \"Dimensions\": {\"Algorithm\": \"Linear Learner\", \"Host\": \"algo-1\", \"Operation\": \"training\", \"epoch\": 0, \"model\": 26}, \"Metrics\": {\"train_absolute_loss_objective\": {\"sum\": 0.7780343502759933, \"count\": 1, \"min\": 0.7780343502759933, \"max\": 0.7780343502759933}}}\u001b[0m\n",
      "\u001b[34m#metrics {\"StartTime\": 1669194913.7423184, \"EndTime\": 1669194913.7423286, \"Dimensions\": {\"Algorithm\": \"Linear Learner\", \"Host\": \"algo-1\", \"Operation\": \"training\", \"epoch\": 0, \"model\": 27}, \"Metrics\": {\"train_absolute_loss_objective\": {\"sum\": 0.7781657382845879, \"count\": 1, \"min\": 0.7781657382845879, \"max\": 0.7781657382845879}}}\u001b[0m\n",
      "\u001b[34m#metrics {\"StartTime\": 1669194913.7423615, \"EndTime\": 1669194913.742371, \"Dimensions\": {\"Algorithm\": \"Linear Learner\", \"Host\": \"algo-1\", \"Operation\": \"training\", \"epoch\": 0, \"model\": 28}, \"Metrics\": {\"train_absolute_loss_objective\": {\"sum\": 0.8886722669005394, \"count\": 1, \"min\": 0.8886722669005394, \"max\": 0.8886722669005394}}}\u001b[0m\n",
      "\u001b[34m#metrics {\"StartTime\": 1669194913.742403, \"EndTime\": 1669194913.7424123, \"Dimensions\": {\"Algorithm\": \"Linear Learner\", \"Host\": \"algo-1\", \"Operation\": \"training\", \"epoch\": 0, \"model\": 29}, \"Metrics\": {\"train_absolute_loss_objective\": {\"sum\": 0.8888246163725853, \"count\": 1, \"min\": 0.8888246163725853, \"max\": 0.8888246163725853}}}\u001b[0m\n",
      "\u001b[34m#metrics {\"StartTime\": 1669194913.7424457, \"EndTime\": 1669194913.7424552, \"Dimensions\": {\"Algorithm\": \"Linear Learner\", \"Host\": \"algo-1\", \"Operation\": \"training\", \"epoch\": 0, \"model\": 30}, \"Metrics\": {\"train_absolute_loss_objective\": {\"sum\": 0.8887986183166504, \"count\": 1, \"min\": 0.8887986183166504, \"max\": 0.8887986183166504}}}\u001b[0m\n",
      "\u001b[34m#metrics {\"StartTime\": 1669194913.7424884, \"EndTime\": 1669194913.7424972, \"Dimensions\": {\"Algorithm\": \"Linear Learner\", \"Host\": \"algo-1\", \"Operation\": \"training\", \"epoch\": 0, \"model\": 31}, \"Metrics\": {\"train_absolute_loss_objective\": {\"sum\": 0.8902682408690452, \"count\": 1, \"min\": 0.8902682408690452, \"max\": 0.8902682408690452}}}\u001b[0m\n",
      "\u001b[34m[11/23/2022 09:15:13 INFO 140521975678784] #quality_metric: host=algo-1, epoch=0, train absolute_loss_objective <loss>=0.7642759710550309\u001b[0m\n",
      "\u001b[34m[11/23/2022 09:15:13 INFO 140521975678784] #early_stopping_criteria_metric: host=algo-1, epoch=0, criteria=absolute_loss_objective, value=0.5077429346740245\u001b[0m\n",
      "\u001b[34m[11/23/2022 09:15:13 INFO 140521975678784] Epoch 0: Loss improved. Updating best model\u001b[0m\n",
      "\u001b[34m[11/23/2022 09:15:13 INFO 140521975678784] Saving model for epoch: 0\u001b[0m\n",
      "\u001b[34m[11/23/2022 09:15:13 INFO 140521975678784] Saved checkpoint to \"/tmp/tmpmzhh51qq/mx-mod-0000.params\"\u001b[0m\n",
      "\u001b[34m[11/23/2022 09:15:13 INFO 140521975678784] #progress_metric: host=algo-1, completed 20.0 % of epochs\u001b[0m\n",
      "\u001b[34m#metrics {\"StartTime\": 1669194913.5313027, \"EndTime\": 1669194913.7522464, \"Dimensions\": {\"Algorithm\": \"Linear Learner\", \"Host\": \"algo-1\", \"Operation\": \"training\", \"epoch\": 0, \"Meta\": \"training_data_iter\"}, \"Metrics\": {\"Total Records Seen\": {\"sum\": 165.0, \"count\": 1, \"min\": 165, \"max\": 165}, \"Total Batches Seen\": {\"sum\": 33.0, \"count\": 1, \"min\": 33, \"max\": 33}, \"Max Records Seen Between Resets\": {\"sum\": 80.0, \"count\": 1, \"min\": 80, \"max\": 80}, \"Max Batches Seen Between Resets\": {\"sum\": 16.0, \"count\": 1, \"min\": 16, \"max\": 16}, \"Reset Count\": {\"sum\": 3.0, \"count\": 1, \"min\": 3, \"max\": 3}, \"Number of Records Since Last Reset\": {\"sum\": 80.0, \"count\": 1, \"min\": 80, \"max\": 80}, \"Number of Batches Since Last Reset\": {\"sum\": 16.0, \"count\": 1, \"min\": 16, \"max\": 16}}}\u001b[0m\n",
      "\u001b[34m[11/23/2022 09:15:13 INFO 140521975678784] #throughput_metric: host=algo-1, train throughput=361.91020203894095 records/second\u001b[0m\n",
      "\u001b[34m[2022-11-23 09:15:13.940] [tensorio] [info] epoch_stats={\"data_pipeline\": \"/opt/ml/input/data/train\", \"epoch\": 6, \"duration\": 187, \"num_examples\": 16, \"num_bytes\": 3840}\u001b[0m\n",
      "\u001b[34m#metrics {\"StartTime\": 1669194913.9405398, \"EndTime\": 1669194913.9406054, \"Dimensions\": {\"Algorithm\": \"Linear Learner\", \"Host\": \"algo-1\", \"Operation\": \"training\", \"epoch\": 1, \"model\": 0}, \"Metrics\": {\"train_absolute_loss_objective\": {\"sum\": 0.7048265665769577, \"count\": 1, \"min\": 0.7048265665769577, \"max\": 0.7048265665769577}}}\u001b[0m\n",
      "\u001b[34m#metrics {\"StartTime\": 1669194913.9406738, \"EndTime\": 1669194913.9406872, \"Dimensions\": {\"Algorithm\": \"Linear Learner\", \"Host\": \"algo-1\", \"Operation\": \"training\", \"epoch\": 1, \"model\": 1}, \"Metrics\": {\"train_absolute_loss_objective\": {\"sum\": 0.688155759871006, \"count\": 1, \"min\": 0.688155759871006, \"max\": 0.688155759871006}}}\u001b[0m\n",
      "\u001b[34m#metrics {\"StartTime\": 1669194913.9407253, \"EndTime\": 1669194913.9407356, \"Dimensions\": {\"Algorithm\": \"Linear Learner\", \"Host\": \"algo-1\", \"Operation\": \"training\", \"epoch\": 1, \"model\": 2}, \"Metrics\": {\"train_absolute_loss_objective\": {\"sum\": 0.7028667464852333, \"count\": 1, \"min\": 0.7028667464852333, \"max\": 0.7028667464852333}}}\u001b[0m\n",
      "\u001b[34m#metrics {\"StartTime\": 1669194913.9407737, \"EndTime\": 1669194913.9407833, \"Dimensions\": {\"Algorithm\": \"Linear Learner\", \"Host\": \"algo-1\", \"Operation\": \"training\", \"epoch\": 1, \"model\": 3}, \"Metrics\": {\"train_absolute_loss_objective\": {\"sum\": 0.6889825403690338, \"count\": 1, \"min\": 0.6889825403690338, \"max\": 0.6889825403690338}}}\u001b[0m\n",
      "\u001b[34m#metrics {\"StartTime\": 1669194913.9408207, \"EndTime\": 1669194913.9408302, \"Dimensions\": {\"Algorithm\": \"Linear Learner\", \"Host\": \"algo-1\", \"Operation\": \"training\", \"epoch\": 1, \"model\": 4}, \"Metrics\": {\"train_absolute_loss_objective\": {\"sum\": 0.3673922151327133, \"count\": 1, \"min\": 0.3673922151327133, \"max\": 0.3673922151327133}}}\u001b[0m\n",
      "\u001b[34m#metrics {\"StartTime\": 1669194913.9408672, \"EndTime\": 1669194913.9408765, \"Dimensions\": {\"Algorithm\": \"Linear Learner\", \"Host\": \"algo-1\", \"Operation\": \"training\", \"epoch\": 1, \"model\": 5}, \"Metrics\": {\"train_absolute_loss_objective\": {\"sum\": 0.33035467714071276, \"count\": 1, \"min\": 0.33035467714071276, \"max\": 0.33035467714071276}}}\u001b[0m\n",
      "\u001b[34m#metrics {\"StartTime\": 1669194913.9409132, \"EndTime\": 1669194913.9409227, \"Dimensions\": {\"Algorithm\": \"Linear Learner\", \"Host\": \"algo-1\", \"Operation\": \"training\", \"epoch\": 1, \"model\": 6}, \"Metrics\": {\"train_absolute_loss_objective\": {\"sum\": 0.3327275961637497, \"count\": 1, \"min\": 0.3327275961637497, \"max\": 0.3327275961637497}}}\u001b[0m\n",
      "\u001b[34m#metrics {\"StartTime\": 1669194913.940962, \"EndTime\": 1669194913.940972, \"Dimensions\": {\"Algorithm\": \"Linear Learner\", \"Host\": \"algo-1\", \"Operation\": \"training\", \"epoch\": 1, \"model\": 7}, \"Metrics\": {\"train_absolute_loss_objective\": {\"sum\": 0.35319901555776595, \"count\": 1, \"min\": 0.35319901555776595, \"max\": 0.35319901555776595}}}\u001b[0m\n",
      "\u001b[34m#metrics {\"StartTime\": 1669194913.941003, \"EndTime\": 1669194913.941011, \"Dimensions\": {\"Algorithm\": \"Linear Learner\", \"Host\": \"algo-1\", \"Operation\": \"training\", \"epoch\": 1, \"model\": 8}, \"Metrics\": {\"train_absolute_loss_objective\": {\"sum\": 0.6610042825341225, \"count\": 1, \"min\": 0.6610042825341225, \"max\": 0.6610042825341225}}}\u001b[0m\n",
      "\u001b[34m#metrics {\"StartTime\": 1669194913.9410465, \"EndTime\": 1669194913.941056, \"Dimensions\": {\"Algorithm\": \"Linear Learner\", \"Host\": \"algo-1\", \"Operation\": \"training\", \"epoch\": 1, \"model\": 9}, \"Metrics\": {\"train_absolute_loss_objective\": {\"sum\": 0.7141199722886086, \"count\": 1, \"min\": 0.7141199722886086, \"max\": 0.7141199722886086}}}\u001b[0m\n",
      "\u001b[34m#metrics {\"StartTime\": 1669194913.9410903, \"EndTime\": 1669194913.9411, \"Dimensions\": {\"Algorithm\": \"Linear Learner\", \"Host\": \"algo-1\", \"Operation\": \"training\", \"epoch\": 1, \"model\": 10}, \"Metrics\": {\"train_absolute_loss_objective\": {\"sum\": 0.7091695860028266, \"count\": 1, \"min\": 0.7091695860028266, \"max\": 0.7091695860028266}}}\u001b[0m\n",
      "\u001b[34m#metrics {\"StartTime\": 1669194913.941133, \"EndTime\": 1669194913.9411395, \"Dimensions\": {\"Algorithm\": \"Linear Learner\", \"Host\": \"algo-1\", \"Operation\": \"training\", \"epoch\": 1, \"model\": 11}, \"Metrics\": {\"train_absolute_loss_objective\": {\"sum\": 0.7205796137452125, \"count\": 1, \"min\": 0.7205796137452125, \"max\": 0.7205796137452125}}}\u001b[0m\n",
      "\u001b[34m#metrics {\"StartTime\": 1669194913.9411597, \"EndTime\": 1669194913.9411645, \"Dimensions\": {\"Algorithm\": \"Linear Learner\", \"Host\": \"algo-1\", \"Operation\": \"training\", \"epoch\": 1, \"model\": 12}, \"Metrics\": {\"train_absolute_loss_objective\": {\"sum\": 0.3872120060026646, \"count\": 1, \"min\": 0.3872120060026646, \"max\": 0.3872120060026646}}}\u001b[0m\n",
      "\u001b[34m#metrics {\"StartTime\": 1669194913.941189, \"EndTime\": 1669194913.9411955, \"Dimensions\": {\"Algorithm\": \"Linear Learner\", \"Host\": \"algo-1\", \"Operation\": \"training\", \"epoch\": 1, \"model\": 13}, \"Metrics\": {\"train_absolute_loss_objective\": {\"sum\": 0.34163641929626465, \"count\": 1, \"min\": 0.34163641929626465, \"max\": 0.34163641929626465}}}\u001b[0m\n",
      "\u001b[34m#metrics {\"StartTime\": 1669194913.9412184, \"EndTime\": 1669194913.9412253, \"Dimensions\": {\"Algorithm\": \"Linear Learner\", \"Host\": \"algo-1\", \"Operation\": \"training\", \"epoch\": 1, \"model\": 14}, \"Metrics\": {\"train_absolute_loss_objective\": {\"sum\": 0.38676438853144646, \"count\": 1, \"min\": 0.38676438853144646, \"max\": 0.38676438853144646}}}\u001b[0m\n",
      "\u001b[34m#metrics {\"StartTime\": 1669194913.9412544, \"EndTime\": 1669194913.941262, \"Dimensions\": {\"Algorithm\": \"Linear Learner\", \"Host\": \"algo-1\", \"Operation\": \"training\", \"epoch\": 1, \"model\": 15}, \"Metrics\": {\"train_absolute_loss_objective\": {\"sum\": 0.34250871315598486, \"count\": 1, \"min\": 0.34250871315598486, \"max\": 0.34250871315598486}}}\u001b[0m\n",
      "\u001b[34m#metrics {\"StartTime\": 1669194913.9412909, \"EndTime\": 1669194913.9412966, \"Dimensions\": {\"Algorithm\": \"Linear Learner\", \"Host\": \"algo-1\", \"Operation\": \"training\", \"epoch\": 1, \"model\": 16}, \"Metrics\": {\"train_absolute_loss_objective\": {\"sum\": 0.7351709440350532, \"count\": 1, \"min\": 0.7351709440350532, \"max\": 0.7351709440350532}}}\u001b[0m\n",
      "\u001b[34m#metrics {\"StartTime\": 1669194913.9413164, \"EndTime\": 1669194913.9413211, \"Dimensions\": {\"Algorithm\": \"Linear Learner\", \"Host\": \"algo-1\", \"Operation\": \"training\", \"epoch\": 1, \"model\": 17}, \"Metrics\": {\"train_absolute_loss_objective\": {\"sum\": 0.6936781600117683, \"count\": 1, \"min\": 0.6936781600117683, \"max\": 0.6936781600117683}}}\u001b[0m\n",
      "\u001b[34m#metrics {\"StartTime\": 1669194913.9413414, \"EndTime\": 1669194913.9413488, \"Dimensions\": {\"Algorithm\": \"Linear Learner\", \"Host\": \"algo-1\", \"Operation\": \"training\", \"epoch\": 1, \"model\": 18}, \"Metrics\": {\"train_absolute_loss_objective\": {\"sum\": 0.7132267564535141, \"count\": 1, \"min\": 0.7132267564535141, \"max\": 0.7132267564535141}}}\u001b[0m\n",
      "\u001b[34m#metrics {\"StartTime\": 1669194913.94138, \"EndTime\": 1669194913.9413884, \"Dimensions\": {\"Algorithm\": \"Linear Learner\", \"Host\": \"algo-1\", \"Operation\": \"training\", \"epoch\": 1, \"model\": 19}, \"Metrics\": {\"train_absolute_loss_objective\": {\"sum\": 0.7150993928313255, \"count\": 1, \"min\": 0.7150993928313255, \"max\": 0.7150993928313255}}}\u001b[0m\n",
      "\u001b[34m#metrics {\"StartTime\": 1669194913.9414153, \"EndTime\": 1669194913.941421, \"Dimensions\": {\"Algorithm\": \"Linear Learner\", \"Host\": \"algo-1\", \"Operation\": \"training\", \"epoch\": 1, \"model\": 20}, \"Metrics\": {\"train_absolute_loss_objective\": {\"sum\": 0.4625550016760826, \"count\": 1, \"min\": 0.4625550016760826, \"max\": 0.4625550016760826}}}\u001b[0m\n",
      "\u001b[34m#metrics {\"StartTime\": 1669194913.94144, \"EndTime\": 1669194913.9414449, \"Dimensions\": {\"Algorithm\": \"Linear Learner\", \"Host\": \"algo-1\", \"Operation\": \"training\", \"epoch\": 1, \"model\": 21}, \"Metrics\": {\"train_absolute_loss_objective\": {\"sum\": 0.5061424165964127, \"count\": 1, \"min\": 0.5061424165964127, \"max\": 0.5061424165964127}}}\u001b[0m\n",
      "\u001b[34m#metrics {\"StartTime\": 1669194913.9414632, \"EndTime\": 1669194913.9414709, \"Dimensions\": {\"Algorithm\": \"Linear Learner\", \"Host\": \"algo-1\", \"Operation\": \"training\", \"epoch\": 1, \"model\": 22}, \"Metrics\": {\"train_absolute_loss_objective\": {\"sum\": 0.4334591060876846, \"count\": 1, \"min\": 0.4334591060876846, \"max\": 0.4334591060876846}}}\u001b[0m\n",
      "\u001b[34m#metrics {\"StartTime\": 1669194913.9415014, \"EndTime\": 1669194913.94151, \"Dimensions\": {\"Algorithm\": \"Linear Learner\", \"Host\": \"algo-1\", \"Operation\": \"training\", \"epoch\": 1, \"model\": 23}, \"Metrics\": {\"train_absolute_loss_objective\": {\"sum\": 0.511079578101635, \"count\": 1, \"min\": 0.511079578101635, \"max\": 0.511079578101635}}}\u001b[0m\n",
      "\u001b[34m#metrics {\"StartTime\": 1669194913.941539, \"EndTime\": 1669194913.9415448, \"Dimensions\": {\"Algorithm\": \"Linear Learner\", \"Host\": \"algo-1\", \"Operation\": \"training\", \"epoch\": 1, \"model\": 24}, \"Metrics\": {\"train_absolute_loss_objective\": {\"sum\": 0.7625875666737556, \"count\": 1, \"min\": 0.7625875666737556, \"max\": 0.7625875666737556}}}\u001b[0m\n",
      "\u001b[34m#metrics {\"StartTime\": 1669194913.9415636, \"EndTime\": 1669194913.9415686, \"Dimensions\": {\"Algorithm\": \"Linear Learner\", \"Host\": \"algo-1\", \"Operation\": \"training\", \"epoch\": 1, \"model\": 25}, \"Metrics\": {\"train_absolute_loss_objective\": {\"sum\": 0.7679836124181747, \"count\": 1, \"min\": 0.7679836124181747, \"max\": 0.7679836124181747}}}\u001b[0m\n",
      "\u001b[34m#metrics {\"StartTime\": 1669194913.9415936, \"EndTime\": 1669194913.9416015, \"Dimensions\": {\"Algorithm\": \"Linear Learner\", \"Host\": \"algo-1\", \"Operation\": \"training\", \"epoch\": 1, \"model\": 26}, \"Metrics\": {\"train_absolute_loss_objective\": {\"sum\": 0.7695948466658592, \"count\": 1, \"min\": 0.7695948466658592, \"max\": 0.7695948466658592}}}\u001b[0m\n",
      "\u001b[34m#metrics {\"StartTime\": 1669194913.9416337, \"EndTime\": 1669194913.9416423, \"Dimensions\": {\"Algorithm\": \"Linear Learner\", \"Host\": \"algo-1\", \"Operation\": \"training\", \"epoch\": 1, \"model\": 27}, \"Metrics\": {\"train_absolute_loss_objective\": {\"sum\": 0.769274266064167, \"count\": 1, \"min\": 0.769274266064167, \"max\": 0.769274266064167}}}\u001b[0m\n",
      "\u001b[34m#metrics {\"StartTime\": 1669194913.9416623, \"EndTime\": 1669194913.9416673, \"Dimensions\": {\"Algorithm\": \"Linear Learner\", \"Host\": \"algo-1\", \"Operation\": \"training\", \"epoch\": 1, \"model\": 28}, \"Metrics\": {\"train_absolute_loss_objective\": {\"sum\": 0.8143422603607178, \"count\": 1, \"min\": 0.8143422603607178, \"max\": 0.8143422603607178}}}\u001b[0m\n",
      "\u001b[34m#metrics {\"StartTime\": 1669194913.941686, \"EndTime\": 1669194913.9416912, \"Dimensions\": {\"Algorithm\": \"Linear Learner\", \"Host\": \"algo-1\", \"Operation\": \"training\", \"epoch\": 1, \"model\": 29}, \"Metrics\": {\"train_absolute_loss_objective\": {\"sum\": 0.816015537083149, \"count\": 1, \"min\": 0.816015537083149, \"max\": 0.816015537083149}}}\u001b[0m\n",
      "\u001b[34m#metrics {\"StartTime\": 1669194913.9417195, \"EndTime\": 1669194913.941728, \"Dimensions\": {\"Algorithm\": \"Linear Learner\", \"Host\": \"algo-1\", \"Operation\": \"training\", \"epoch\": 1, \"model\": 30}, \"Metrics\": {\"train_absolute_loss_objective\": {\"sum\": 0.815996952354908, \"count\": 1, \"min\": 0.815996952354908, \"max\": 0.815996952354908}}}\u001b[0m\n",
      "\u001b[34m#metrics {\"StartTime\": 1669194913.9417586, \"EndTime\": 1669194913.9417648, \"Dimensions\": {\"Algorithm\": \"Linear Learner\", \"Host\": \"algo-1\", \"Operation\": \"training\", \"epoch\": 1, \"model\": 31}, \"Metrics\": {\"train_absolute_loss_objective\": {\"sum\": 0.8148397147655487, \"count\": 1, \"min\": 0.8148397147655487, \"max\": 0.8148397147655487}}}\u001b[0m\n",
      "\u001b[34m[11/23/2022 09:15:13 INFO 140521975678784] #quality_metric: host=algo-1, epoch=1, train absolute_loss_objective <loss>=0.7048265665769577\u001b[0m\n",
      "\u001b[34m[11/23/2022 09:15:13 INFO 140521975678784] #early_stopping_criteria_metric: host=algo-1, epoch=1, criteria=absolute_loss_objective, value=0.33035467714071276\u001b[0m\n",
      "\u001b[34m[11/23/2022 09:15:13 INFO 140521975678784] Epoch 1: Loss improved. Updating best model\u001b[0m\n",
      "\u001b[34m[11/23/2022 09:15:13 INFO 140521975678784] Saving model for epoch: 1\u001b[0m\n",
      "\u001b[34m[11/23/2022 09:15:13 INFO 140521975678784] Saved checkpoint to \"/tmp/tmpwycso0ui/mx-mod-0000.params\"\u001b[0m\n",
      "\u001b[34m[11/23/2022 09:15:13 INFO 140521975678784] #progress_metric: host=algo-1, completed 40.0 % of epochs\u001b[0m\n",
      "\u001b[34m#metrics {\"StartTime\": 1669194913.7524815, \"EndTime\": 1669194913.9484699, \"Dimensions\": {\"Algorithm\": \"Linear Learner\", \"Host\": \"algo-1\", \"Operation\": \"training\", \"epoch\": 1, \"Meta\": \"training_data_iter\"}, \"Metrics\": {\"Total Records Seen\": {\"sum\": 245.0, \"count\": 1, \"min\": 245, \"max\": 245}, \"Total Batches Seen\": {\"sum\": 49.0, \"count\": 1, \"min\": 49, \"max\": 49}, \"Max Records Seen Between Resets\": {\"sum\": 80.0, \"count\": 1, \"min\": 80, \"max\": 80}, \"Max Batches Seen Between Resets\": {\"sum\": 16.0, \"count\": 1, \"min\": 16, \"max\": 16}, \"Reset Count\": {\"sum\": 4.0, \"count\": 1, \"min\": 4, \"max\": 4}, \"Number of Records Since Last Reset\": {\"sum\": 80.0, \"count\": 1, \"min\": 80, \"max\": 80}, \"Number of Batches Since Last Reset\": {\"sum\": 16.0, \"count\": 1, \"min\": 16, \"max\": 16}}}\u001b[0m\n",
      "\u001b[34m[11/23/2022 09:15:13 INFO 140521975678784] #throughput_metric: host=algo-1, train throughput=407.9749727343358 records/second\u001b[0m\n",
      "\u001b[34m[2022-11-23 09:15:14.146] [tensorio] [info] epoch_stats={\"data_pipeline\": \"/opt/ml/input/data/train\", \"epoch\": 8, \"duration\": 197, \"num_examples\": 16, \"num_bytes\": 3840}\u001b[0m\n",
      "\u001b[34m#metrics {\"StartTime\": 1669194914.1461766, \"EndTime\": 1669194914.1462266, \"Dimensions\": {\"Algorithm\": \"Linear Learner\", \"Host\": \"algo-1\", \"Operation\": \"training\", \"epoch\": 2, \"model\": 0}, \"Metrics\": {\"train_absolute_loss_objective\": {\"sum\": 0.6568195849657059, \"count\": 1, \"min\": 0.6568195849657059, \"max\": 0.6568195849657059}}}\u001b[0m\n",
      "\u001b[34m#metrics {\"StartTime\": 1669194914.1462946, \"EndTime\": 1669194914.1463065, \"Dimensions\": {\"Algorithm\": \"Linear Learner\", \"Host\": \"algo-1\", \"Operation\": \"training\", \"epoch\": 2, \"model\": 1}, \"Metrics\": {\"train_absolute_loss_objective\": {\"sum\": 0.6379476711153984, \"count\": 1, \"min\": 0.6379476711153984, \"max\": 0.6379476711153984}}}\u001b[0m\n",
      "\u001b[34m#metrics {\"StartTime\": 1669194914.1463425, \"EndTime\": 1669194914.1463506, \"Dimensions\": {\"Algorithm\": \"Linear Learner\", \"Host\": \"algo-1\", \"Operation\": \"training\", \"epoch\": 2, \"model\": 2}, \"Metrics\": {\"train_absolute_loss_objective\": {\"sum\": 0.654828603565693, \"count\": 1, \"min\": 0.654828603565693, \"max\": 0.654828603565693}}}\u001b[0m\n",
      "\u001b[34m#metrics {\"StartTime\": 1669194914.1463833, \"EndTime\": 1669194914.1463895, \"Dimensions\": {\"Algorithm\": \"Linear Learner\", \"Host\": \"algo-1\", \"Operation\": \"training\", \"epoch\": 2, \"model\": 3}, \"Metrics\": {\"train_absolute_loss_objective\": {\"sum\": 0.6387805283069611, \"count\": 1, \"min\": 0.6387805283069611, \"max\": 0.6387805283069611}}}\u001b[0m\n",
      "\u001b[34m#metrics {\"StartTime\": 1669194914.146419, \"EndTime\": 1669194914.1464267, \"Dimensions\": {\"Algorithm\": \"Linear Learner\", \"Host\": \"algo-1\", \"Operation\": \"training\", \"epoch\": 2, \"model\": 4}, \"Metrics\": {\"train_absolute_loss_objective\": {\"sum\": 0.33114201873540877, \"count\": 1, \"min\": 0.33114201873540877, \"max\": 0.33114201873540877}}}\u001b[0m\n",
      "\u001b[34m#metrics {\"StartTime\": 1669194914.146456, \"EndTime\": 1669194914.146464, \"Dimensions\": {\"Algorithm\": \"Linear Learner\", \"Host\": \"algo-1\", \"Operation\": \"training\", \"epoch\": 2, \"model\": 5}, \"Metrics\": {\"train_absolute_loss_objective\": {\"sum\": 0.3036857396364212, \"count\": 1, \"min\": 0.3036857396364212, \"max\": 0.3036857396364212}}}\u001b[0m\n",
      "\u001b[34m#metrics {\"StartTime\": 1669194914.1464975, \"EndTime\": 1669194914.1465058, \"Dimensions\": {\"Algorithm\": \"Linear Learner\", \"Host\": \"algo-1\", \"Operation\": \"training\", \"epoch\": 2, \"model\": 6}, \"Metrics\": {\"train_absolute_loss_objective\": {\"sum\": 0.33507645353674886, \"count\": 1, \"min\": 0.33507645353674886, \"max\": 0.33507645353674886}}}\u001b[0m\n",
      "\u001b[34m#metrics {\"StartTime\": 1669194914.1465394, \"EndTime\": 1669194914.146548, \"Dimensions\": {\"Algorithm\": \"Linear Learner\", \"Host\": \"algo-1\", \"Operation\": \"training\", \"epoch\": 2, \"model\": 7}, \"Metrics\": {\"train_absolute_loss_objective\": {\"sum\": 0.30487361624836923, \"count\": 1, \"min\": 0.30487361624836923, \"max\": 0.30487361624836923}}}\u001b[0m\n",
      "\u001b[34m#metrics {\"StartTime\": 1669194914.1465826, \"EndTime\": 1669194914.146591, \"Dimensions\": {\"Algorithm\": \"Linear Learner\", \"Host\": \"algo-1\", \"Operation\": \"training\", \"epoch\": 2, \"model\": 8}, \"Metrics\": {\"train_absolute_loss_objective\": {\"sum\": 0.6102091699838639, \"count\": 1, \"min\": 0.6102091699838639, \"max\": 0.6102091699838639}}}\u001b[0m\n",
      "\u001b[34m#metrics {\"StartTime\": 1669194914.146612, \"EndTime\": 1669194914.146619, \"Dimensions\": {\"Algorithm\": \"Linear Learner\", \"Host\": \"algo-1\", \"Operation\": \"training\", \"epoch\": 2, \"model\": 9}, \"Metrics\": {\"train_absolute_loss_objective\": {\"sum\": 0.6650850445032119, \"count\": 1, \"min\": 0.6650850445032119, \"max\": 0.6650850445032119}}}\u001b[0m\n",
      "\u001b[34m#metrics {\"StartTime\": 1669194914.1466491, \"EndTime\": 1669194914.146658, \"Dimensions\": {\"Algorithm\": \"Linear Learner\", \"Host\": \"algo-1\", \"Operation\": \"training\", \"epoch\": 2, \"model\": 10}, \"Metrics\": {\"train_absolute_loss_objective\": {\"sum\": 0.6612628564238549, \"count\": 1, \"min\": 0.6612628564238549, \"max\": 0.6612628564238549}}}\u001b[0m\n",
      "\u001b[34m#metrics {\"StartTime\": 1669194914.1466908, \"EndTime\": 1669194914.1466994, \"Dimensions\": {\"Algorithm\": \"Linear Learner\", \"Host\": \"algo-1\", \"Operation\": \"training\", \"epoch\": 2, \"model\": 11}, \"Metrics\": {\"train_absolute_loss_objective\": {\"sum\": 0.6707275986671448, \"count\": 1, \"min\": 0.6707275986671448, \"max\": 0.6707275986671448}}}\u001b[0m\n",
      "\u001b[34m#metrics {\"StartTime\": 1669194914.1467385, \"EndTime\": 1669194914.146747, \"Dimensions\": {\"Algorithm\": \"Linear Learner\", \"Host\": \"algo-1\", \"Operation\": \"training\", \"epoch\": 2, \"model\": 12}, \"Metrics\": {\"train_absolute_loss_objective\": {\"sum\": 0.3610192574560642, \"count\": 1, \"min\": 0.3610192574560642, \"max\": 0.3610192574560642}}}\u001b[0m\n",
      "\u001b[34m#metrics {\"StartTime\": 1669194914.1467805, \"EndTime\": 1669194914.146789, \"Dimensions\": {\"Algorithm\": \"Linear Learner\", \"Host\": \"algo-1\", \"Operation\": \"training\", \"epoch\": 2, \"model\": 13}, \"Metrics\": {\"train_absolute_loss_objective\": {\"sum\": 0.2977908566594124, \"count\": 1, \"min\": 0.2977908566594124, \"max\": 0.2977908566594124}}}\u001b[0m\n",
      "\u001b[34m#metrics {\"StartTime\": 1669194914.146821, \"EndTime\": 1669194914.14683, \"Dimensions\": {\"Algorithm\": \"Linear Learner\", \"Host\": \"algo-1\", \"Operation\": \"training\", \"epoch\": 2, \"model\": 14}, \"Metrics\": {\"train_absolute_loss_objective\": {\"sum\": 0.3974812559783459, \"count\": 1, \"min\": 0.3974812559783459, \"max\": 0.3974812559783459}}}\u001b[0m\n",
      "\u001b[34m#metrics {\"StartTime\": 1669194914.1468687, \"EndTime\": 1669194914.1468782, \"Dimensions\": {\"Algorithm\": \"Linear Learner\", \"Host\": \"algo-1\", \"Operation\": \"training\", \"epoch\": 2, \"model\": 15}, \"Metrics\": {\"train_absolute_loss_objective\": {\"sum\": 0.29833869487047193, \"count\": 1, \"min\": 0.29833869487047193, \"max\": 0.29833869487047193}}}\u001b[0m\n",
      "\u001b[34m#metrics {\"StartTime\": 1669194914.1469133, \"EndTime\": 1669194914.146924, \"Dimensions\": {\"Algorithm\": \"Linear Learner\", \"Host\": \"algo-1\", \"Operation\": \"training\", \"epoch\": 2, \"model\": 16}, \"Metrics\": {\"train_absolute_loss_objective\": {\"sum\": 0.6887032657861709, \"count\": 1, \"min\": 0.6887032657861709, \"max\": 0.6887032657861709}}}\u001b[0m\n",
      "\u001b[34m#metrics {\"StartTime\": 1669194914.146953, \"EndTime\": 1669194914.1469624, \"Dimensions\": {\"Algorithm\": \"Linear Learner\", \"Host\": \"algo-1\", \"Operation\": \"training\", \"epoch\": 2, \"model\": 17}, \"Metrics\": {\"train_absolute_loss_objective\": {\"sum\": 0.648282827436924, \"count\": 1, \"min\": 0.648282827436924, \"max\": 0.648282827436924}}}\u001b[0m\n",
      "\u001b[34m#metrics {\"StartTime\": 1669194914.146994, \"EndTime\": 1669194914.1470037, \"Dimensions\": {\"Algorithm\": \"Linear Learner\", \"Host\": \"algo-1\", \"Operation\": \"training\", \"epoch\": 2, \"model\": 18}, \"Metrics\": {\"train_absolute_loss_objective\": {\"sum\": 0.6686530441045762, \"count\": 1, \"min\": 0.6686530441045762, \"max\": 0.6686530441045762}}}\u001b[0m\n",
      "\u001b[34m#metrics {\"StartTime\": 1669194914.1470363, \"EndTime\": 1669194914.1470456, \"Dimensions\": {\"Algorithm\": \"Linear Learner\", \"Host\": \"algo-1\", \"Operation\": \"training\", \"epoch\": 2, \"model\": 19}, \"Metrics\": {\"train_absolute_loss_objective\": {\"sum\": 0.6680791303515434, \"count\": 1, \"min\": 0.6680791303515434, \"max\": 0.6680791303515434}}}\u001b[0m\n",
      "\u001b[34m#metrics {\"StartTime\": 1669194914.1470807, \"EndTime\": 1669194914.1470902, \"Dimensions\": {\"Algorithm\": \"Linear Learner\", \"Host\": \"algo-1\", \"Operation\": \"training\", \"epoch\": 2, \"model\": 20}, \"Metrics\": {\"train_absolute_loss_objective\": {\"sum\": 0.4477439098060131, \"count\": 1, \"min\": 0.4477439098060131, \"max\": 0.4477439098060131}}}\u001b[0m\n",
      "\u001b[34m#metrics {\"StartTime\": 1669194914.1471226, \"EndTime\": 1669194914.147132, \"Dimensions\": {\"Algorithm\": \"Linear Learner\", \"Host\": \"algo-1\", \"Operation\": \"training\", \"epoch\": 2, \"model\": 21}, \"Metrics\": {\"train_absolute_loss_objective\": {\"sum\": 0.5003804206848145, \"count\": 1, \"min\": 0.5003804206848145, \"max\": 0.5003804206848145}}}\u001b[0m\n",
      "\u001b[34m#metrics {\"StartTime\": 1669194914.1471648, \"EndTime\": 1669194914.1471741, \"Dimensions\": {\"Algorithm\": \"Linear Learner\", \"Host\": \"algo-1\", \"Operation\": \"training\", \"epoch\": 2, \"model\": 22}, \"Metrics\": {\"train_absolute_loss_objective\": {\"sum\": 0.4981790691614151, \"count\": 1, \"min\": 0.4981790691614151, \"max\": 0.4981790691614151}}}\u001b[0m\n",
      "\u001b[34m#metrics {\"StartTime\": 1669194914.1472023, \"EndTime\": 1669194914.147211, \"Dimensions\": {\"Algorithm\": \"Linear Learner\", \"Host\": \"algo-1\", \"Operation\": \"training\", \"epoch\": 2, \"model\": 23}, \"Metrics\": {\"train_absolute_loss_objective\": {\"sum\": 0.49907252937555313, \"count\": 1, \"min\": 0.49907252937555313, \"max\": 0.49907252937555313}}}\u001b[0m\n",
      "\u001b[34m#metrics {\"StartTime\": 1669194914.147239, \"EndTime\": 1669194914.1472476, \"Dimensions\": {\"Algorithm\": \"Linear Learner\", \"Host\": \"algo-1\", \"Operation\": \"training\", \"epoch\": 2, \"model\": 24}, \"Metrics\": {\"train_absolute_loss_objective\": {\"sum\": 0.7688823819160462, \"count\": 1, \"min\": 0.7688823819160462, \"max\": 0.7688823819160462}}}\u001b[0m\n",
      "\u001b[34m#metrics {\"StartTime\": 1669194914.1472802, \"EndTime\": 1669194914.147289, \"Dimensions\": {\"Algorithm\": \"Linear Learner\", \"Host\": \"algo-1\", \"Operation\": \"training\", \"epoch\": 2, \"model\": 25}, \"Metrics\": {\"train_absolute_loss_objective\": {\"sum\": 0.7728705927729607, \"count\": 1, \"min\": 0.7728705927729607, \"max\": 0.7728705927729607}}}\u001b[0m\n",
      "\u001b[34m#metrics {\"StartTime\": 1669194914.1473217, \"EndTime\": 1669194914.147331, \"Dimensions\": {\"Algorithm\": \"Linear Learner\", \"Host\": \"algo-1\", \"Operation\": \"training\", \"epoch\": 2, \"model\": 26}, \"Metrics\": {\"train_absolute_loss_objective\": {\"sum\": 0.7717129528522492, \"count\": 1, \"min\": 0.7717129528522492, \"max\": 0.7717129528522492}}}\u001b[0m\n",
      "\u001b[34m#metrics {\"StartTime\": 1669194914.147362, \"EndTime\": 1669194914.147371, \"Dimensions\": {\"Algorithm\": \"Linear Learner\", \"Host\": \"algo-1\", \"Operation\": \"training\", \"epoch\": 2, \"model\": 27}, \"Metrics\": {\"train_absolute_loss_objective\": {\"sum\": 0.7718246057629585, \"count\": 1, \"min\": 0.7718246057629585, \"max\": 0.7718246057629585}}}\u001b[0m\n",
      "\u001b[34m#metrics {\"StartTime\": 1669194914.1474054, \"EndTime\": 1669194914.1474144, \"Dimensions\": {\"Algorithm\": \"Linear Learner\", \"Host\": \"algo-1\", \"Operation\": \"training\", \"epoch\": 2, \"model\": 28}, \"Metrics\": {\"train_absolute_loss_objective\": {\"sum\": 0.8151285961270333, \"count\": 1, \"min\": 0.8151285961270333, \"max\": 0.8151285961270333}}}\u001b[0m\n",
      "\u001b[34m#metrics {\"StartTime\": 1669194914.147449, \"EndTime\": 1669194914.1474586, \"Dimensions\": {\"Algorithm\": \"Linear Learner\", \"Host\": \"algo-1\", \"Operation\": \"training\", \"epoch\": 2, \"model\": 29}, \"Metrics\": {\"train_absolute_loss_objective\": {\"sum\": 0.7885258331894874, \"count\": 1, \"min\": 0.7885258331894874, \"max\": 0.7885258331894874}}}\u001b[0m\n",
      "\u001b[34m#metrics {\"StartTime\": 1669194914.1474998, \"EndTime\": 1669194914.1475093, \"Dimensions\": {\"Algorithm\": \"Linear Learner\", \"Host\": \"algo-1\", \"Operation\": \"training\", \"epoch\": 2, \"model\": 30}, \"Metrics\": {\"train_absolute_loss_objective\": {\"sum\": 0.814070063829422, \"count\": 1, \"min\": 0.814070063829422, \"max\": 0.814070063829422}}}\u001b[0m\n",
      "\u001b[34m#metrics {\"StartTime\": 1669194914.1475413, \"EndTime\": 1669194914.14755, \"Dimensions\": {\"Algorithm\": \"Linear Learner\", \"Host\": \"algo-1\", \"Operation\": \"training\", \"epoch\": 2, \"model\": 31}, \"Metrics\": {\"train_absolute_loss_objective\": {\"sum\": 0.7897323176264763, \"count\": 1, \"min\": 0.7897323176264763, \"max\": 0.7897323176264763}}}\u001b[0m\n",
      "\u001b[34m[11/23/2022 09:15:14 INFO 140521975678784] #quality_metric: host=algo-1, epoch=2, train absolute_loss_objective <loss>=0.6568195849657059\u001b[0m\n",
      "\u001b[34m[11/23/2022 09:15:14 INFO 140521975678784] #early_stopping_criteria_metric: host=algo-1, epoch=2, criteria=absolute_loss_objective, value=0.2977908566594124\u001b[0m\n",
      "\u001b[34m[11/23/2022 09:15:14 INFO 140521975678784] Epoch 2: Loss improved. Updating best model\u001b[0m\n",
      "\u001b[34m[11/23/2022 09:15:14 INFO 140521975678784] Saving model for epoch: 2\u001b[0m\n",
      "\u001b[34m[11/23/2022 09:15:14 INFO 140521975678784] Saved checkpoint to \"/tmp/tmpyii_enq2/mx-mod-0000.params\"\u001b[0m\n",
      "\u001b[34m[11/23/2022 09:15:14 INFO 140521975678784] #progress_metric: host=algo-1, completed 60.0 % of epochs\u001b[0m\n",
      "\u001b[34m#metrics {\"StartTime\": 1669194913.9486818, \"EndTime\": 1669194914.154369, \"Dimensions\": {\"Algorithm\": \"Linear Learner\", \"Host\": \"algo-1\", \"Operation\": \"training\", \"epoch\": 2, \"Meta\": \"training_data_iter\"}, \"Metrics\": {\"Total Records Seen\": {\"sum\": 325.0, \"count\": 1, \"min\": 325, \"max\": 325}, \"Total Batches Seen\": {\"sum\": 65.0, \"count\": 1, \"min\": 65, \"max\": 65}, \"Max Records Seen Between Resets\": {\"sum\": 80.0, \"count\": 1, \"min\": 80, \"max\": 80}, \"Max Batches Seen Between Resets\": {\"sum\": 16.0, \"count\": 1, \"min\": 16, \"max\": 16}, \"Reset Count\": {\"sum\": 5.0, \"count\": 1, \"min\": 5, \"max\": 5}, \"Number of Records Since Last Reset\": {\"sum\": 80.0, \"count\": 1, \"min\": 80, \"max\": 80}, \"Number of Batches Since Last Reset\": {\"sum\": 16.0, \"count\": 1, \"min\": 16, \"max\": 16}}}\u001b[0m\n",
      "\u001b[34m[11/23/2022 09:15:14 INFO 140521975678784] #throughput_metric: host=algo-1, train throughput=388.74617822034537 records/second\u001b[0m\n",
      "\u001b[34m[2022-11-23 09:15:14.365] [tensorio] [info] epoch_stats={\"data_pipeline\": \"/opt/ml/input/data/train\", \"epoch\": 10, \"duration\": 210, \"num_examples\": 16, \"num_bytes\": 3840}\u001b[0m\n",
      "\u001b[34m#metrics {\"StartTime\": 1669194914.3653176, \"EndTime\": 1669194914.3653803, \"Dimensions\": {\"Algorithm\": \"Linear Learner\", \"Host\": \"algo-1\", \"Operation\": \"training\", \"epoch\": 3, \"model\": 0}, \"Metrics\": {\"train_absolute_loss_objective\": {\"sum\": 0.607767078280449, \"count\": 1, \"min\": 0.607767078280449, \"max\": 0.607767078280449}}}\u001b[0m\n",
      "\u001b[34m#metrics {\"StartTime\": 1669194914.3654413, \"EndTime\": 1669194914.3654528, \"Dimensions\": {\"Algorithm\": \"Linear Learner\", \"Host\": \"algo-1\", \"Operation\": \"training\", \"epoch\": 3, \"model\": 1}, \"Metrics\": {\"train_absolute_loss_objective\": {\"sum\": 0.5874836951494217, \"count\": 1, \"min\": 0.5874836951494217, \"max\": 0.5874836951494217}}}\u001b[0m\n",
      "\u001b[34m#metrics {\"StartTime\": 1669194914.3654876, \"EndTime\": 1669194914.3654969, \"Dimensions\": {\"Algorithm\": \"Linear Learner\", \"Host\": \"algo-1\", \"Operation\": \"training\", \"epoch\": 3, \"model\": 2}, \"Metrics\": {\"train_absolute_loss_objective\": {\"sum\": 0.6058126822113991, \"count\": 1, \"min\": 0.6058126822113991, \"max\": 0.6058126822113991}}}\u001b[0m\n",
      "\u001b[34m#metrics {\"StartTime\": 1669194914.3655288, \"EndTime\": 1669194914.3655384, \"Dimensions\": {\"Algorithm\": \"Linear Learner\", \"Host\": \"algo-1\", \"Operation\": \"training\", \"epoch\": 3, \"model\": 3}, \"Metrics\": {\"train_absolute_loss_objective\": {\"sum\": 0.5892539456486702, \"count\": 1, \"min\": 0.5892539456486702, \"max\": 0.5892539456486702}}}\u001b[0m\n",
      "\u001b[34m#metrics {\"StartTime\": 1669194914.3655734, \"EndTime\": 1669194914.3655827, \"Dimensions\": {\"Algorithm\": \"Linear Learner\", \"Host\": \"algo-1\", \"Operation\": \"training\", \"epoch\": 3, \"model\": 4}, \"Metrics\": {\"train_absolute_loss_objective\": {\"sum\": 0.31869392693042753, \"count\": 1, \"min\": 0.31869392693042753, \"max\": 0.31869392693042753}}}\u001b[0m\n",
      "\u001b[34m#metrics {\"StartTime\": 1669194914.3656182, \"EndTime\": 1669194914.3656266, \"Dimensions\": {\"Algorithm\": \"Linear Learner\", \"Host\": \"algo-1\", \"Operation\": \"training\", \"epoch\": 3, \"model\": 5}, \"Metrics\": {\"train_absolute_loss_objective\": {\"sum\": 0.35989129096269606, \"count\": 1, \"min\": 0.35989129096269606, \"max\": 0.35989129096269606}}}\u001b[0m\n",
      "\u001b[34m#metrics {\"StartTime\": 1669194914.3656585, \"EndTime\": 1669194914.3656666, \"Dimensions\": {\"Algorithm\": \"Linear Learner\", \"Host\": \"algo-1\", \"Operation\": \"training\", \"epoch\": 3, \"model\": 6}, \"Metrics\": {\"train_absolute_loss_objective\": {\"sum\": 0.3049488216638565, \"count\": 1, \"min\": 0.3049488216638565, \"max\": 0.3049488216638565}}}\u001b[0m\n",
      "\u001b[34m#metrics {\"StartTime\": 1669194914.3657017, \"EndTime\": 1669194914.3657107, \"Dimensions\": {\"Algorithm\": \"Linear Learner\", \"Host\": \"algo-1\", \"Operation\": \"training\", \"epoch\": 3, \"model\": 7}, \"Metrics\": {\"train_absolute_loss_objective\": {\"sum\": 0.3606706202030182, \"count\": 1, \"min\": 0.3606706202030182, \"max\": 0.3606706202030182}}}\u001b[0m\n",
      "\u001b[34m#metrics {\"StartTime\": 1669194914.3657444, \"EndTime\": 1669194914.3657537, \"Dimensions\": {\"Algorithm\": \"Linear Learner\", \"Host\": \"algo-1\", \"Operation\": \"training\", \"epoch\": 3, \"model\": 8}, \"Metrics\": {\"train_absolute_loss_objective\": {\"sum\": 0.5637344762682914, \"count\": 1, \"min\": 0.5637344762682914, \"max\": 0.5637344762682914}}}\u001b[0m\n",
      "\u001b[34m#metrics {\"StartTime\": 1669194914.3657832, \"EndTime\": 1669194914.3657923, \"Dimensions\": {\"Algorithm\": \"Linear Learner\", \"Host\": \"algo-1\", \"Operation\": \"training\", \"epoch\": 3, \"model\": 9}, \"Metrics\": {\"train_absolute_loss_objective\": {\"sum\": 0.6138178288936615, \"count\": 1, \"min\": 0.6138178288936615, \"max\": 0.6138178288936615}}}\u001b[0m\n",
      "\u001b[34m#metrics {\"StartTime\": 1669194914.365825, \"EndTime\": 1669194914.3658335, \"Dimensions\": {\"Algorithm\": \"Linear Learner\", \"Host\": \"algo-1\", \"Operation\": \"training\", \"epoch\": 3, \"model\": 10}, \"Metrics\": {\"train_absolute_loss_objective\": {\"sum\": 0.6121831700205803, \"count\": 1, \"min\": 0.6121831700205803, \"max\": 0.6121831700205803}}}\u001b[0m\n",
      "\u001b[34m#metrics {\"StartTime\": 1669194914.365862, \"EndTime\": 1669194914.3658705, \"Dimensions\": {\"Algorithm\": \"Linear Learner\", \"Host\": \"algo-1\", \"Operation\": \"training\", \"epoch\": 3, \"model\": 11}, \"Metrics\": {\"train_absolute_loss_objective\": {\"sum\": 0.6198463544249535, \"count\": 1, \"min\": 0.6198463544249535, \"max\": 0.6198463544249535}}}\u001b[0m\n",
      "\u001b[34m#metrics {\"StartTime\": 1669194914.3659055, \"EndTime\": 1669194914.3659134, \"Dimensions\": {\"Algorithm\": \"Linear Learner\", \"Host\": \"algo-1\", \"Operation\": \"training\", \"epoch\": 3, \"model\": 12}, \"Metrics\": {\"train_absolute_loss_objective\": {\"sum\": 0.34289551749825475, \"count\": 1, \"min\": 0.34289551749825475, \"max\": 0.34289551749825475}}}\u001b[0m\n",
      "\u001b[34m#metrics {\"StartTime\": 1669194914.3659465, \"EndTime\": 1669194914.3659556, \"Dimensions\": {\"Algorithm\": \"Linear Learner\", \"Host\": \"algo-1\", \"Operation\": \"training\", \"epoch\": 3, \"model\": 13}, \"Metrics\": {\"train_absolute_loss_objective\": {\"sum\": 0.3298412457108498, \"count\": 1, \"min\": 0.3298412457108498, \"max\": 0.3298412457108498}}}\u001b[0m\n",
      "\u001b[34m#metrics {\"StartTime\": 1669194914.3659904, \"EndTime\": 1669194914.3659997, \"Dimensions\": {\"Algorithm\": \"Linear Learner\", \"Host\": \"algo-1\", \"Operation\": \"training\", \"epoch\": 3, \"model\": 14}, \"Metrics\": {\"train_absolute_loss_objective\": {\"sum\": 0.3340332850813866, \"count\": 1, \"min\": 0.3340332850813866, \"max\": 0.3340332850813866}}}\u001b[0m\n",
      "\u001b[34m#metrics {\"StartTime\": 1669194914.3660324, \"EndTime\": 1669194914.3660421, \"Dimensions\": {\"Algorithm\": \"Linear Learner\", \"Host\": \"algo-1\", \"Operation\": \"training\", \"epoch\": 3, \"model\": 15}, \"Metrics\": {\"train_absolute_loss_objective\": {\"sum\": 0.3293970637023449, \"count\": 1, \"min\": 0.3293970637023449, \"max\": 0.3293970637023449}}}\u001b[0m\n",
      "\u001b[34m#metrics {\"StartTime\": 1669194914.3660762, \"EndTime\": 1669194914.3660848, \"Dimensions\": {\"Algorithm\": \"Linear Learner\", \"Host\": \"algo-1\", \"Operation\": \"training\", \"epoch\": 3, \"model\": 16}, \"Metrics\": {\"train_absolute_loss_objective\": {\"sum\": 0.6448413535952568, \"count\": 1, \"min\": 0.6448413535952568, \"max\": 0.6448413535952568}}}\u001b[0m\n",
      "\u001b[34m#metrics {\"StartTime\": 1669194914.3661354, \"EndTime\": 1669194914.3661447, \"Dimensions\": {\"Algorithm\": \"Linear Learner\", \"Host\": \"algo-1\", \"Operation\": \"training\", \"epoch\": 3, \"model\": 17}, \"Metrics\": {\"train_absolute_loss_objective\": {\"sum\": 0.6042198613286018, \"count\": 1, \"min\": 0.6042198613286018, \"max\": 0.6042198613286018}}}\u001b[0m\n",
      "\u001b[34m#metrics {\"StartTime\": 1669194914.3661766, \"EndTime\": 1669194914.3661861, \"Dimensions\": {\"Algorithm\": \"Linear Learner\", \"Host\": \"algo-1\", \"Operation\": \"training\", \"epoch\": 3, \"model\": 18}, \"Metrics\": {\"train_absolute_loss_objective\": {\"sum\": 0.6253036871552468, \"count\": 1, \"min\": 0.6253036871552468, \"max\": 0.6253036871552468}}}\u001b[0m\n",
      "\u001b[34m#metrics {\"StartTime\": 1669194914.3662195, \"EndTime\": 1669194914.3662283, \"Dimensions\": {\"Algorithm\": \"Linear Learner\", \"Host\": \"algo-1\", \"Operation\": \"training\", \"epoch\": 3, \"model\": 19}, \"Metrics\": {\"train_absolute_loss_objective\": {\"sum\": 0.623981985449791, \"count\": 1, \"min\": 0.623981985449791, \"max\": 0.623981985449791}}}\u001b[0m\n",
      "\u001b[34m#metrics {\"StartTime\": 1669194914.366262, \"EndTime\": 1669194914.3662715, \"Dimensions\": {\"Algorithm\": \"Linear Learner\", \"Host\": \"algo-1\", \"Operation\": \"training\", \"epoch\": 3, \"model\": 20}, \"Metrics\": {\"train_absolute_loss_objective\": {\"sum\": 0.42440270334482194, \"count\": 1, \"min\": 0.42440270334482194, \"max\": 0.42440270334482194}}}\u001b[0m\n",
      "\u001b[34m#metrics {\"StartTime\": 1669194914.3663044, \"EndTime\": 1669194914.3663135, \"Dimensions\": {\"Algorithm\": \"Linear Learner\", \"Host\": \"algo-1\", \"Operation\": \"training\", \"epoch\": 3, \"model\": 21}, \"Metrics\": {\"train_absolute_loss_objective\": {\"sum\": 0.40024578347802164, \"count\": 1, \"min\": 0.40024578347802164, \"max\": 0.40024578347802164}}}\u001b[0m\n",
      "\u001b[34m#metrics {\"StartTime\": 1669194914.3663461, \"EndTime\": 1669194914.3663554, \"Dimensions\": {\"Algorithm\": \"Linear Learner\", \"Host\": \"algo-1\", \"Operation\": \"training\", \"epoch\": 3, \"model\": 22}, \"Metrics\": {\"train_absolute_loss_objective\": {\"sum\": 0.4970420002937317, \"count\": 1, \"min\": 0.4970420002937317, \"max\": 0.4970420002937317}}}\u001b[0m\n",
      "\u001b[34m#metrics {\"StartTime\": 1669194914.3663888, \"EndTime\": 1669194914.3663979, \"Dimensions\": {\"Algorithm\": \"Linear Learner\", \"Host\": \"algo-1\", \"Operation\": \"training\", \"epoch\": 3, \"model\": 23}, \"Metrics\": {\"train_absolute_loss_objective\": {\"sum\": 0.399778962880373, \"count\": 1, \"min\": 0.399778962880373, \"max\": 0.399778962880373}}}\u001b[0m\n",
      "\u001b[34m#metrics {\"StartTime\": 1669194914.3664303, \"EndTime\": 1669194914.366439, \"Dimensions\": {\"Algorithm\": \"Linear Learner\", \"Host\": \"algo-1\", \"Operation\": \"training\", \"epoch\": 3, \"model\": 24}, \"Metrics\": {\"train_absolute_loss_objective\": {\"sum\": 0.7708265244960785, \"count\": 1, \"min\": 0.7708265244960785, \"max\": 0.7708265244960785}}}\u001b[0m\n",
      "\u001b[34m#metrics {\"StartTime\": 1669194914.3664742, \"EndTime\": 1669194914.3664832, \"Dimensions\": {\"Algorithm\": \"Linear Learner\", \"Host\": \"algo-1\", \"Operation\": \"training\", \"epoch\": 3, \"model\": 25}, \"Metrics\": {\"train_absolute_loss_objective\": {\"sum\": 0.7683404475450516, \"count\": 1, \"min\": 0.7683404475450516, \"max\": 0.7683404475450516}}}\u001b[0m\n",
      "\u001b[34m#metrics {\"StartTime\": 1669194914.3665166, \"EndTime\": 1669194914.3665257, \"Dimensions\": {\"Algorithm\": \"Linear Learner\", \"Host\": \"algo-1\", \"Operation\": \"training\", \"epoch\": 3, \"model\": 26}, \"Metrics\": {\"train_absolute_loss_objective\": {\"sum\": 0.7685293853282928, \"count\": 1, \"min\": 0.7685293853282928, \"max\": 0.7685293853282928}}}\u001b[0m\n",
      "\u001b[34m#metrics {\"StartTime\": 1669194914.3665578, \"EndTime\": 1669194914.3665679, \"Dimensions\": {\"Algorithm\": \"Linear Learner\", \"Host\": \"algo-1\", \"Operation\": \"training\", \"epoch\": 3, \"model\": 27}, \"Metrics\": {\"train_absolute_loss_objective\": {\"sum\": 0.7685315281152725, \"count\": 1, \"min\": 0.7685315281152725, \"max\": 0.7685315281152725}}}\u001b[0m\n",
      "\u001b[34m#metrics {\"StartTime\": 1669194914.366602, \"EndTime\": 1669194914.3666105, \"Dimensions\": {\"Algorithm\": \"Linear Learner\", \"Host\": \"algo-1\", \"Operation\": \"training\", \"epoch\": 3, \"model\": 28}, \"Metrics\": {\"train_absolute_loss_objective\": {\"sum\": 0.8105003416538239, \"count\": 1, \"min\": 0.8105003416538239, \"max\": 0.8105003416538239}}}\u001b[0m\n",
      "\u001b[34m#metrics {\"StartTime\": 1669194914.3666458, \"EndTime\": 1669194914.3666553, \"Dimensions\": {\"Algorithm\": \"Linear Learner\", \"Host\": \"algo-1\", \"Operation\": \"training\", \"epoch\": 3, \"model\": 29}, \"Metrics\": {\"train_absolute_loss_objective\": {\"sum\": 0.818755279481411, \"count\": 1, \"min\": 0.818755279481411, \"max\": 0.818755279481411}}}\u001b[0m\n",
      "\u001b[34m#metrics {\"StartTime\": 1669194914.3666897, \"EndTime\": 1669194914.3666987, \"Dimensions\": {\"Algorithm\": \"Linear Learner\", \"Host\": \"algo-1\", \"Operation\": \"training\", \"epoch\": 3, \"model\": 30}, \"Metrics\": {\"train_absolute_loss_objective\": {\"sum\": 0.8106422469019889, \"count\": 1, \"min\": 0.8106422469019889, \"max\": 0.8106422469019889}}}\u001b[0m\n",
      "\u001b[34m#metrics {\"StartTime\": 1669194914.366734, \"EndTime\": 1669194914.366743, \"Dimensions\": {\"Algorithm\": \"Linear Learner\", \"Host\": \"algo-1\", \"Operation\": \"training\", \"epoch\": 3, \"model\": 31}, \"Metrics\": {\"train_absolute_loss_objective\": {\"sum\": 0.818008741736412, \"count\": 1, \"min\": 0.818008741736412, \"max\": 0.818008741736412}}}\u001b[0m\n",
      "\u001b[34m[11/23/2022 09:15:14 INFO 140521975678784] #quality_metric: host=algo-1, epoch=3, train absolute_loss_objective <loss>=0.607767078280449\u001b[0m\n",
      "\u001b[34m[11/23/2022 09:15:14 INFO 140521975678784] #early_stopping_criteria_metric: host=algo-1, epoch=3, criteria=absolute_loss_objective, value=0.3049488216638565\u001b[0m\n",
      "\u001b[34m[11/23/2022 09:15:14 INFO 140521975678784] Saving model for epoch: 3\u001b[0m\n",
      "\u001b[34m[11/23/2022 09:15:14 INFO 140521975678784] Saved checkpoint to \"/tmp/tmpasbs2u_x/mx-mod-0000.params\"\u001b[0m\n",
      "\u001b[34m[11/23/2022 09:15:14 INFO 140521975678784] #progress_metric: host=algo-1, completed 80.0 % of epochs\u001b[0m\n",
      "\u001b[34m#metrics {\"StartTime\": 1669194914.154597, \"EndTime\": 1669194914.3728025, \"Dimensions\": {\"Algorithm\": \"Linear Learner\", \"Host\": \"algo-1\", \"Operation\": \"training\", \"epoch\": 3, \"Meta\": \"training_data_iter\"}, \"Metrics\": {\"Total Records Seen\": {\"sum\": 405.0, \"count\": 1, \"min\": 405, \"max\": 405}, \"Total Batches Seen\": {\"sum\": 81.0, \"count\": 1, \"min\": 81, \"max\": 81}, \"Max Records Seen Between Resets\": {\"sum\": 80.0, \"count\": 1, \"min\": 80, \"max\": 80}, \"Max Batches Seen Between Resets\": {\"sum\": 16.0, \"count\": 1, \"min\": 16, \"max\": 16}, \"Reset Count\": {\"sum\": 6.0, \"count\": 1, \"min\": 6, \"max\": 6}, \"Number of Records Since Last Reset\": {\"sum\": 80.0, \"count\": 1, \"min\": 80, \"max\": 80}, \"Number of Batches Since Last Reset\": {\"sum\": 16.0, \"count\": 1, \"min\": 16, \"max\": 16}}}\u001b[0m\n",
      "\u001b[34m[11/23/2022 09:15:14 INFO 140521975678784] #throughput_metric: host=algo-1, train throughput=366.44877766432046 records/second\u001b[0m\n",
      "\u001b[34m[2022-11-23 09:15:14.579] [tensorio] [info] epoch_stats={\"data_pipeline\": \"/opt/ml/input/data/train\", \"epoch\": 12, \"duration\": 206, \"num_examples\": 16, \"num_bytes\": 3840}\u001b[0m\n",
      "\u001b[34m#metrics {\"StartTime\": 1669194914.579247, \"EndTime\": 1669194914.579297, \"Dimensions\": {\"Algorithm\": \"Linear Learner\", \"Host\": \"algo-1\", \"Operation\": \"training\", \"epoch\": 4, \"model\": 0}, \"Metrics\": {\"train_absolute_loss_objective\": {\"sum\": 0.5594455063343048, \"count\": 1, \"min\": 0.5594455063343048, \"max\": 0.5594455063343048}}}\u001b[0m\n",
      "\u001b[34m#metrics {\"StartTime\": 1669194914.5793595, \"EndTime\": 1669194914.5793715, \"Dimensions\": {\"Algorithm\": \"Linear Learner\", \"Host\": \"algo-1\", \"Operation\": \"training\", \"epoch\": 4, \"model\": 1}, \"Metrics\": {\"train_absolute_loss_objective\": {\"sum\": 0.5366638645529747, \"count\": 1, \"min\": 0.5366638645529747, \"max\": 0.5366638645529747}}}\u001b[0m\n",
      "\u001b[34m#metrics {\"StartTime\": 1669194914.5794098, \"EndTime\": 1669194914.5794191, \"Dimensions\": {\"Algorithm\": \"Linear Learner\", \"Host\": \"algo-1\", \"Operation\": \"training\", \"epoch\": 4, \"model\": 2}, \"Metrics\": {\"train_absolute_loss_objective\": {\"sum\": 0.557491110265255, \"count\": 1, \"min\": 0.557491110265255, \"max\": 0.557491110265255}}}\u001b[0m\n",
      "\u001b[34m#metrics {\"StartTime\": 1669194914.5794542, \"EndTime\": 1669194914.5794632, \"Dimensions\": {\"Algorithm\": \"Linear Learner\", \"Host\": \"algo-1\", \"Operation\": \"training\", \"epoch\": 4, \"model\": 3}, \"Metrics\": {\"train_absolute_loss_objective\": {\"sum\": 0.5375185191631318, \"count\": 1, \"min\": 0.5375185191631318, \"max\": 0.5375185191631318}}}\u001b[0m\n",
      "\u001b[34m#metrics {\"StartTime\": 1669194914.5794995, \"EndTime\": 1669194914.579508, \"Dimensions\": {\"Algorithm\": \"Linear Learner\", \"Host\": \"algo-1\", \"Operation\": \"training\", \"epoch\": 4, \"model\": 4}, \"Metrics\": {\"train_absolute_loss_objective\": {\"sum\": 0.34489304944872856, \"count\": 1, \"min\": 0.34489304944872856, \"max\": 0.34489304944872856}}}\u001b[0m\n",
      "\u001b[34m#metrics {\"StartTime\": 1669194914.5795426, \"EndTime\": 1669194914.5795517, \"Dimensions\": {\"Algorithm\": \"Linear Learner\", \"Host\": \"algo-1\", \"Operation\": \"training\", \"epoch\": 4, \"model\": 5}, \"Metrics\": {\"train_absolute_loss_objective\": {\"sum\": 0.3652861103415489, \"count\": 1, \"min\": 0.3652861103415489, \"max\": 0.3652861103415489}}}\u001b[0m\n",
      "\u001b[34m#metrics {\"StartTime\": 1669194914.5795836, \"EndTime\": 1669194914.5795927, \"Dimensions\": {\"Algorithm\": \"Linear Learner\", \"Host\": \"algo-1\", \"Operation\": \"training\", \"epoch\": 4, \"model\": 6}, \"Metrics\": {\"train_absolute_loss_objective\": {\"sum\": 0.3115865163505077, \"count\": 1, \"min\": 0.3115865163505077, \"max\": 0.3115865163505077}}}\u001b[0m\n",
      "\u001b[34m#metrics {\"StartTime\": 1669194914.5796254, \"EndTime\": 1669194914.579634, \"Dimensions\": {\"Algorithm\": \"Linear Learner\", \"Host\": \"algo-1\", \"Operation\": \"training\", \"epoch\": 4, \"model\": 7}, \"Metrics\": {\"train_absolute_loss_objective\": {\"sum\": 0.3654276758432388, \"count\": 1, \"min\": 0.3654276758432388, \"max\": 0.3654276758432388}}}\u001b[0m\n",
      "\u001b[34m#metrics {\"StartTime\": 1669194914.5796542, \"EndTime\": 1669194914.5796764, \"Dimensions\": {\"Algorithm\": \"Linear Learner\", \"Host\": \"algo-1\", \"Operation\": \"training\", \"epoch\": 4, \"model\": 8}, \"Metrics\": {\"train_absolute_loss_objective\": {\"sum\": 0.5167961537837982, \"count\": 1, \"min\": 0.5167961537837982, \"max\": 0.5167961537837982}}}\u001b[0m\n",
      "\u001b[34m#metrics {\"StartTime\": 1669194914.5797014, \"EndTime\": 1669194914.5797074, \"Dimensions\": {\"Algorithm\": \"Linear Learner\", \"Host\": \"algo-1\", \"Operation\": \"training\", \"epoch\": 4, \"model\": 9}, \"Metrics\": {\"train_absolute_loss_objective\": {\"sum\": 0.5627203643321991, \"count\": 1, \"min\": 0.5627203643321991, \"max\": 0.5627203643321991}}}\u001b[0m\n",
      "\u001b[34m#metrics {\"StartTime\": 1669194914.5797267, \"EndTime\": 1669194914.579734, \"Dimensions\": {\"Algorithm\": \"Linear Learner\", \"Host\": \"algo-1\", \"Operation\": \"training\", \"epoch\": 4, \"model\": 10}, \"Metrics\": {\"train_absolute_loss_objective\": {\"sum\": 0.5639418348670006, \"count\": 1, \"min\": 0.5639418348670006, \"max\": 0.5639418348670006}}}\u001b[0m\n",
      "\u001b[34m#metrics {\"StartTime\": 1669194914.5797625, \"EndTime\": 1669194914.57977, \"Dimensions\": {\"Algorithm\": \"Linear Learner\", \"Host\": \"algo-1\", \"Operation\": \"training\", \"epoch\": 4, \"model\": 11}, \"Metrics\": {\"train_absolute_loss_objective\": {\"sum\": 0.5692651391029357, \"count\": 1, \"min\": 0.5692651391029357, \"max\": 0.5692651391029357}}}\u001b[0m\n",
      "\u001b[34m#metrics {\"StartTime\": 1669194914.5797977, \"EndTime\": 1669194914.5798059, \"Dimensions\": {\"Algorithm\": \"Linear Learner\", \"Host\": \"algo-1\", \"Operation\": \"training\", \"epoch\": 4, \"model\": 12}, \"Metrics\": {\"train_absolute_loss_objective\": {\"sum\": 0.34593685902655125, \"count\": 1, \"min\": 0.34593685902655125, \"max\": 0.34593685902655125}}}\u001b[0m\n",
      "\u001b[34m#metrics {\"StartTime\": 1669194914.579838, \"EndTime\": 1669194914.5798435, \"Dimensions\": {\"Algorithm\": \"Linear Learner\", \"Host\": \"algo-1\", \"Operation\": \"training\", \"epoch\": 4, \"model\": 13}, \"Metrics\": {\"train_absolute_loss_objective\": {\"sum\": 0.3313520774245262, \"count\": 1, \"min\": 0.3313520774245262, \"max\": 0.3313520774245262}}}\u001b[0m\n",
      "\u001b[34m#metrics {\"StartTime\": 1669194914.5798633, \"EndTime\": 1669194914.5798683, \"Dimensions\": {\"Algorithm\": \"Linear Learner\", \"Host\": \"algo-1\", \"Operation\": \"training\", \"epoch\": 4, \"model\": 14}, \"Metrics\": {\"train_absolute_loss_objective\": {\"sum\": 0.34845833443105223, \"count\": 1, \"min\": 0.34845833443105223, \"max\": 0.34845833443105223}}}\u001b[0m\n",
      "\u001b[34m#metrics {\"StartTime\": 1669194914.5798879, \"EndTime\": 1669194914.5798948, \"Dimensions\": {\"Algorithm\": \"Linear Learner\", \"Host\": \"algo-1\", \"Operation\": \"training\", \"epoch\": 4, \"model\": 15}, \"Metrics\": {\"train_absolute_loss_objective\": {\"sum\": 0.33135819286108015, \"count\": 1, \"min\": 0.33135819286108015, \"max\": 0.33135819286108015}}}\u001b[0m\n",
      "\u001b[34m#metrics {\"StartTime\": 1669194914.5799255, \"EndTime\": 1669194914.5799332, \"Dimensions\": {\"Algorithm\": \"Linear Learner\", \"Host\": \"algo-1\", \"Operation\": \"training\", \"epoch\": 4, \"model\": 16}, \"Metrics\": {\"train_absolute_loss_objective\": {\"sum\": 0.6054553970694542, \"count\": 1, \"min\": 0.6054553970694542, \"max\": 0.6054553970694542}}}\u001b[0m\n",
      "\u001b[34m#metrics {\"StartTime\": 1669194914.5799668, \"EndTime\": 1669194914.5799756, \"Dimensions\": {\"Algorithm\": \"Linear Learner\", \"Host\": \"algo-1\", \"Operation\": \"training\", \"epoch\": 4, \"model\": 17}, \"Metrics\": {\"train_absolute_loss_objective\": {\"sum\": 0.5634878262877464, \"count\": 1, \"min\": 0.5634878262877464, \"max\": 0.5634878262877464}}}\u001b[0m\n",
      "\u001b[34m#metrics {\"StartTime\": 1669194914.580011, \"EndTime\": 1669194914.58002, \"Dimensions\": {\"Algorithm\": \"Linear Learner\", \"Host\": \"algo-1\", \"Operation\": \"training\", \"epoch\": 4, \"model\": 18}, \"Metrics\": {\"train_absolute_loss_objective\": {\"sum\": 0.586069031059742, \"count\": 1, \"min\": 0.586069031059742, \"max\": 0.586069031059742}}}\u001b[0m\n",
      "\u001b[34m#metrics {\"StartTime\": 1669194914.5800529, \"EndTime\": 1669194914.5800614, \"Dimensions\": {\"Algorithm\": \"Linear Learner\", \"Host\": \"algo-1\", \"Operation\": \"training\", \"epoch\": 4, \"model\": 19}, \"Metrics\": {\"train_absolute_loss_objective\": {\"sum\": 0.583105956017971, \"count\": 1, \"min\": 0.583105956017971, \"max\": 0.583105956017971}}}\u001b[0m\n",
      "\u001b[34m#metrics {\"StartTime\": 1669194914.5800986, \"EndTime\": 1669194914.5801077, \"Dimensions\": {\"Algorithm\": \"Linear Learner\", \"Host\": \"algo-1\", \"Operation\": \"training\", \"epoch\": 4, \"model\": 20}, \"Metrics\": {\"train_absolute_loss_objective\": {\"sum\": 0.42160580307245255, \"count\": 1, \"min\": 0.42160580307245255, \"max\": 0.42160580307245255}}}\u001b[0m\n",
      "\u001b[34m#metrics {\"StartTime\": 1669194914.580142, \"EndTime\": 1669194914.5801508, \"Dimensions\": {\"Algorithm\": \"Linear Learner\", \"Host\": \"algo-1\", \"Operation\": \"training\", \"epoch\": 4, \"model\": 21}, \"Metrics\": {\"train_absolute_loss_objective\": {\"sum\": 0.5093373954296112, \"count\": 1, \"min\": 0.5093373954296112, \"max\": 0.5093373954296112}}}\u001b[0m\n",
      "\u001b[34m#metrics {\"StartTime\": 1669194914.5801828, \"EndTime\": 1669194914.5801907, \"Dimensions\": {\"Algorithm\": \"Linear Learner\", \"Host\": \"algo-1\", \"Operation\": \"training\", \"epoch\": 4, \"model\": 22}, \"Metrics\": {\"train_absolute_loss_objective\": {\"sum\": 0.38860927149653435, \"count\": 1, \"min\": 0.38860927149653435, \"max\": 0.38860927149653435}}}\u001b[0m\n",
      "\u001b[34m#metrics {\"StartTime\": 1669194914.5802214, \"EndTime\": 1669194914.58023, \"Dimensions\": {\"Algorithm\": \"Linear Learner\", \"Host\": \"algo-1\", \"Operation\": \"training\", \"epoch\": 4, \"model\": 23}, \"Metrics\": {\"train_absolute_loss_objective\": {\"sum\": 0.5098318144679069, \"count\": 1, \"min\": 0.5098318144679069, \"max\": 0.5098318144679069}}}\u001b[0m\n",
      "\u001b[34m#metrics {\"StartTime\": 1669194914.580262, \"EndTime\": 1669194914.5802705, \"Dimensions\": {\"Algorithm\": \"Linear Learner\", \"Host\": \"algo-1\", \"Operation\": \"training\", \"epoch\": 4, \"model\": 24}, \"Metrics\": {\"train_absolute_loss_objective\": {\"sum\": 0.768278194963932, \"count\": 1, \"min\": 0.768278194963932, \"max\": 0.768278194963932}}}\u001b[0m\n",
      "\u001b[34m#metrics {\"StartTime\": 1669194914.5803044, \"EndTime\": 1669194914.5803137, \"Dimensions\": {\"Algorithm\": \"Linear Learner\", \"Host\": \"algo-1\", \"Operation\": \"training\", \"epoch\": 4, \"model\": 25}, \"Metrics\": {\"train_absolute_loss_objective\": {\"sum\": 0.7691013842821122, \"count\": 1, \"min\": 0.7691013842821122, \"max\": 0.7691013842821122}}}\u001b[0m\n",
      "\u001b[34m#metrics {\"StartTime\": 1669194914.5803475, \"EndTime\": 1669194914.5803573, \"Dimensions\": {\"Algorithm\": \"Linear Learner\", \"Host\": \"algo-1\", \"Operation\": \"training\", \"epoch\": 4, \"model\": 26}, \"Metrics\": {\"train_absolute_loss_objective\": {\"sum\": 0.7690214186906814, \"count\": 1, \"min\": 0.7690214186906814, \"max\": 0.7690214186906814}}}\u001b[0m\n",
      "\u001b[34m#metrics {\"StartTime\": 1669194914.5803905, \"EndTime\": 1669194914.580399, \"Dimensions\": {\"Algorithm\": \"Linear Learner\", \"Host\": \"algo-1\", \"Operation\": \"training\", \"epoch\": 4, \"model\": 27}, \"Metrics\": {\"train_absolute_loss_objective\": {\"sum\": 0.7691839560866356, \"count\": 1, \"min\": 0.7691839560866356, \"max\": 0.7691839560866356}}}\u001b[0m\n",
      "\u001b[34m#metrics {\"StartTime\": 1669194914.5804315, \"EndTime\": 1669194914.58044, \"Dimensions\": {\"Algorithm\": \"Linear Learner\", \"Host\": \"algo-1\", \"Operation\": \"training\", \"epoch\": 4, \"model\": 28}, \"Metrics\": {\"train_absolute_loss_objective\": {\"sum\": 0.8193353235721588, \"count\": 1, \"min\": 0.8193353235721588, \"max\": 0.8193353235721588}}}\u001b[0m\n",
      "\u001b[34m#metrics {\"StartTime\": 1669194914.580474, \"EndTime\": 1669194914.5804834, \"Dimensions\": {\"Algorithm\": \"Linear Learner\", \"Host\": \"algo-1\", \"Operation\": \"training\", \"epoch\": 4, \"model\": 29}, \"Metrics\": {\"train_absolute_loss_objective\": {\"sum\": 0.8275182783603668, \"count\": 1, \"min\": 0.8275182783603668, \"max\": 0.8275182783603668}}}\u001b[0m\n",
      "\u001b[34m#metrics {\"StartTime\": 1669194914.5805128, \"EndTime\": 1669194914.5805216, \"Dimensions\": {\"Algorithm\": \"Linear Learner\", \"Host\": \"algo-1\", \"Operation\": \"training\", \"epoch\": 4, \"model\": 30}, \"Metrics\": {\"train_absolute_loss_objective\": {\"sum\": 0.8191922351717948, \"count\": 1, \"min\": 0.8191922351717948, \"max\": 0.8191922351717948}}}\u001b[0m\n",
      "\u001b[34m#metrics {\"StartTime\": 1669194914.580554, \"EndTime\": 1669194914.5805633, \"Dimensions\": {\"Algorithm\": \"Linear Learner\", \"Host\": \"algo-1\", \"Operation\": \"training\", \"epoch\": 4, \"model\": 31}, \"Metrics\": {\"train_absolute_loss_objective\": {\"sum\": 0.8273542702198029, \"count\": 1, \"min\": 0.8273542702198029, \"max\": 0.8273542702198029}}}\u001b[0m\n",
      "\u001b[34m[11/23/2022 09:15:14 INFO 140521975678784] #quality_metric: host=algo-1, epoch=4, train absolute_loss_objective <loss>=0.5594455063343048\u001b[0m\n",
      "\u001b[34m[11/23/2022 09:15:14 INFO 140521975678784] #early_stopping_criteria_metric: host=algo-1, epoch=4, criteria=absolute_loss_objective, value=0.3115865163505077\u001b[0m\n",
      "\u001b[34m[11/23/2022 09:15:14 INFO 140521975678784] Saving model for epoch: 4\u001b[0m\n",
      "\u001b[34m[11/23/2022 09:15:14 INFO 140521975678784] Saved checkpoint to \"/tmp/tmp4j2gcxfm/mx-mod-0000.params\"\u001b[0m\n",
      "\u001b[34m[11/23/2022 09:15:14 INFO 140521975678784] #progress_metric: host=algo-1, completed 100.0 % of epochs\u001b[0m\n",
      "\u001b[34m#metrics {\"StartTime\": 1669194914.3730204, \"EndTime\": 1669194914.5866857, \"Dimensions\": {\"Algorithm\": \"Linear Learner\", \"Host\": \"algo-1\", \"Operation\": \"training\", \"epoch\": 4, \"Meta\": \"training_data_iter\"}, \"Metrics\": {\"Total Records Seen\": {\"sum\": 485.0, \"count\": 1, \"min\": 485, \"max\": 485}, \"Total Batches Seen\": {\"sum\": 97.0, \"count\": 1, \"min\": 97, \"max\": 97}, \"Max Records Seen Between Resets\": {\"sum\": 80.0, \"count\": 1, \"min\": 80, \"max\": 80}, \"Max Batches Seen Between Resets\": {\"sum\": 16.0, \"count\": 1, \"min\": 16, \"max\": 16}, \"Reset Count\": {\"sum\": 7.0, \"count\": 1, \"min\": 7, \"max\": 7}, \"Number of Records Since Last Reset\": {\"sum\": 80.0, \"count\": 1, \"min\": 80, \"max\": 80}, \"Number of Batches Since Last Reset\": {\"sum\": 16.0, \"count\": 1, \"min\": 16, \"max\": 16}}}\u001b[0m\n",
      "\u001b[34m[11/23/2022 09:15:14 INFO 140521975678784] #throughput_metric: host=algo-1, train throughput=374.2228735405284 records/second\u001b[0m\n",
      "\u001b[34m[11/23/2022 09:15:14 WARNING 140521975678784] wait_for_all_workers will not sync workers since the kv store is not running distributed\u001b[0m\n",
      "\u001b[34m[11/23/2022 09:15:14 WARNING 140521975678784] wait_for_all_workers will not sync workers since the kv store is not running distributed\u001b[0m\n",
      "\u001b[34m[2022-11-23 09:15:14.587] [tensorio] [info] epoch_stats={\"data_pipeline\": \"/opt/ml/input/data/train\", \"epoch\": 14, \"duration\": 0, \"num_examples\": 1, \"num_bytes\": 240}\u001b[0m\n",
      "\u001b[34m[2022-11-23 09:15:14.608] [tensorio] [info] epoch_stats={\"data_pipeline\": \"/opt/ml/input/data/train\", \"epoch\": 16, \"duration\": 18, \"num_examples\": 16, \"num_bytes\": 3840}\u001b[0m\n",
      "\u001b[34m[11/23/2022 09:15:14 INFO 140521975678784] #train_score (algo-1) : ('absolute_loss_objective', 1.3470271468162536)\u001b[0m\n",
      "\u001b[34m[11/23/2022 09:15:14 INFO 140521975678784] #train_score (algo-1) : ('mse', 2.6776033997535706)\u001b[0m\n",
      "\u001b[34m[11/23/2022 09:15:14 INFO 140521975678784] #train_score (algo-1) : ('absolute_loss', 1.3470271468162536)\u001b[0m\n",
      "\u001b[34m[11/23/2022 09:15:14 INFO 140521975678784] #train_score (algo-1) : ('rmse', 1.636338412356555)\u001b[0m\n",
      "\u001b[34m[11/23/2022 09:15:14 INFO 140521975678784] #train_score (algo-1) : ('r2', 0.8618240728158412)\u001b[0m\n",
      "\u001b[34m[11/23/2022 09:15:14 INFO 140521975678784] #train_score (algo-1) : ('mae', 1.3470271468162536)\u001b[0m\n",
      "\u001b[34m[11/23/2022 09:15:14 INFO 140521975678784] #quality_metric: host=algo-1, train absolute_loss_objective <loss>=1.3470271468162536\u001b[0m\n",
      "\u001b[34m[11/23/2022 09:15:14 INFO 140521975678784] #quality_metric: host=algo-1, train mse <loss>=2.6776033997535706\u001b[0m\n",
      "\u001b[34m[11/23/2022 09:15:14 INFO 140521975678784] #quality_metric: host=algo-1, train absolute_loss <loss>=1.3470271468162536\u001b[0m\n",
      "\u001b[34m[11/23/2022 09:15:14 INFO 140521975678784] #quality_metric: host=algo-1, train rmse <loss>=1.636338412356555\u001b[0m\n",
      "\u001b[34m[11/23/2022 09:15:14 INFO 140521975678784] #quality_metric: host=algo-1, train r2 <loss>=0.8618240728158412\u001b[0m\n",
      "\u001b[34m[11/23/2022 09:15:14 INFO 140521975678784] #quality_metric: host=algo-1, train mae <loss>=1.3470271468162536\u001b[0m\n",
      "\u001b[34m[11/23/2022 09:15:14 INFO 140521975678784] Best model found for hyperparameters: {\"optimizer\": \"adam\", \"learning_rate\": 0.1, \"wd\": 0.01, \"l1\": 0.0, \"lr_scheduler_step\": 100, \"lr_scheduler_factor\": 0.99, \"lr_scheduler_minimum_lr\": 1e-05}\u001b[0m\n",
      "\u001b[34m[11/23/2022 09:15:14 INFO 140521975678784] Saved checkpoint to \"/tmp/tmp7vz1p2vp/mx-mod-0000.params\"\u001b[0m\n",
      "\u001b[34m[11/23/2022 09:15:14 INFO 140521975678784] Test data is not provided.\u001b[0m\n",
      "\u001b[34m#metrics {\"StartTime\": 1669194913.3449676, \"EndTime\": 1669194914.6167002, \"Dimensions\": {\"Algorithm\": \"Linear Learner\", \"Host\": \"algo-1\", \"Operation\": \"training\"}, \"Metrics\": {\"initialize.time\": {\"sum\": 185.2889060974121, \"count\": 1, \"min\": 185.2889060974121, \"max\": 185.2889060974121}, \"epochs\": {\"sum\": 5.0, \"count\": 1, \"min\": 5, \"max\": 5}, \"check_early_stopping.time\": {\"sum\": 2.8209686279296875, \"count\": 5, \"min\": 0.17118453979492188, \"max\": 0.8661746978759766}, \"update.time\": {\"sum\": 1041.8601036071777, \"count\": 5, \"min\": 193.86601448059082, \"max\": 216.53103828430176}, \"finalize.time\": {\"sum\": 25.4669189453125, \"count\": 1, \"min\": 25.4669189453125, \"max\": 25.4669189453125}, \"setuptime\": {\"sum\": 4.915714263916016, \"count\": 1, \"min\": 4.915714263916016, \"max\": 4.915714263916016}, \"totaltime\": {\"sum\": 1427.9417991638184, \"count\": 1, \"min\": 1427.9417991638184, \"max\": 1427.9417991638184}}}\u001b[0m\n",
      "\n",
      "2022-11-23 09:15:39 Uploading - Uploading generated training model\n",
      "2022-11-23 09:15:39 Completed - Training job completed\n",
      "Training seconds: 112\n",
      "Billable seconds: 112\n"
     ]
    }
   ],
   "source": [
    "#training with training data\n",
    "linear.fit({'train':s3_train_data})"
   ]
  },
  {
   "cell_type": "code",
   "execution_count": 83,
   "id": "0e00b5a8-35e4-4722-adbe-6111be9a453b",
   "metadata": {
    "tags": []
   },
   "outputs": [
    {
     "name": "stdout",
     "output_type": "stream",
     "text": [
      "------!"
     ]
    }
   ],
   "source": [
    "#Deploying and testing train model for inference\n",
    "from sagemaker.deserializers import JSONDeserializer\n",
    "from sagemaker.serializers import CSVSerializer\n",
    "linear_regressor=linear.deploy(initial_instance_count=1,\n",
    "                               instance_type='ml.m5.xlarge',\n",
    "                               serializer=CSVSerializer(),\n",
    "                               deserializer=JSONDeserializer())"
   ]
  },
  {
   "cell_type": "code",
   "execution_count": 85,
   "id": "278e8aa1-1112-469b-8b61-c03bb90baa5b",
   "metadata": {
    "tags": []
   },
   "outputs": [
    {
     "data": {
      "text/plain": [
       "{'predictions': [{'score': 14.03045654296875},\n",
       "  {'score': 17.150968551635742},\n",
       "  {'score': 24.906272888183594},\n",
       "  {'score': 25.62259292602539},\n",
       "  {'score': 24.784055709838867},\n",
       "  {'score': 29.262714385986328},\n",
       "  {'score': 25.71267318725586},\n",
       "  {'score': 24.989669799804688},\n",
       "  {'score': 24.127391815185547},\n",
       "  {'score': 20.373645782470703},\n",
       "  {'score': 20.43868637084961},\n",
       "  {'score': 15.988101959228516},\n",
       "  {'score': 17.378742218017578},\n",
       "  {'score': 28.246843338012695},\n",
       "  {'score': 24.81554412841797},\n",
       "  {'score': 26.414581298828125},\n",
       "  {'score': 20.88174819946289},\n",
       "  {'score': 20.874841690063477},\n",
       "  {'score': 22.90399169921875},\n",
       "  {'score': 30.216453552246094}]}"
      ]
     },
     "execution_count": 85,
     "metadata": {},
     "output_type": "execute_result"
    }
   ],
   "source": [
    "result=linear_regressor.predict(X_test)\n",
    "result"
   ]
  },
  {
   "cell_type": "code",
   "execution_count": 87,
   "id": "1da2753a-62b6-42e6-9482-cbca73221408",
   "metadata": {
    "tags": []
   },
   "outputs": [
    {
     "data": {
      "text/plain": [
       "array([14.03045654, 17.15096855, 24.90627289, 25.62259293, 24.78405571,\n",
       "       29.26271439, 25.71267319, 24.9896698 , 24.12739182, 20.37364578,\n",
       "       20.43868637, 15.98810196, 17.37874222, 28.24684334, 24.81554413,\n",
       "       26.4145813 , 20.8817482 , 20.87484169, 22.9039917 , 30.21645355])"
      ]
     },
     "execution_count": 87,
     "metadata": {},
     "output_type": "execute_result"
    }
   ],
   "source": [
    "# as the data is in json format.NOw,converting into array\n",
    "predictions = np.array([r['score'] for r in result['predictions']])\n",
    "predictions"
   ]
  },
  {
   "cell_type": "code",
   "execution_count": 90,
   "id": "ff084999-4bf1-4de1-ad83-311a5e9c88b3",
   "metadata": {
    "tags": []
   },
   "outputs": [
    {
     "data": {
      "text/plain": [
       "(20,)"
      ]
     },
     "execution_count": 90,
     "metadata": {},
     "output_type": "execute_result"
    }
   ],
   "source": [
    "predictions.shape"
   ]
  },
  {
   "cell_type": "code",
   "execution_count": 93,
   "id": "5ec56eab-8280-4261-8e0e-7c2490344a36",
   "metadata": {
    "tags": []
   },
   "outputs": [
    {
     "data": {
      "image/png": "[encoded data removed]",
      "text/plain": [
       "<Figure size 500x600 with 1 Axes>"
      ]
     },
     "metadata": {},
     "output_type": "display_data"
    }
   ],
   "source": [
    "# VISUALIZE TEST SET RESULTS\n",
    "plt.figure(figsize = (5, 6))\n",
    "plt.scatter(X_test, Y_test, color = 'blue')\n",
    "plt.plot(X_test, predictions, color = 'red')\n",
    "plt.xlabel('HorsePower')\n",
    "plt.ylabel('Fuel Economy [MPG]')\n",
    "plt.title('HorsePower Vs. Fuel Economy')\n",
    "plt.grid()"
   ]
  },
  {
   "cell_type": "code",
   "execution_count": 95,
   "id": "afb10d69-d227-47ca-9740-75e60f1c4698",
   "metadata": {
    "tags": []
   },
   "outputs": [
    {
     "ename": "ClientError",
     "evalue": "An error occurred (ValidationException) when calling the DescribeEndpoint operation: Could not find endpoint \"arn:aws:sagemaker:us-east-1:451246788348:endpoint/linear-learner-2022-11-23-09-43-29-977\".",
     "output_type": "error",
     "traceback": [
      "\u001b[0;31m---------------------------------------------------------------------------\u001b[0m",
      "\u001b[0;31mClientError\u001b[0m                               Traceback (most recent call last)",
      "\u001b[0;32m<ipython-input-95-9c003ea3d4c5>\u001b[0m in \u001b[0;36m<module>\u001b[0;34m\u001b[0m\n\u001b[0;32m----> 1\u001b[0;31m \u001b[0mlinear_regressor\u001b[0m\u001b[0;34m.\u001b[0m\u001b[0mdelete_endpoint\u001b[0m\u001b[0;34m(\u001b[0m\u001b[0;34m)\u001b[0m\u001b[0;34m\u001b[0m\u001b[0;34m\u001b[0m\u001b[0m\n\u001b[0m",
      "\u001b[0;32m/opt/conda/lib/python3.7/site-packages/sagemaker/predictor.py\u001b[0m in \u001b[0;36mdelete_endpoint\u001b[0;34m(self, delete_endpoint_config)\u001b[0m\n\u001b[1;32m    327\u001b[0m         \"\"\"\n\u001b[1;32m    328\u001b[0m         \u001b[0;32mif\u001b[0m \u001b[0mdelete_endpoint_config\u001b[0m\u001b[0;34m:\u001b[0m\u001b[0;34m\u001b[0m\u001b[0;34m\u001b[0m\u001b[0m\n\u001b[0;32m--> 329\u001b[0;31m             \u001b[0mself\u001b[0m\u001b[0;34m.\u001b[0m\u001b[0m_delete_endpoint_config\u001b[0m\u001b[0;34m(\u001b[0m\u001b[0;34m)\u001b[0m\u001b[0;34m\u001b[0m\u001b[0;34m\u001b[0m\u001b[0m\n\u001b[0m\u001b[1;32m    330\u001b[0m \u001b[0;34m\u001b[0m\u001b[0m\n\u001b[1;32m    331\u001b[0m         \u001b[0mself\u001b[0m\u001b[0;34m.\u001b[0m\u001b[0msagemaker_session\u001b[0m\u001b[0;34m.\u001b[0m\u001b[0mdelete_endpoint\u001b[0m\u001b[0;34m(\u001b[0m\u001b[0mself\u001b[0m\u001b[0;34m.\u001b[0m\u001b[0mendpoint_name\u001b[0m\u001b[0;34m)\u001b[0m\u001b[0;34m\u001b[0m\u001b[0;34m\u001b[0m\u001b[0m\n",
      "\u001b[0;32m/opt/conda/lib/python3.7/site-packages/sagemaker/predictor.py\u001b[0m in \u001b[0;36m_delete_endpoint_config\u001b[0;34m(self)\u001b[0m\n\u001b[1;32m    311\u001b[0m     \u001b[0;32mdef\u001b[0m \u001b[0m_delete_endpoint_config\u001b[0m\u001b[0;34m(\u001b[0m\u001b[0mself\u001b[0m\u001b[0;34m)\u001b[0m\u001b[0;34m:\u001b[0m\u001b[0;34m\u001b[0m\u001b[0;34m\u001b[0m\u001b[0m\n\u001b[1;32m    312\u001b[0m         \u001b[0;34m\"\"\"Delete the Amazon SageMaker endpoint configuration\"\"\"\u001b[0m\u001b[0;34m\u001b[0m\u001b[0;34m\u001b[0m\u001b[0m\n\u001b[0;32m--> 313\u001b[0;31m         \u001b[0mcurrent_endpoint_config_name\u001b[0m \u001b[0;34m=\u001b[0m \u001b[0mself\u001b[0m\u001b[0;34m.\u001b[0m\u001b[0m_get_endpoint_config_name\u001b[0m\u001b[0;34m(\u001b[0m\u001b[0;34m)\u001b[0m\u001b[0;34m\u001b[0m\u001b[0;34m\u001b[0m\u001b[0m\n\u001b[0m\u001b[1;32m    314\u001b[0m         \u001b[0mself\u001b[0m\u001b[0;34m.\u001b[0m\u001b[0msagemaker_session\u001b[0m\u001b[0;34m.\u001b[0m\u001b[0mdelete_endpoint_config\u001b[0m\u001b[0;34m(\u001b[0m\u001b[0mcurrent_endpoint_config_name\u001b[0m\u001b[0;34m)\u001b[0m\u001b[0;34m\u001b[0m\u001b[0;34m\u001b[0m\u001b[0m\n\u001b[1;32m    315\u001b[0m \u001b[0;34m\u001b[0m\u001b[0m\n",
      "\u001b[0;32m/opt/conda/lib/python3.7/site-packages/sagemaker/predictor.py\u001b[0m in \u001b[0;36m_get_endpoint_config_name\u001b[0;34m(self)\u001b[0m\n\u001b[1;32m    518\u001b[0m             \u001b[0;32mreturn\u001b[0m \u001b[0mself\u001b[0m\u001b[0;34m.\u001b[0m\u001b[0m_endpoint_config_name\u001b[0m\u001b[0;34m\u001b[0m\u001b[0;34m\u001b[0m\u001b[0m\n\u001b[1;32m    519\u001b[0m         endpoint_desc = self.sagemaker_session.sagemaker_client.describe_endpoint(\n\u001b[0;32m--> 520\u001b[0;31m             \u001b[0mEndpointName\u001b[0m\u001b[0;34m=\u001b[0m\u001b[0mself\u001b[0m\u001b[0;34m.\u001b[0m\u001b[0mendpoint_name\u001b[0m\u001b[0;34m\u001b[0m\u001b[0;34m\u001b[0m\u001b[0m\n\u001b[0m\u001b[1;32m    521\u001b[0m         )\n\u001b[1;32m    522\u001b[0m         \u001b[0mself\u001b[0m\u001b[0;34m.\u001b[0m\u001b[0m_endpoint_config_name\u001b[0m \u001b[0;34m=\u001b[0m \u001b[0mendpoint_desc\u001b[0m\u001b[0;34m[\u001b[0m\u001b[0;34m\"EndpointConfigName\"\u001b[0m\u001b[0;34m]\u001b[0m\u001b[0;34m\u001b[0m\u001b[0;34m\u001b[0m\u001b[0m\n",
      "\u001b[0;32m/opt/conda/lib/python3.7/site-packages/botocore/client.py\u001b[0m in \u001b[0;36m_api_call\u001b[0;34m(self, *args, **kwargs)\u001b[0m\n\u001b[1;32m    513\u001b[0m                 )\n\u001b[1;32m    514\u001b[0m             \u001b[0;31m# The \"self\" in this scope is referring to the BaseClient.\u001b[0m\u001b[0;34m\u001b[0m\u001b[0;34m\u001b[0m\u001b[0;34m\u001b[0m\u001b[0m\n\u001b[0;32m--> 515\u001b[0;31m             \u001b[0;32mreturn\u001b[0m \u001b[0mself\u001b[0m\u001b[0;34m.\u001b[0m\u001b[0m_make_api_call\u001b[0m\u001b[0;34m(\u001b[0m\u001b[0moperation_name\u001b[0m\u001b[0;34m,\u001b[0m \u001b[0mkwargs\u001b[0m\u001b[0;34m)\u001b[0m\u001b[0;34m\u001b[0m\u001b[0;34m\u001b[0m\u001b[0m\n\u001b[0m\u001b[1;32m    516\u001b[0m \u001b[0;34m\u001b[0m\u001b[0m\n\u001b[1;32m    517\u001b[0m         \u001b[0m_api_call\u001b[0m\u001b[0;34m.\u001b[0m\u001b[0m__name__\u001b[0m \u001b[0;34m=\u001b[0m \u001b[0mstr\u001b[0m\u001b[0;34m(\u001b[0m\u001b[0mpy_operation_name\u001b[0m\u001b[0;34m)\u001b[0m\u001b[0;34m\u001b[0m\u001b[0;34m\u001b[0m\u001b[0m\n",
      "\u001b[0;32m/opt/conda/lib/python3.7/site-packages/botocore/client.py\u001b[0m in \u001b[0;36m_make_api_call\u001b[0;34m(self, operation_name, api_params)\u001b[0m\n\u001b[1;32m    932\u001b[0m             \u001b[0merror_code\u001b[0m \u001b[0;34m=\u001b[0m \u001b[0mparsed_response\u001b[0m\u001b[0;34m.\u001b[0m\u001b[0mget\u001b[0m\u001b[0;34m(\u001b[0m\u001b[0;34m\"Error\"\u001b[0m\u001b[0;34m,\u001b[0m \u001b[0;34m{\u001b[0m\u001b[0;34m}\u001b[0m\u001b[0;34m)\u001b[0m\u001b[0;34m.\u001b[0m\u001b[0mget\u001b[0m\u001b[0;34m(\u001b[0m\u001b[0;34m\"Code\"\u001b[0m\u001b[0;34m)\u001b[0m\u001b[0;34m\u001b[0m\u001b[0;34m\u001b[0m\u001b[0m\n\u001b[1;32m    933\u001b[0m             \u001b[0merror_class\u001b[0m \u001b[0;34m=\u001b[0m \u001b[0mself\u001b[0m\u001b[0;34m.\u001b[0m\u001b[0mexceptions\u001b[0m\u001b[0;34m.\u001b[0m\u001b[0mfrom_code\u001b[0m\u001b[0;34m(\u001b[0m\u001b[0merror_code\u001b[0m\u001b[0;34m)\u001b[0m\u001b[0;34m\u001b[0m\u001b[0;34m\u001b[0m\u001b[0m\n\u001b[0;32m--> 934\u001b[0;31m             \u001b[0;32mraise\u001b[0m \u001b[0merror_class\u001b[0m\u001b[0;34m(\u001b[0m\u001b[0mparsed_response\u001b[0m\u001b[0;34m,\u001b[0m \u001b[0moperation_name\u001b[0m\u001b[0;34m)\u001b[0m\u001b[0;34m\u001b[0m\u001b[0;34m\u001b[0m\u001b[0m\n\u001b[0m\u001b[1;32m    935\u001b[0m         \u001b[0;32melse\u001b[0m\u001b[0;34m:\u001b[0m\u001b[0;34m\u001b[0m\u001b[0;34m\u001b[0m\u001b[0m\n\u001b[1;32m    936\u001b[0m             \u001b[0;32mreturn\u001b[0m \u001b[0mparsed_response\u001b[0m\u001b[0;34m\u001b[0m\u001b[0;34m\u001b[0m\u001b[0m\n",
      "\u001b[0;31mClientError\u001b[0m: An error occurred (ValidationException) when calling the DescribeEndpoint operation: Could not find endpoint \"arn:aws:sagemaker:us-east-1:451246788348:endpoint/linear-learner-2022-11-23-09-43-29-977\"."
     ]
    }
   ],
   "source": [
    "linear_regressor.delete_endpoint() #deleting the endpoint of AWS"
   ]
  },
  {
   "cell_type": "code",
   "execution_count": null,
   "id": "f1c24d88-7ef4-403c-972e-049f3f8e83bc",
   "metadata": {},
   "outputs": [],
   "source": []
  }
 ],
 "metadata": {
  "instance_type": "ml.t3.medium",
  "kernelspec": {
   "display_name": "Python 3 (ipykernel)",
   "language": "python",
   "name": "python3"
  },
  "language_info": {
   "codemirror_mode": {
    "name": "ipython",
    "version": 3
   },
   "file_extension": ".py",
   "mimetype": "text/x-python",
   "name": "python",
   "nbconvert_exporter": "python",
   "pygments_lexer": "ipython3",
   "version": "3.9.12"
  }
 },
 "nbformat": 4,
 "nbformat_minor": 5
}
