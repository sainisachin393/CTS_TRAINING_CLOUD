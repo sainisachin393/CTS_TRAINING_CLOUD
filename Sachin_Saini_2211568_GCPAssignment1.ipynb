{
  "cells": [
    {
      "cell_type": "markdown",
      "id": "zX4KK3ijZne-",
      "metadata": {
        "id": "zX4KK3ijZne-"
      },
      "source": [
        "\n",
        "\n",
        "\n",
        "**Task**- To Use Big query to import the dataset, build a model and finally saving the model in the Google Storage account.\n",
        "\n",
        "**About the Dataset**- \n",
        "\n",
        "Describes all United States births registered in the 50 States, the District of Columbia, and New York City from 1969 to 2008.\n",
        "\n",
        "**Feature Description:**\n",
        "\n",
        "**Dependent Variable**\n",
        "\n",
        "- **weight_pounds** - Weight of the child, in pounds.\n",
        "\n",
        "**Independent Variable:**\n",
        "\n",
        "- **is_male** - TRUE if the child is male, FALSE if female.\n",
        "-  **mother_age** - Reported age of the mother when giving birth.\n",
        "-  **plurality** - How many children were born as a result of this pregnancy. twins=2, triplets=3, and so on.\n",
        "-  **gestation_weeks** - The number of weeks of the pregnancy.\n"
      ]
    },
    {
      "cell_type": "code",
      "execution_count": null,
      "id": "4cd55244-6c8d-4b71-91c3-121f8f896d7d",
      "metadata": {
        "id": "4cd55244-6c8d-4b71-91c3-121f8f896d7d"
      },
      "outputs": [],
      "source": [
        "# Installing xgboost \n",
        "!pip3 install xgboost==0.82"
      ]
    },
    {
      "cell_type": "code",
      "execution_count": null,
      "id": "112381d2-ecf0-40ee-97ed-f5048d7515ab",
      "metadata": {
        "id": "112381d2-ecf0-40ee-97ed-f5048d7515ab"
      },
      "outputs": [],
      "source": [
        "import pandas as pd                                 \n",
        "import xgboost as xgb                                \n",
        "import numpy as np                                   \n",
        "\n",
        "from sklearn.model_selection import train_test_split \n",
        "from sklearn.utils import shuffle                    \n",
        "from sklearn.metrics import r2_score                 \n",
        "\n",
        "# BigQuery is a fully managed, serverless SQL data warehouse that allows for speedy SQL queries and \n",
        "# interactive analysis of large datasets.\n",
        "from google.cloud import bigquery                    "
      ]
    },
    {
      "cell_type": "markdown",
      "id": "w1vze5PRN6qg",
      "metadata": {
        "id": "w1vze5PRN6qg"
      },
      "source": [
        "# Importing the dataset\n",
        "We will be using big query to import the dataset."
      ]
    },
    {
      "cell_type": "markdown",
      "id": "02221f8d-f07e-4799-b3bc-2b0b4711b0da",
      "metadata": {
        "id": "02221f8d-f07e-4799-b3bc-2b0b4711b0da"
      },
      "source": [
        "1. To find the total number of rows in the entire dataset"
      ]
    },
    {
      "cell_type": "code",
      "execution_count": null,
      "id": "ba0bc4ee-f70c-4a18-92be-873c45199cdb",
      "metadata": {
        "id": "ba0bc4ee-f70c-4a18-92be-873c45199cdb"
      },
      "outputs": [],
      "source": [
        "query1=\"\"\"\n",
        "SELECT\n",
        "  count(*),\n",
        "FROM\n",
        "  publicdata.samples.natality\n",
        "\"\"\""
      ]
    },
    {
      "cell_type": "code",
      "execution_count": null,
      "id": "26fda989-a8eb-4a3f-a86a-143548bd62ca",
      "metadata": {
        "id": "26fda989-a8eb-4a3f-a86a-143548bd62ca"
      },
      "outputs": [],
      "source": [
        "df = bigquery.Client().query(query1).to_dataframe()\n",
        "df"
      ]
    },
    {
      "cell_type": "markdown",
      "id": "57b807c4-ee8d-47d2-8a0a-1e2647b17607",
      "metadata": {
        "id": "57b807c4-ee8d-47d2-8a0a-1e2647b17607"
      },
      "source": [
        "2. To find the number of records for the year 2000"
      ]
    },
    {
      "cell_type": "code",
      "execution_count": null,
      "id": "69578226-5e78-4a5b-abe7-ac3ed8fdd447",
      "metadata": {
        "id": "69578226-5e78-4a5b-abe7-ac3ed8fdd447"
      },
      "outputs": [],
      "source": [
        "query2=\"\"\"\n",
        "SELECT\n",
        "count(*),\n",
        "FROM\n",
        "publicdata.samples.natality\n",
        "WHERE year = 2000\n",
        "\"\"\""
      ]
    },
    {
      "cell_type": "code",
      "execution_count": null,
      "id": "74fc5cef-6a41-4974-98c4-c96bdab4ae18",
      "metadata": {
        "id": "74fc5cef-6a41-4974-98c4-c96bdab4ae18"
      },
      "outputs": [],
      "source": [
        "df = bigquery.Client().query(query2).to_dataframe()\n",
        "df"
      ]
    },
    {
      "cell_type": "markdown",
      "id": "c6b2e8ae-b75d-4527-aba6-6599ddd8a3d8",
      "metadata": {
        "id": "c6b2e8ae-b75d-4527-aba6-6599ddd8a3d8"
      },
      "source": [
        "3. To find the number of records for the year >2000"
      ]
    },
    {
      "cell_type": "code",
      "execution_count": null,
      "id": "03860bb6-6cc9-4ac4-bb22-f2e1258dbc89",
      "metadata": {
        "id": "03860bb6-6cc9-4ac4-bb22-f2e1258dbc89"
      },
      "outputs": [],
      "source": [
        "query3=\"\"\"\n",
        "SELECT\n",
        "  count(*),\n",
        "FROM\n",
        "  publicdata.samples.natality\n",
        "  WHERE year >2000\n",
        "\"\"\""
      ]
    },
    {
      "cell_type": "code",
      "execution_count": null,
      "id": "841ba10a-4114-45a5-bef8-49ebdf383b8c",
      "metadata": {
        "id": "841ba10a-4114-45a5-bef8-49ebdf383b8c"
      },
      "outputs": [],
      "source": [
        "df = bigquery.Client().query(query3).to_dataframe()\n",
        "df"
      ]
    },
    {
      "cell_type": "markdown",
      "id": "021067c4-f1af-4069-85f5-a2dc94421cd0",
      "metadata": {
        "id": "021067c4-f1af-4069-85f5-a2dc94421cd0"
      },
      "source": [
        "## Importing the dataset for our analysis"
      ]
    },
    {
      "cell_type": "code",
      "execution_count": null,
      "id": "141450e5-2e2c-443a-ba73-205329cd01ee",
      "metadata": {
        "id": "141450e5-2e2c-443a-ba73-205329cd01ee"
      },
      "outputs": [],
      "source": [
        "query=\"\"\"\n",
        "SELECT\n",
        "  weight_pounds,\n",
        "  is_male,\n",
        "  mother_age,\n",
        "  plurality,\n",
        "  gestation_weeks\n",
        "FROM\n",
        "  publicdata.samples.natality\n",
        "WHERE year > 2000\n",
        "LIMIT 40000\n",
        "\"\"\""
      ]
    },
    {
      "cell_type": "code",
      "execution_count": null,
      "id": "04467bcd-22a4-4a9b-85fd-a301100847ab",
      "metadata": {
        "id": "04467bcd-22a4-4a9b-85fd-a301100847ab"
      },
      "outputs": [],
      "source": [
        "df = bigquery.Client().query(query).to_dataframe() \n",
        "df.head()"
      ]
    },
    {
      "cell_type": "markdown",
      "id": "L3ZMNhTuRmIq",
      "metadata": {
        "id": "L3ZMNhTuRmIq"
      },
      "source": [
        "# Exploring the data"
      ]
    },
    {
      "cell_type": "code",
      "execution_count": null,
      "id": "Vr3xk4QSSYoy",
      "metadata": {
        "id": "Vr3xk4QSSYoy"
      },
      "outputs": [],
      "source": [
        "df.info()"
      ]
    },
    {
      "cell_type": "code",
      "execution_count": null,
      "id": "E4JYAvNjSjUZ",
      "metadata": {
        "id": "E4JYAvNjSjUZ"
      },
      "outputs": [],
      "source": [
        "df.describe()"
      ]
    },
    {
      "cell_type": "code",
      "execution_count": null,
      "id": "ad03f6a5-513d-4947-a7d9-e93d0a180757",
      "metadata": {
        "id": "ad03f6a5-513d-4947-a7d9-e93d0a180757"
      },
      "outputs": [],
      "source": [
        "# checking the data is imbalanced or not\n",
        "df['is_male'].value_counts() "
      ]
    },
    {
      "cell_type": "code",
      "execution_count": null,
      "id": "d5155fd8-2390-4bee-bf4a-8cffac459bea",
      "metadata": {
        "id": "d5155fd8-2390-4bee-bf4a-8cffac459bea"
      },
      "outputs": [],
      "source": [
        "# Checking null  values\n",
        "df.isnull().sum()"
      ]
    },
    {
      "cell_type": "code",
      "execution_count": null,
      "id": "13eabcea-5fb3-45ae-bbd5-3625f2e36915",
      "metadata": {
        "id": "13eabcea-5fb3-45ae-bbd5-3625f2e36915"
      },
      "outputs": [],
      "source": [
        "df = df.dropna(axis=0) # Dropping all mising value rowwise"
      ]
    },
    {
      "cell_type": "code",
      "execution_count": null,
      "id": "089f3f68-d94d-4efe-8443-28a72c8ebaa4",
      "metadata": {
        "id": "089f3f68-d94d-4efe-8443-28a72c8ebaa4"
      },
      "outputs": [],
      "source": [
        "df.isnull().sum()  # Checking null values"
      ]
    },
    {
      "cell_type": "markdown",
      "id": "7usPZXIwS5P7",
      "metadata": {
        "id": "7usPZXIwS5P7"
      },
      "source": [
        "# Data Wrangling\n",
        "In this step we would be preparing the dataset for model building."
      ]
    },
    {
      "cell_type": "markdown",
      "id": "HHRkJfvzSss0",
      "metadata": {
        "id": "HHRkJfvzSss0"
      },
      "source": [
        "## Shuffling the data\n",
        "This step is done to generalize the model. Thus, the training data is representative of all the data, and there is bias."
      ]
    },
    {
      "cell_type": "code",
      "execution_count": null,
      "id": "6db21671-f9de-475a-a7ab-ee3557981edb",
      "metadata": {
        "id": "6db21671-f9de-475a-a7ab-ee3557981edb"
      },
      "outputs": [],
      "source": [
        "# Shuffle the data\n",
        "df = shuffle(df,random_state = 42) "
      ]
    },
    {
      "cell_type": "code",
      "execution_count": null,
      "id": "369cac51-f482-4e33-9fca-3b03b4d826f9",
      "metadata": {
        "id": "369cac51-f482-4e33-9fca-3b03b4d826f9"
      },
      "outputs": [],
      "source": [
        "df.head() "
      ]
    },
    {
      "cell_type": "code",
      "execution_count": null,
      "id": "141e2323-c889-48bc-94a6-5b97453fb51e",
      "metadata": {
        "id": "141e2323-c889-48bc-94a6-5b97453fb51e"
      },
      "outputs": [],
      "source": [
        "labels = df['weight_pounds']                                # Dependent variable\n",
        "data = df.drop(columns = ['weight_pounds'],axis = 1)        # Independent variables"
      ]
    },
    {
      "cell_type": "code",
      "execution_count": null,
      "id": "c19c3678-6e54-4cba-b25f-a50602e4317f",
      "metadata": {
        "id": "c19c3678-6e54-4cba-b25f-a50602e4317f"
      },
      "outputs": [],
      "source": [
        "# Converting the data type of all the independent variables to 'float' type\n",
        "data['is_male'] = data['is_male'].astype(float)\n",
        "data['mother_age'] = data['mother_age'].astype(float)\n",
        "data['plurality'] = data['plurality'].astype(float)\n",
        "data['gestation_weeks'] = data['gestation_weeks'].astype(float)"
      ]
    },
    {
      "cell_type": "code",
      "execution_count": null,
      "id": "a98aa7d1-e420-474c-a51a-1b74b34c391c",
      "metadata": {
        "id": "a98aa7d1-e420-474c-a51a-1b74b34c391c"
      },
      "outputs": [],
      "source": [
        "data.info()"
      ]
    },
    {
      "cell_type": "markdown",
      "id": "5g-aXDtfUxiT",
      "metadata": {
        "id": "5g-aXDtfUxiT"
      },
      "source": [
        "## Splitting the dataset into train and test\n",
        "This helps in evaluating the model performance."
      ]
    },
    {
      "cell_type": "code",
      "execution_count": null,
      "id": "a08a9c60-adb2-44ea-b3ff-6ee9eba77429",
      "metadata": {
        "id": "a08a9c60-adb2-44ea-b3ff-6ee9eba77429"
      },
      "outputs": [],
      "source": [
        "x,y =data,labels                                         # X being the independent variable and y being the dependent variable\n",
        "x_train,x_test,y_train,y_test = train_test_split(x,y)    # Splitting the data into train and test\n",
        "                                                         # Since we have not specified any splitting criterion 25% is for split"
      ]
    },
    {
      "cell_type": "markdown",
      "id": "b2Js3cEDVG6M",
      "metadata": {
        "id": "b2Js3cEDVG6M"
      },
      "source": [
        "# Model Building and Evaluation"
      ]
    },
    {
      "cell_type": "code",
      "execution_count": null,
      "id": "abf187e9-a3d5-42ab-a9ab-040448a819f7",
      "metadata": {
        "id": "abf187e9-a3d5-42ab-a9ab-040448a819f7"
      },
      "outputs": [],
      "source": [
        "model = xgb.XGBRegressor(objective = 'reg:linear') # Creating an instance of the class XGBRegressor"
      ]
    },
    {
      "cell_type": "code",
      "execution_count": null,
      "id": "13efc763-4964-4212-9291-78111b6d6cfb",
      "metadata": {
        "id": "13efc763-4964-4212-9291-78111b6d6cfb"
      },
      "outputs": [],
      "source": [
        "model.fit(x_train,y_train)                         # Now fitting to our dataset"
      ]
    },
    {
      "cell_type": "code",
      "execution_count": null,
      "id": "93d06e04-9121-47a9-8ac1-dda3f757816f",
      "metadata": {
        "id": "93d06e04-9121-47a9-8ac1-dda3f757816f"
      },
      "outputs": [],
      "source": [
        "y_pred = model.predict(x_test)                     # Predicting the first 25 observations"
      ]
    },
    {
      "cell_type": "code",
      "execution_count": null,
      "id": "47ca19d1-8949-43ce-b50e-4461e9e36e1e",
      "metadata": {
        "id": "47ca19d1-8949-43ce-b50e-4461e9e36e1e"
      },
      "outputs": [],
      "source": [
        "r2_score(y_test,y_pred)                            # Evaluating the performance of the model"
      ]
    },
    {
      "cell_type": "code",
      "execution_count": null,
      "id": "703fec70-7ac8-4fc0-8c5c-82476d534a10",
      "metadata": {
        "id": "703fec70-7ac8-4fc0-8c5c-82476d534a10"
      },
      "outputs": [],
      "source": [
        "# Printing the first 25 prediction with their true observed values.\n",
        "for i in range(25):\n",
        "    print('Predicted weight: ', y_pred[i])\n",
        "    print('Actual weight: ', y_test.iloc[i])\n",
        "    print()"
      ]
    },
    {
      "cell_type": "markdown",
      "id": "9182bad8-ec3c-4989-9cc8-3e71834fe6cf",
      "metadata": {
        "id": "9182bad8-ec3c-4989-9cc8-3e71834fe6cf"
      },
      "source": [
        "# Saving the model"
      ]
    },
    {
      "cell_type": "code",
      "execution_count": null,
      "id": "260570b0-f6f7-4105-984c-c6a121acf1ae",
      "metadata": {
        "id": "260570b0-f6f7-4105-984c-c6a121acf1ae"
      },
      "outputs": [],
      "source": [
        "# We save the model in .bst format. This will be saved in the working directory.\n",
        "model.save_model('jose_model.bst')  "
      ]
    },
    {
      "cell_type": "markdown",
      "id": "40b83ab7-b4ae-44cd-bb2a-e19ce583e936",
      "metadata": {
        "id": "40b83ab7-b4ae-44cd-bb2a-e19ce583e936"
      },
      "source": [
        "Now to save our model in our cloud storage, we do the following:"
      ]
    },
    {
      "cell_type": "code",
      "execution_count": null,
      "id": "64c16794-b962-4441-afd2-5a77dba0696a",
      "metadata": {
        "id": "64c16794-b962-4441-afd2-5a77dba0696a"
      },
      "outputs": [],
      "source": [
        "# Here we specify the details regarding our bucket\n",
        "GCP_PROJECT = 'My first Project'\n",
        "MODEL_BUCKET = 'gs://buckets'\n",
        "VERSION_NAME = 'v1'\n",
        "MODEL_NAME = 'model'\n",
        "REGION = 'asia-east1'\n",
        "FRAMEWORK=\"XGBOOST\""
      ]
    },
    {
      "cell_type": "code",
      "execution_count": null,
      "id": "a5157645-73b0-48ac-a86d-ba04e2cc486c",
      "metadata": {
        "id": "a5157645-73b0-48ac-a86d-ba04e2cc486c"
      },
      "outputs": [],
      "source": [
        "!gsutil mb $MODEL_BUCKET # This would create the bucket. The bucket will have the name as we had specified,"
      ]
    },
    {
      "cell_type": "code",
      "execution_count": null,
      "id": "34cb3d3e-68ec-46d2-b2d9-af78512a039c",
      "metadata": {
        "id": "34cb3d3e-68ec-46d2-b2d9-af78512a039c"
      },
      "outputs": [],
      "source": [
        "!gsutil cp ./jose_model.bst $MODEL_BUCKET  # Now the model is saved at this bucket"
      ]
    },
    {
      "cell_type": "code",
      "execution_count": null,
      "id": "a59eaeeb-832f-4adf-a56d-8610148a76b7",
      "metadata": {
        "id": "a59eaeeb-832f-4adf-a56d-8610148a76b7"
      },
      "outputs": [],
      "source": [
        "!gcloud ai-platform models create $MODEL_NAME  \\\n",
        "$REGION"
      ]
    },
    {
      "cell_type": "code",
      "execution_count": null,
      "id": "ffa3cce1-8902-4714-9c04-e04b26211e8c",
      "metadata": {
        "id": "ffa3cce1-8902-4714-9c04-e04b26211e8c"
      },
      "outputs": [],
      "source": [
        "!gcloud ai-platform versions create $VERSION_NAME \\\n",
        "  --model=$MODEL_NAME \\\n",
        "  --origin=$MODEL_BUCKET \\\n",
        "  --runtime-version=2.10 \\\n",
        "  --framework=$FRAMEWORK \\\n",
        "  --python-version=3.7 \\\n",
        "  --region=REGION \\"
      ]
    },
    {
      "cell_type": "markdown",
      "id": "5b49ce7b-b0b9-42c0-92c1-e78c27880f8d",
      "metadata": {
        "id": "5b49ce7b-b0b9-42c0-92c1-e78c27880f8d"
      },
      "source": [
        "# DEPLOYMENT\n",
        "In the following session, I would list out the steps to deploy the model using Command line Interface. It could be done using Console too, but here I would list out the steps involved for CLI alone.\n",
        "\n",
        "**Step 1.** Set environment variables to store the path to the Cloud Storage directory where your model binary is located, your model name, your version name and your framework choice.\n",
        "\n",
        "When you create a version with the gcloud CLI, you may provide the framework name in capital letters with underscores (for example, SCIKIT_LEARN) or in lowercase letters with hyphens (for example, scikit-learn). FOr our case it will be 'XGBOOST'.\n",
        "\n",
        "EG:\n",
        "\n",
        "MODEL_DIR=\"gs://your_bucket_name/\"\n",
        "\n",
        "VERSION_NAME=\"[YOUR-VERSION-NAME]\"\n",
        "\n",
        "MODEL_NAME=\"[YOUR-MODEL-NAME]\"\n",
        "\n",
        "FRAMEWORK=\"XG-BOOST\"\n",
        "\n",
        "CUSTOM_CODE_PATH=\"gs://your_bucket_name/my_custom_code-0.1.tar.gz\"\n",
        "\n",
        "---------------------------------------------------------------------------------------------\n",
        "**Step 2.** Create the version:\n",
        "\n",
        "EG:\n",
        "\n",
        "gcloud ai-platform versions create $VERSION_NAME \\\n",
        "  --model=$MODEL_NAME \\\n",
        "  \n",
        "  --origin=$MODEL_DIR \\\n",
        "  \n",
        "  --runtime-version=2.10 \\\n",
        "  \n",
        "  --framework=$FRAMEWORK \\\n",
        "  \n",
        "  --python-version=3.7 \\\n",
        "  \n",
        "  --region=REGION \\\n",
        "  \n",
        "  --machine-type=MACHINE_TYPE\n",
        "  \n",
        "Replace the following:\n",
        "\n",
        "**REGION:** The region of the regional endpoint on which you created the model. If you created the model on the global endpoint, omit the --region flag.\n",
        "\n",
        "**MACHINE_TYPE:** A machine type, determining the computing resources available to your prediction nodes\n",
        "\n",
        "----------------------------------------------------------------------------------------------------\n",
        "\n",
        "**Step 3.** Get information about your new version:\n",
        "\n",
        "EG:\n",
        "\n",
        "gcloud ai-platform versions describe $ VERSION_NAME \\\n",
        "  --model=$MODEL_NAME\n",
        "  \n",
        "WE would get an output as\n",
        "\n",
        "createTime: '2018-02-28T16:30:45Z'\n",
        "deploymentUri: gs://your_bucket_name\n",
        "framework: [YOUR-FRAMEWORK-NAME]\n",
        "machineType: mls1-c1-m2\n",
        "name: projects/[YOUR-PROJECT-ID]/models/[YOUR-MODEL-NAME]/versions/[YOUR-VERSION-NAME]\n",
        "pythonVersion: '3.7'\n",
        "runtimeVersion: '2.10'\n",
        "state: READY"
      ]
    }
  ],
  "metadata": {
    "colab": {
      "provenance": []
    },
    "environment": {
      "kernel": "python3",
      "name": "common-cpu.m102",
      "type": "gcloud",
      "uri": "gcr.io/deeplearning-platform-release/base-cpu:m102"
    },
    "kernelspec": {
      "display_name": "Python 3",
      "language": "python",
      "name": "python3"
    },
    "language_info": {
      "codemirror_mode": {
        "name": "ipython",
        "version": 3
      },
      "file_extension": ".py",
      "mimetype": "text/x-python",
      "name": "python",
      "nbconvert_exporter": "python",
      "pygments_lexer": "ipython3",
      "version": "3.7.12"
    }
  },
  "nbformat": 4,
  "nbformat_minor": 5
}