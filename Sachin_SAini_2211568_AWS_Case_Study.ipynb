{
 "cells": [
  {
   "cell_type": "code",
   "execution_count": 2,
   "id": "8cb1b54f-e123-4de7-af70-5b0119f192b3",
   "metadata": {
    "tags": []
   },
   "outputs": [
    {
     "name": "stdout",
     "output_type": "stream",
     "text": [
      "Keyring is skipped due to an exception: 'keyring.backends'\n",
      "Requirement already satisfied: s3fs in /opt/conda/lib/python3.7/site-packages (2022.11.0)\n",
      "Requirement already satisfied: aiohttp!=4.0.0a0,!=4.0.0a1 in /opt/conda/lib/python3.7/site-packages (from s3fs) (3.8.3)\n",
      "Requirement already satisfied: aiobotocore~=2.4.0 in /opt/conda/lib/python3.7/site-packages (from s3fs) (2.4.0)\n",
      "Requirement already satisfied: fsspec==2022.11.0 in /opt/conda/lib/python3.7/site-packages (from s3fs) (2022.11.0)\n",
      "Requirement already satisfied: aioitertools>=0.5.1 in /opt/conda/lib/python3.7/site-packages (from aiobotocore~=2.4.0->s3fs) (0.11.0)\n",
      "Requirement already satisfied: botocore<1.27.60,>=1.27.59 in /opt/conda/lib/python3.7/site-packages (from aiobotocore~=2.4.0->s3fs) (1.27.59)\n",
      "Requirement already satisfied: wrapt>=1.10.10 in /opt/conda/lib/python3.7/site-packages (from aiobotocore~=2.4.0->s3fs) (1.11.2)\n",
      "Requirement already satisfied: yarl<2.0,>=1.0 in /opt/conda/lib/python3.7/site-packages (from aiohttp!=4.0.0a0,!=4.0.0a1->s3fs) (1.8.1)\n",
      "Requirement already satisfied: async-timeout<5.0,>=4.0.0a3 in /opt/conda/lib/python3.7/site-packages (from aiohttp!=4.0.0a0,!=4.0.0a1->s3fs) (4.0.2)\n",
      "Requirement already satisfied: aiosignal>=1.1.2 in /opt/conda/lib/python3.7/site-packages (from aiohttp!=4.0.0a0,!=4.0.0a1->s3fs) (1.3.1)\n",
      "Requirement already satisfied: asynctest==0.13.0 in /opt/conda/lib/python3.7/site-packages (from aiohttp!=4.0.0a0,!=4.0.0a1->s3fs) (0.13.0)\n",
      "Requirement already satisfied: charset-normalizer<3.0,>=2.0 in /opt/conda/lib/python3.7/site-packages (from aiohttp!=4.0.0a0,!=4.0.0a1->s3fs) (2.0.4)\n",
      "Requirement already satisfied: multidict<7.0,>=4.5 in /opt/conda/lib/python3.7/site-packages (from aiohttp!=4.0.0a0,!=4.0.0a1->s3fs) (6.0.2)\n",
      "Requirement already satisfied: attrs>=17.3.0 in /opt/conda/lib/python3.7/site-packages (from aiohttp!=4.0.0a0,!=4.0.0a1->s3fs) (22.1.0)\n",
      "Requirement already satisfied: frozenlist>=1.1.1 in /opt/conda/lib/python3.7/site-packages (from aiohttp!=4.0.0a0,!=4.0.0a1->s3fs) (1.3.3)\n",
      "Requirement already satisfied: typing-extensions>=3.7.4 in /opt/conda/lib/python3.7/site-packages (from aiohttp!=4.0.0a0,!=4.0.0a1->s3fs) (4.4.0)\n",
      "Requirement already satisfied: python-dateutil<3.0.0,>=2.1 in /opt/conda/lib/python3.7/site-packages (from botocore<1.27.60,>=1.27.59->aiobotocore~=2.4.0->s3fs) (2.8.2)\n",
      "Requirement already satisfied: urllib3<1.27,>=1.25.4 in /opt/conda/lib/python3.7/site-packages (from botocore<1.27.60,>=1.27.59->aiobotocore~=2.4.0->s3fs) (1.26.12)\n",
      "Requirement already satisfied: jmespath<2.0.0,>=0.7.1 in /opt/conda/lib/python3.7/site-packages (from botocore<1.27.60,>=1.27.59->aiobotocore~=2.4.0->s3fs) (1.0.1)\n",
      "Requirement already satisfied: idna>=2.0 in /opt/conda/lib/python3.7/site-packages (from yarl<2.0,>=1.0->aiohttp!=4.0.0a0,!=4.0.0a1->s3fs) (2.8)\n",
      "Requirement already satisfied: six>=1.5 in /opt/conda/lib/python3.7/site-packages (from python-dateutil<3.0.0,>=2.1->botocore<1.27.60,>=1.27.59->aiobotocore~=2.4.0->s3fs) (1.14.0)\n",
      "\u001b[33mWARNING: Running pip as the 'root' user can result in broken permissions and conflicting behaviour with the system package manager. It is recommended to use a virtual environment instead: https://pip.pypa.io/warnings/venv\u001b[0m\u001b[33m\n",
      "\u001b[0m"
     ]
    }
   ],
   "source": [
    "\n",
    "!pip install s3fs \n",
    "import boto3\n",
    "\n",
    "import sagemaker\n",
    "\n",
    "from sagemaker.session import Session\n",
    "\n",
    "region = boto3.Session().region_name\n",
    " \n",
    "boto_session = boto3.Session(region_name=region)\n",
    " \n",
    "sagemaker_client = boto_session.client(service_name='sagemaker', region_name=region)\n",
    "featurestore_runtime = boto_session.client(service_name='sagemaker-featurestore-runtime', region_name=region)\n",
    "\n",
    "# Explain feature store\n",
    "feature_store_session = Session(\n",
    "    boto_session=boto_session,\n",
    "    sagemaker_client=sagemaker_client,\n",
    "    sagemaker_featurestore_runtime_client=featurestore_runtime\n",
    ")"
   ]
  },
  {
   "cell_type": "markdown",
   "id": "9bd39a29-e3b7-496d-93eb-0578c607fba8",
   "metadata": {},
   "source": [
    "# Set up S3 Bucket for the OfflineStore\n",
    "\n",
    "SageMaker Feature Store writes the ata in the OfflineStore of a FeatureGroup to S3 bucket owned by you. To be able to write to your S3 bucket, SageMaker Feature Store assumes an IAM role which has access to it. The role is also owned by you. Note that the same bucket can be re-used across FeatureGroups. Data in the bucket is partitioned by FeatureGroup."
   ]
  },
  {
   "cell_type": "code",
   "execution_count": 3,
   "id": "18b5006a-6bee-4395-8153-52934a3667a3",
   "metadata": {
    "tags": []
   },
   "outputs": [
    {
     "name": "stdout",
     "output_type": "stream",
     "text": [
      "sagemaker-us-east-1-555918697305\n"
     ]
    }
   ],
   "source": [
    "# Set up S3 Bucket for the offlinestore\n",
    "default_s3_bucket_name = feature_store_session.default_bucket()\n",
    "prefix = 'feature-store'\n",
    "\n",
    "print(default_s3_bucket_name)"
   ]
  },
  {
   "cell_type": "code",
   "execution_count": 4,
   "id": "c33059fc-eb23-4d7e-acf1-da7e9cb946c1",
   "metadata": {
    "tags": []
   },
   "outputs": [
    {
     "data": {
      "text/plain": [
       "'us-east-1'"
      ]
     },
     "execution_count": 4,
     "metadata": {},
     "output_type": "execute_result"
    }
   ],
   "source": [
    "region"
   ]
  },
  {
   "cell_type": "markdown",
   "id": "e5c7ab9d-9edc-4b86-9542-2864e6fefa31",
   "metadata": {
    "tags": []
   },
   "source": [
    " # Set up IAM Role"
   ]
  },
  {
   "cell_type": "code",
   "execution_count": 5,
   "id": "ea95a6c0-b19e-451b-8762-7e8f98e29f19",
   "metadata": {
    "tags": []
   },
   "outputs": [
    {
     "name": "stdout",
     "output_type": "stream",
     "text": [
      "arn:aws:iam::555918697305:role/service-role/AmazonSageMaker-ExecutionRole-20221121T170842\n"
     ]
    }
   ],
   "source": [
    "from sagemaker import get_execution_role\n",
    "\n",
    "# You can modify the following to use a role of your choosing. See the documentation for how to create this.\n",
    "role = get_execution_role()\n",
    "print(role)"
   ]
  },
  {
   "cell_type": "markdown",
   "id": "117b49b1-bdcc-45c0-930b-6a882da041d6",
   "metadata": {
    "tags": []
   },
   "source": [
    "# Inspect Dataset\n",
    "The Heart Failure Clinical Dataset contains electronic medical records of patients quantify symptoms, body features, and clinical laboratory test values of 299 patients with heart failure in 2015.\n",
    "\n",
    "The dataset contains one table with thirteen (13) columns:\n",
    "\n",
    "age: age of the patient"
   ]
  },
  {
   "cell_type": "code",
   "execution_count": 6,
   "id": "e43feefb-2887-4f40-883a-d11783877348",
   "metadata": {
    "tags": []
   },
   "outputs": [],
   "source": [
    "import pandas as pd\n",
    "from IPython.display import display"
   ]
  },
  {
   "cell_type": "code",
   "execution_count": 7,
   "id": "4bdc42a6-8b16-4d8b-a191-658be52b5fa7",
   "metadata": {
    "tags": []
   },
   "outputs": [
    {
     "name": "stdout",
     "output_type": "stream",
     "text": [
      "upload: ./clinical_records_dataset.csv to s3://sagemaker-us-east-1-555918697305/feature-store/data/clinical_records_dataset.csv\n"
     ]
    }
   ],
   "source": [
    "!aws s3 cp  ./clinical_records_dataset.csv s3://$default_s3_bucket_name/$prefix/data/"
   ]
  },
  {
   "cell_type": "code",
   "execution_count": 8,
   "id": "15e8ab56-519f-4ecc-a13a-6a4e189cf639",
   "metadata": {
    "tags": []
   },
   "outputs": [],
   "source": [
    "clinical_data_file_name = 'clinical_records_dataset.csv'\n",
    "clinical_data_path = \"s3://{}/{}/data/{}\".format(default_s3_bucket_name, prefix, clinical_data_file_name)"
   ]
  },
  {
   "cell_type": "code",
   "execution_count": 9,
   "id": "736d03a7-a89f-4cb8-bdcc-df87127421b5",
   "metadata": {
    "tags": []
   },
   "outputs": [
    {
     "data": {
      "text/plain": [
       "'s3://sagemaker-us-east-1-555918697305/feature-store/data/clinical_records_dataset.csv'"
      ]
     },
     "execution_count": 9,
     "metadata": {},
     "output_type": "execute_result"
    }
   ],
   "source": [
    "clinical_data_path"
   ]
  },
  {
   "cell_type": "code",
   "execution_count": 10,
   "id": "5f085f0f-8a59-43f3-b552-f2a50c8a9c6f",
   "metadata": {
    "tags": []
   },
   "outputs": [
    {
     "data": {
      "text/html": [
       "<div>\n",
       "<style scoped>\n",
       "    .dataframe tbody tr th:only-of-type {\n",
       "        vertical-align: middle;\n",
       "    }\n",
       "\n",
       "    .dataframe tbody tr th {\n",
       "        vertical-align: top;\n",
       "    }\n",
       "\n",
       "    .dataframe thead th {\n",
       "        text-align: right;\n",
       "    }\n",
       "</style>\n",
       "<table border=\"1\" class=\"dataframe\">\n",
       "  <thead>\n",
       "    <tr style=\"text-align: right;\">\n",
       "      <th></th>\n",
       "      <th>age</th>\n",
       "      <th>anaemia</th>\n",
       "      <th>creatinine_phosphokinase</th>\n",
       "      <th>diabetes</th>\n",
       "      <th>ejection_fraction</th>\n",
       "      <th>high_blood_pressure</th>\n",
       "      <th>platelets</th>\n",
       "      <th>serum_creatinine</th>\n",
       "      <th>serum_sodium</th>\n",
       "      <th>sex</th>\n",
       "      <th>smoking</th>\n",
       "      <th>time</th>\n",
       "      <th>DEATH_EVENT</th>\n",
       "    </tr>\n",
       "  </thead>\n",
       "  <tbody>\n",
       "    <tr>\n",
       "      <th>0</th>\n",
       "      <td>75.0</td>\n",
       "      <td>0</td>\n",
       "      <td>582</td>\n",
       "      <td>0</td>\n",
       "      <td>20</td>\n",
       "      <td>1</td>\n",
       "      <td>265000.00</td>\n",
       "      <td>1.9</td>\n",
       "      <td>130</td>\n",
       "      <td>1</td>\n",
       "      <td>0</td>\n",
       "      <td>4</td>\n",
       "      <td>1</td>\n",
       "    </tr>\n",
       "    <tr>\n",
       "      <th>1</th>\n",
       "      <td>55.0</td>\n",
       "      <td>0</td>\n",
       "      <td>7861</td>\n",
       "      <td>0</td>\n",
       "      <td>38</td>\n",
       "      <td>0</td>\n",
       "      <td>263358.03</td>\n",
       "      <td>1.1</td>\n",
       "      <td>136</td>\n",
       "      <td>1</td>\n",
       "      <td>0</td>\n",
       "      <td>6</td>\n",
       "      <td>1</td>\n",
       "    </tr>\n",
       "    <tr>\n",
       "      <th>2</th>\n",
       "      <td>65.0</td>\n",
       "      <td>0</td>\n",
       "      <td>146</td>\n",
       "      <td>0</td>\n",
       "      <td>20</td>\n",
       "      <td>0</td>\n",
       "      <td>162000.00</td>\n",
       "      <td>1.3</td>\n",
       "      <td>129</td>\n",
       "      <td>1</td>\n",
       "      <td>1</td>\n",
       "      <td>7</td>\n",
       "      <td>1</td>\n",
       "    </tr>\n",
       "    <tr>\n",
       "      <th>3</th>\n",
       "      <td>50.0</td>\n",
       "      <td>1</td>\n",
       "      <td>111</td>\n",
       "      <td>0</td>\n",
       "      <td>20</td>\n",
       "      <td>0</td>\n",
       "      <td>210000.00</td>\n",
       "      <td>1.9</td>\n",
       "      <td>137</td>\n",
       "      <td>1</td>\n",
       "      <td>0</td>\n",
       "      <td>7</td>\n",
       "      <td>1</td>\n",
       "    </tr>\n",
       "    <tr>\n",
       "      <th>4</th>\n",
       "      <td>65.0</td>\n",
       "      <td>1</td>\n",
       "      <td>160</td>\n",
       "      <td>1</td>\n",
       "      <td>20</td>\n",
       "      <td>0</td>\n",
       "      <td>327000.00</td>\n",
       "      <td>2.7</td>\n",
       "      <td>116</td>\n",
       "      <td>0</td>\n",
       "      <td>0</td>\n",
       "      <td>8</td>\n",
       "      <td>1</td>\n",
       "    </tr>\n",
       "  </tbody>\n",
       "</table>\n",
       "</div>"
      ],
      "text/plain": [
       "    age  anaemia  creatinine_phosphokinase  diabetes  ejection_fraction  \\\n",
       "0  75.0        0                       582         0                 20   \n",
       "1  55.0        0                      7861         0                 38   \n",
       "2  65.0        0                       146         0                 20   \n",
       "3  50.0        1                       111         0                 20   \n",
       "4  65.0        1                       160         1                 20   \n",
       "\n",
       "   high_blood_pressure  platelets  serum_creatinine  serum_sodium  sex  \\\n",
       "0                    1  265000.00               1.9           130    1   \n",
       "1                    0  263358.03               1.1           136    1   \n",
       "2                    0  162000.00               1.3           129    1   \n",
       "3                    0  210000.00               1.9           137    1   \n",
       "4                    0  327000.00               2.7           116    0   \n",
       "\n",
       "   smoking  time  DEATH_EVENT  \n",
       "0        0     4            1  \n",
       "1        0     6            1  \n",
       "2        1     7            1  \n",
       "3        0     7            1  \n",
       "4        0     8            1  "
      ]
     },
     "execution_count": 10,
     "metadata": {},
     "output_type": "execute_result"
    }
   ],
   "source": [
    "clinical = pd.read_csv(clinical_data_path)\n",
    "pd.set_option('display.max_columns', 500)\n",
    "clinical.head()"
   ]
  },
  {
   "cell_type": "code",
   "execution_count": 11,
   "id": "12aae765-2efd-4a2b-8648-2983ce88b185",
   "metadata": {
    "tags": []
   },
   "outputs": [
    {
     "name": "stdout",
     "output_type": "stream",
     "text": [
      "percentage of the value missing in each column is: \n"
     ]
    },
    {
     "data": {
      "text/plain": [
       "age                         0.0\n",
       "anaemia                     0.0\n",
       "creatinine_phosphokinase    0.0\n",
       "diabetes                    0.0\n",
       "ejection_fraction           0.0\n",
       "high_blood_pressure         0.0\n",
       "platelets                   0.0\n",
       "serum_creatinine            0.0\n",
       "serum_sodium                0.0\n",
       "sex                         0.0\n",
       "smoking                     0.0\n",
       "time                        0.0\n",
       "DEATH_EVENT                 0.0\n",
       "dtype: float64"
      ]
     },
     "execution_count": 11,
     "metadata": {},
     "output_type": "execute_result"
    }
   ],
   "source": [
    "print ('percentage of the value missing in each column is: ')\n",
    "clinical.isnull().sum() / len(clinical)"
   ]
  },
  {
   "cell_type": "code",
   "execution_count": 12,
   "id": "606cc846-16c1-4c34-ab1f-68be14f2044c",
   "metadata": {
    "tags": []
   },
   "outputs": [],
   "source": [
    "#### Add an id for each patient\n",
    "clinical.reset_index(inplace = True)\n",
    "clinical.rename(columns = {'index': 'patient_id'}, inplace = True)"
   ]
  },
  {
   "cell_type": "code",
   "execution_count": 13,
   "id": "d5310f52-1ecf-458d-8986-81cb7cc8bf56",
   "metadata": {
    "tags": []
   },
   "outputs": [],
   "source": [
    "import time\n",
    " \n",
    "current_time_sec = int(round(time.time()))\n",
    "# append EventTime feature\n",
    "clinical['EventTime'] = pd.Series([current_time_sec]*len(clinical), dtype=\"float64\")"
   ]
  },
  {
   "cell_type": "code",
   "execution_count": 14,
   "id": "55f0b66a-4603-40fb-b6ce-c0630a8fda39",
   "metadata": {
    "tags": []
   },
   "outputs": [],
   "source": [
    "def cast_object_to_string(data_frame):\n",
    "    for label in data_frame.columns:\n",
    "        if data_frame.dtypes[label] == 'object':\n",
    "            data_frame[label] = data_frame[label].astype(\"str\").astype(\"string\")\n",
    " \n",
    "# cast object dtype to string. The SageMaker Feature Store Python SDK will then map the string dtype to\n",
    "# String feature type.\n",
    "cast_object_to_string(clinical)"
   ]
  },
  {
   "cell_type": "markdown",
   "id": "b268d15c-82cf-48c0-bc65-cbbf5f4cc8fd",
   "metadata": {
    "tags": []
   },
   "source": [
    "# Create a TimeStamp for each Record"
   ]
  },
  {
   "cell_type": "code",
   "execution_count": 15,
   "id": "c6ca06b7-1add-44f9-a483-daf73e65d86b",
   "metadata": {
    "tags": []
   },
   "outputs": [],
   "source": [
    "from time import gmtime, strftime, sleep\n",
    "\n",
    "clinical_feature_group_name = 'clinical-feature-group-' + strftime('%d-%H-%M-%S', gmtime())"
   ]
  },
  {
   "cell_type": "markdown",
   "id": "a75cba80-21e7-4f2e-926a-8a526761f751",
   "metadata": {},
   "source": [
    "# Create a feature group"
   ]
  },
  {
   "cell_type": "code",
   "execution_count": 16,
   "id": "70dc6bc1-29f3-401e-93c2-1f73a1ea8346",
   "metadata": {
    "tags": []
   },
   "outputs": [],
   "source": [
    "from sagemaker.feature_store.feature_group import FeatureGroup\n",
    "\n",
    "clinical_feature_group = FeatureGroup(name=clinical_feature_group_name, sagemaker_session=feature_store_session)"
   ]
  },
  {
   "cell_type": "markdown",
   "id": "9bbfb060-e673-4267-8da8-9ee871709ccc",
   "metadata": {},
   "source": [
    "# Define Identifier\n",
    "\n",
    "In this step, we will specify a record identifier name and an event time feature name."
   ]
  },
  {
   "cell_type": "code",
   "execution_count": 17,
   "id": "9ff306cf-3e3a-4dac-8130-4fc5f0edcc79",
   "metadata": {
    "tags": []
   },
   "outputs": [],
   "source": [
    "# record identifier and event time feature names\n",
    "record_identifier_feature_name = \"patient_id\"\n",
    "event_time_feature_name = \"EventTime\""
   ]
  },
  {
   "cell_type": "markdown",
   "id": "acc311fc-359e-420f-a26f-485a1cec0b57",
   "metadata": {},
   "source": [
    "# Load feature definitions to the feature group"
   ]
  },
  {
   "cell_type": "code",
   "execution_count": 18,
   "id": "0d0bfd1a-021b-421e-9b3f-c992e0d751e9",
   "metadata": {
    "tags": []
   },
   "outputs": [],
   "source": [
    "clinical_feature_group.load_feature_definitions(data_frame=clinical); # output is suppressed"
   ]
  },
  {
   "cell_type": "code",
   "execution_count": 19,
   "id": "ae5677b9-f437-4bc3-8748-3ea2f09d0d34",
   "metadata": {
    "tags": []
   },
   "outputs": [
    {
     "name": "stdout",
     "output_type": "stream",
     "text": [
      "Waiting for Feature Group Creation\n",
      "Waiting for Feature Group Creation\n",
      "Waiting for Feature Group Creation\n",
      "Waiting for Feature Group Creation\n",
      "Waiting for Feature Group Creation\n",
      "FeatureGroup clinical-feature-group-02-08-42-31 successfully created.\n"
     ]
    }
   ],
   "source": [
    "def wait_for_feature_group_creation_complete(feature_group):\n",
    "    status = feature_group.describe().get(\"FeatureGroupStatus\")\n",
    "    while status == \"Creating\":\n",
    "        print(\"Waiting for Feature Group Creation\")\n",
    "        time.sleep(5)\n",
    "        status = feature_group.describe().get(\"FeatureGroupStatus\")\n",
    "    if status != \"Created\":\n",
    "        raise RuntimeError(f\"Failed to create feature group {feature_group.name}\")\n",
    "    print(f\"FeatureGroup {feature_group.name} successfully created.\")\n",
    " \n",
    "clinical_feature_group.create(\n",
    "    s3_uri=f\"s3://{default_s3_bucket_name}/{prefix}\", #offline feature store bucket\n",
    "    record_identifier_name=record_identifier_feature_name,\n",
    "    event_time_feature_name=event_time_feature_name,\n",
    "    role_arn=role,\n",
    "    enable_online_store=True\n",
    ")\n",
    "wait_for_feature_group_creation_complete(feature_group=clinical_feature_group)"
   ]
  },
  {
   "cell_type": "markdown",
   "id": "a2fd6514-75a5-4f58-8b3e-676cd11a8401",
   "metadata": {},
   "source": [
    "# Work with you FeatureGroup\n",
    "Check Feature Group info\n",
    "\n",
    "When you create a feature group "
   ]
  },
  {
   "cell_type": "code",
   "execution_count": 20,
   "id": "6309c924-37b4-4ab6-bb9b-5e75e6cff5e1",
   "metadata": {
    "tags": []
   },
   "outputs": [
    {
     "data": {
      "text/plain": [
       "{'FeatureGroupArn': 'arn:aws:sagemaker:us-east-1:555918697305:feature-group/clinical-feature-group-02-08-42-31',\n",
       " 'FeatureGroupName': 'clinical-feature-group-02-08-42-31',\n",
       " 'RecordIdentifierFeatureName': 'patient_id',\n",
       " 'EventTimeFeatureName': 'EventTime',\n",
       " 'FeatureDefinitions': [{'FeatureName': 'patient_id',\n",
       "   'FeatureType': 'Integral'},\n",
       "  {'FeatureName': 'age', 'FeatureType': 'Fractional'},\n",
       "  {'FeatureName': 'anaemia', 'FeatureType': 'Integral'},\n",
       "  {'FeatureName': 'creatinine_phosphokinase', 'FeatureType': 'Integral'},\n",
       "  {'FeatureName': 'diabetes', 'FeatureType': 'Integral'},\n",
       "  {'FeatureName': 'ejection_fraction', 'FeatureType': 'Integral'},\n",
       "  {'FeatureName': 'high_blood_pressure', 'FeatureType': 'Integral'},\n",
       "  {'FeatureName': 'platelets', 'FeatureType': 'Fractional'},\n",
       "  {'FeatureName': 'serum_creatinine', 'FeatureType': 'Fractional'},\n",
       "  {'FeatureName': 'serum_sodium', 'FeatureType': 'Integral'},\n",
       "  {'FeatureName': 'sex', 'FeatureType': 'Integral'},\n",
       "  {'FeatureName': 'smoking', 'FeatureType': 'Integral'},\n",
       "  {'FeatureName': 'time', 'FeatureType': 'Integral'},\n",
       "  {'FeatureName': 'DEATH_EVENT', 'FeatureType': 'Integral'},\n",
       "  {'FeatureName': 'EventTime', 'FeatureType': 'Fractional'}],\n",
       " 'CreationTime': datetime.datetime(2022, 12, 2, 8, 42, 31, 695000, tzinfo=tzlocal()),\n",
       " 'OnlineStoreConfig': {'EnableOnlineStore': True},\n",
       " 'OfflineStoreConfig': {'S3StorageConfig': {'S3Uri': 's3://sagemaker-us-east-1-555918697305/feature-store',\n",
       "   'ResolvedOutputS3Uri': 's3://sagemaker-us-east-1-555918697305/feature-store/555918697305/sagemaker/us-east-1/offline-store/clinical-feature-group-02-08-42-31-1669970551/data'},\n",
       "  'DisableGlueTableCreation': False,\n",
       "  'DataCatalogConfig': {'TableName': 'clinical-feature-group-02-08-42-31-1669970551',\n",
       "   'Catalog': 'AwsDataCatalog',\n",
       "   'Database': 'sagemaker_featurestore'}},\n",
       " 'RoleArn': 'arn:aws:iam::555918697305:role/service-role/AmazonSageMaker-ExecutionRole-20221121T170842',\n",
       " 'FeatureGroupStatus': 'Created',\n",
       " 'OnlineStoreTotalSizeBytes': 0,\n",
       " 'ResponseMetadata': {'RequestId': 'fe411c85-85b3-476a-a18e-b8ba70198b8d',\n",
       "  'HTTPStatusCode': 200,\n",
       "  'HTTPHeaders': {'x-amzn-requestid': 'fe411c85-85b3-476a-a18e-b8ba70198b8d',\n",
       "   'content-type': 'application/x-amz-json-1.1',\n",
       "   'content-length': '2281',\n",
       "   'date': 'Fri, 02 Dec 2022 08:42:58 GMT'},\n",
       "  'RetryAttempts': 0}}"
      ]
     },
     "execution_count": 20,
     "metadata": {},
     "output_type": "execute_result"
    }
   ],
   "source": [
    "clinical_feature_group.describe()"
   ]
  },
  {
   "cell_type": "code",
   "execution_count": 21,
   "id": "783c9ff4-993c-4469-b7e0-2c2851124c68",
   "metadata": {
    "tags": []
   },
   "outputs": [
    {
     "data": {
      "text/plain": [
       "{'FeatureGroupSummaries': [{'FeatureGroupName': 'clinical-feature-group-02-08-42-31',\n",
       "   'FeatureGroupArn': 'arn:aws:sagemaker:us-east-1:555918697305:feature-group/clinical-feature-group-02-08-42-31',\n",
       "   'CreationTime': datetime.datetime(2022, 12, 2, 8, 42, 31, 695000, tzinfo=tzlocal()),\n",
       "   'FeatureGroupStatus': 'Created'},\n",
       "  {'FeatureGroupName': 'clinical-feature-group-02-08-41-48',\n",
       "   'FeatureGroupArn': 'arn:aws:sagemaker:us-east-1:555918697305:feature-group/clinical-feature-group-02-08-41-48',\n",
       "   'CreationTime': datetime.datetime(2022, 12, 2, 8, 41, 49, 155000, tzinfo=tzlocal()),\n",
       "   'FeatureGroupStatus': 'Created'},\n",
       "  {'FeatureGroupName': 'clinical-feature-group-02-08-37-42',\n",
       "   'FeatureGroupArn': 'arn:aws:sagemaker:us-east-1:555918697305:feature-group/clinical-feature-group-02-08-37-42',\n",
       "   'CreationTime': datetime.datetime(2022, 12, 2, 8, 37, 42, 676000, tzinfo=tzlocal()),\n",
       "   'FeatureGroupStatus': 'Created'},\n",
       "  {'FeatureGroupName': 'clinical-feature-group-02-08-37-07',\n",
       "   'FeatureGroupArn': 'arn:aws:sagemaker:us-east-1:555918697305:feature-group/clinical-feature-group-02-08-37-07',\n",
       "   'CreationTime': datetime.datetime(2022, 12, 2, 8, 37, 7, 664000, tzinfo=tzlocal()),\n",
       "   'FeatureGroupStatus': 'Created'},\n",
       "  {'FeatureGroupName': 'clinical-feature-group-02-05-27-20',\n",
       "   'FeatureGroupArn': 'arn:aws:sagemaker:us-east-1:555918697305:feature-group/clinical-feature-group-02-05-27-20',\n",
       "   'CreationTime': datetime.datetime(2022, 12, 2, 5, 27, 22, 620000, tzinfo=tzlocal()),\n",
       "   'FeatureGroupStatus': 'Created',\n",
       "   'OfflineStoreStatus': {'Status': 'Active'}},\n",
       "  {'FeatureGroupName': 'clinical-feature-group-02-05-23-11',\n",
       "   'FeatureGroupArn': 'arn:aws:sagemaker:us-east-1:555918697305:feature-group/clinical-feature-group-02-05-23-11',\n",
       "   'CreationTime': datetime.datetime(2022, 12, 2, 5, 23, 11, 788000, tzinfo=tzlocal()),\n",
       "   'FeatureGroupStatus': 'Created',\n",
       "   'OfflineStoreStatus': {'Status': 'Active'}},\n",
       "  {'FeatureGroupName': 'clinical-feature-group-02-05-09-29',\n",
       "   'FeatureGroupArn': 'arn:aws:sagemaker:us-east-1:555918697305:feature-group/clinical-feature-group-02-05-09-29',\n",
       "   'CreationTime': datetime.datetime(2022, 12, 2, 5, 10, 54, 906000, tzinfo=tzlocal()),\n",
       "   'FeatureGroupStatus': 'Created',\n",
       "   'OfflineStoreStatus': {'Status': 'Active'}},\n",
       "  {'FeatureGroupName': 'clinical-feature-group-02-04-58-06',\n",
       "   'FeatureGroupArn': 'arn:aws:sagemaker:us-east-1:555918697305:feature-group/clinical-feature-group-02-04-58-06',\n",
       "   'CreationTime': datetime.datetime(2022, 12, 2, 4, 58, 6, 740000, tzinfo=tzlocal()),\n",
       "   'FeatureGroupStatus': 'Created',\n",
       "   'OfflineStoreStatus': {'Status': 'Active'}},\n",
       "  {'FeatureGroupName': 'clinical-feature-group-02-04-57-40',\n",
       "   'FeatureGroupArn': 'arn:aws:sagemaker:us-east-1:555918697305:feature-group/clinical-feature-group-02-04-57-40',\n",
       "   'CreationTime': datetime.datetime(2022, 12, 2, 4, 57, 40, 477000, tzinfo=tzlocal()),\n",
       "   'FeatureGroupStatus': 'Created'},\n",
       "  {'FeatureGroupName': 'clinical-feature-group-02-04-53-05',\n",
       "   'FeatureGroupArn': 'arn:aws:sagemaker:us-east-1:555918697305:feature-group/clinical-feature-group-02-04-53-05',\n",
       "   'CreationTime': datetime.datetime(2022, 12, 2, 4, 55, 51, 974000, tzinfo=tzlocal()),\n",
       "   'FeatureGroupStatus': 'Created'}],\n",
       " 'NextToken': 'cIws2QhTXUIa8bi8WLHDwIzYoW3ueHs5ISc3bjutZYaAt5zfoCuvCDVh98EW8JhSKaFHLBHWi9ss0GtYRrcgg99Ir9rBnwFJF97jN/Pxc8of8GyDwZ2As2Kg40ClXxStoR43kGJnJPIGBRDslQs8PG58M7G1gNto5PdHKL0XB7tn6pe2XuJ11Hwfs+xfuD22bV07UVRrr8vEEOfcKnnFvDiOxGJdq3tt+YWnBtJpVayZjrTF0F/KHGQRTk3IkmxG9iHaGGAVwT78bJ9BGis3WgChbpOLaQHAxr7he/2vnbM2IedcqWNejAMQbMFut1ySukdJRtaT0LwRbnft1AKYzhehVwgGVs0GFwhofXz+Sb0Ypq71x5ldSQwaJ2ZsiajuGd0uAdAZ1VUqq7Kw+OEzHwUbM+ifjkgU0D/ykPSeWhBGij51Fvq3PjIkYTPAxBr4mQ9ECq67ZZTGgeNddytMTmQ6pKx/xaobBwPtsDGrUoop4+WqXtkMDAkY2csSHysYUQ3l6QzHZMvHGEX+7mIkbKU7LghJ4MEl+qi00ZFepZXyP2IE5Y2hXBLK2Aoo0xH2D2Nttw==',\n",
       " 'ResponseMetadata': {'RequestId': '4bafa2e9-155b-4258-9bff-3c2011bef01d',\n",
       "  'HTTPStatusCode': 200,\n",
       "  'HTTPHeaders': {'x-amzn-requestid': '4bafa2e9-155b-4258-9bff-3c2011bef01d',\n",
       "   'content-type': 'application/x-amz-json-1.1',\n",
       "   'content-length': '3098',\n",
       "   'date': 'Fri, 02 Dec 2022 08:42:58 GMT'},\n",
       "  'RetryAttempts': 0}}"
      ]
     },
     "execution_count": 21,
     "metadata": {},
     "output_type": "execute_result"
    }
   ],
   "source": [
    "sagemaker_client.list_feature_groups() #use boto client to list FeatureGroups"
   ]
  },
  {
   "cell_type": "code",
   "execution_count": 22,
   "id": "43c7c267-0602-47f3-8122-7ef867ed68dd",
   "metadata": {},
   "outputs": [],
   "source": [
    "# Put records into the Featrue Store\n"
   ]
  },
  {
   "cell_type": "code",
   "execution_count": 23,
   "id": "0216ed28-9699-459a-83e4-c627202f7374",
   "metadata": {
    "tags": []
   },
   "outputs": [
    {
     "data": {
      "text/plain": [
       "IngestionManagerPandas(feature_group_name='clinical-feature-group-02-08-42-31', sagemaker_fs_runtime_client_config=<botocore.config.Config object at 0x7faafc739bd0>, max_workers=3, max_processes=1, profile_name=None, _async_result=<multiprocess.pool.MapResult object at 0x7faafab5b990>, _processing_pool=<pool ProcessPool(ncpus=1)>, _failed_indices=[])"
      ]
     },
     "execution_count": 23,
     "metadata": {},
     "output_type": "execute_result"
    }
   ],
   "source": [
    "clinical_feature_group.ingest(\n",
    "    data_frame = clinical, max_workers = 3, wait = True)"
   ]
  },
  {
   "cell_type": "markdown",
   "id": "bb2abbbd-1175-4bb8-b251-fdf4ec285171",
   "metadata": {
    "tags": []
   },
   "source": [
    "# Get Records from a Feature Group\n",
    "We can use the get_record function to retrieve the data for a specific feature by its record identifier from the online store."
   ]
  },
  {
   "cell_type": "code",
   "execution_count": 24,
   "id": "97ae5229-4f0a-44d8-8e4e-c10cdc994da1",
   "metadata": {
    "tags": []
   },
   "outputs": [
    {
     "data": {
      "text/plain": [
       "{'ResponseMetadata': {'RequestId': 'a4ff262e-a685-4c48-b159-8213131becb9',\n",
       "  'HTTPStatusCode': 200,\n",
       "  'HTTPHeaders': {'x-amzn-requestid': 'a4ff262e-a685-4c48-b159-8213131becb9',\n",
       "   'content-type': 'application/json',\n",
       "   'content-length': '788',\n",
       "   'date': 'Fri, 02 Dec 2022 08:43:00 GMT'},\n",
       "  'RetryAttempts': 0},\n",
       " 'Record': [{'FeatureName': 'patient_id', 'ValueAsString': '200'},\n",
       "  {'FeatureName': 'age', 'ValueAsString': '63.0'},\n",
       "  {'FeatureName': 'anaemia', 'ValueAsString': '1'},\n",
       "  {'FeatureName': 'creatinine_phosphokinase', 'ValueAsString': '1767'},\n",
       "  {'FeatureName': 'diabetes', 'ValueAsString': '0'},\n",
       "  {'FeatureName': 'ejection_fraction', 'ValueAsString': '45'},\n",
       "  {'FeatureName': 'high_blood_pressure', 'ValueAsString': '0'},\n",
       "  {'FeatureName': 'platelets', 'ValueAsString': '73000.0'},\n",
       "  {'FeatureName': 'serum_creatinine', 'ValueAsString': '0.7'},\n",
       "  {'FeatureName': 'serum_sodium', 'ValueAsString': '137'},\n",
       "  {'FeatureName': 'sex', 'ValueAsString': '1'},\n",
       "  {'FeatureName': 'smoking', 'ValueAsString': '0'},\n",
       "  {'FeatureName': 'time', 'ValueAsString': '186'},\n",
       "  {'FeatureName': 'DEATH_EVENT', 'ValueAsString': '0'},\n",
       "  {'FeatureName': 'EventTime', 'ValueAsString': '1669970551.0'}]}"
      ]
     },
     "execution_count": 24,
     "metadata": {},
     "output_type": "execute_result"
    }
   ],
   "source": [
    "record_identifier_value = str(200)\n",
    " \n",
    "featurestore_runtime.get_record(FeatureGroupName=clinical_feature_group_name, RecordIdentifierValueAsString=record_identifier_value)"
   ]
  },
  {
   "cell_type": "markdown",
   "id": "3749db37-b41d-47d9-89d0-068621e044e2",
   "metadata": {},
   "source": [
    "# Generate Hive DDL Commands\n",
    "The sagemaker Pyhton SDK's Feature Store class also provides the functionality to generate Hive DDL commands"
   ]
  },
  {
   "cell_type": "code",
   "execution_count": 25,
   "id": "626d9ee5-a9f1-40ef-a019-93741bec7136",
   "metadata": {
    "tags": []
   },
   "outputs": [
    {
     "name": "stdout",
     "output_type": "stream",
     "text": [
      "CREATE EXTERNAL TABLE IF NOT EXISTS sagemaker_featurestore.clinical-feature-group-02-08-42-31 (\n",
      "  patient_id INT\n",
      "  age FLOAT\n",
      "  anaemia INT\n",
      "  creatinine_phosphokinase INT\n",
      "  diabetes INT\n",
      "  ejection_fraction INT\n",
      "  high_blood_pressure INT\n",
      "  platelets FLOAT\n",
      "  serum_creatinine FLOAT\n",
      "  serum_sodium INT\n",
      "  sex INT\n",
      "  smoking INT\n",
      "  time INT\n",
      "  DEATH_EVENT INT\n",
      "  EventTime FLOAT\n",
      "  write_time TIMESTAMP\n",
      "  event_time TIMESTAMP\n",
      "  is_deleted BOOLEAN\n",
      ")\n",
      "ROW FORMAT SERDE 'org.apache.hadoop.hive.ql.io.parquet.serde.ParquetHiveSerDe'\n",
      "  STORED AS\n",
      "  INPUTFORMAT 'parquet.hive.DeprecatedParquetInputFormat'\n",
      "  OUTPUTFORMAT 'parquet.hive.DeprecatedParquetOutputFormat'\n",
      "LOCATION 's3://sagemaker-us-east-1-555918697305/feature-store/555918697305/sagemaker/us-east-1/offline-store/clinical-feature-group-02-08-42-31-1669970551/data'\n"
     ]
    }
   ],
   "source": [
    "print(clinical_feature_group.as_hive_ddl())"
   ]
  },
  {
   "cell_type": "code",
   "execution_count": 26,
   "id": "93eed7c3-c4c7-4c3a-b65c-d032bf770968",
   "metadata": {
    "tags": []
   },
   "outputs": [
    {
     "name": "stdout",
     "output_type": "stream",
     "text": [
      "555918697305\n",
      "clinical-feature-group-02-08-42-31-1669970551\n",
      "Waiting for data in offline store...\n",
      "\n",
      "Waiting for data in offline store...\n",
      "\n",
      "Waiting for data in offline store...\n",
      "\n",
      "Waiting for data in offline store...\n",
      "\n",
      "Waiting for data in offline store...\n",
      "\n",
      "Waiting for data in offline store...\n",
      "\n",
      "Data available.\n",
      "CPU times: user 179 ms, sys: 21.2 ms, total: 200 ms\n",
      "Wall time: 6min 1s\n"
     ]
    }
   ],
   "source": [
    "%%time\n",
    "s3_client = boto3.client('s3', region_name=region)\n",
    " \n",
    "account_id = boto3.client('sts').get_caller_identity()[\"Account\"]\n",
    " \n",
    "clinical_feature_group_table_name = clinical_feature_group.describe().get('OfflineStoreConfig').get('DataCatalogConfig').get('TableName')\n",
    " \n",
    "print(account_id)\n",
    "print(clinical_feature_group_table_name)\n",
    " \n",
    "clinical_feature_group_s3_prefix = prefix + '/' + account_id + '/sagemaker/' + region + '/offline-store/' + clinical_feature_group_table_name + '/data'\n",
    " \n",
    "offline_store_contents = None\n",
    "while (offline_store_contents is None):\n",
    "    objects_in_bucket = s3_client.list_objects(Bucket=default_s3_bucket_name, Prefix=clinical_feature_group_s3_prefix)\n",
    "    if ('Contents' in objects_in_bucket and len(objects_in_bucket['Contents']) >= 1):\n",
    "        offline_store_contents = objects_in_bucket['Contents']\n",
    "    else:\n",
    "        print('Waiting for data in offline store...\\n')\n",
    "        sleep(60)\n",
    "\n",
    "print('Data available.')"
   ]
  },
  {
   "cell_type": "code",
   "execution_count": 27,
   "id": "9ee18e72-c77f-44a7-ac17-b0b2faf193ac",
   "metadata": {},
   "outputs": [],
   "source": [
    "# Build a training Dataset\n",
    "\n"
   ]
  },
  {
   "cell_type": "code",
   "execution_count": 28,
   "id": "06487618-98a1-4e52-a572-3d2edc02a961",
   "metadata": {
    "tags": []
   },
   "outputs": [],
   "source": [
    "clinical_query = clinical_feature_group.athena_query()\n",
    "clinical_table = clinical_query.table_name"
   ]
  },
  {
   "cell_type": "code",
   "execution_count": 29,
   "id": "f47a6ddf-3e14-4cb1-9bf8-5a0c299b4c97",
   "metadata": {
    "tags": []
   },
   "outputs": [],
   "source": [
    "# Athena query\n",
    "query_string = 'SELECT * FROM \"'+clinical_table+'\" LIMIT 290'\n",
    " \n",
    "# run Athena query. The output is loaded to a Pandas dataframe.\n",
    "dataset = pd.DataFrame()\n",
    "clinical_query.run(query_string=query_string, output_location='s3://'+default_s3_bucket_name+'/query_results/')\n",
    "clinical_query.wait()\n",
    "dataset = clinical_query.as_dataframe()"
   ]
  },
  {
   "cell_type": "code",
   "execution_count": 30,
   "id": "4f4c2cd5-ed24-4afc-a105-63ef400d77d9",
   "metadata": {
    "tags": []
   },
   "outputs": [],
   "source": [
    "id_for_test = []\n",
    "for i in range(299):\n",
    "    if i not in dataset['patient_id'].unique():\n",
    "        id_for_test.append(i)"
   ]
  },
  {
   "cell_type": "code",
   "execution_count": 31,
   "id": "ad932316-f4e2-45ca-b646-2f84a75689fe",
   "metadata": {
    "tags": []
   },
   "outputs": [],
   "source": [
    "# Select useful columns for training with target column as the first.\n",
    "dataset = dataset[[\"death_event\", \"age\", 'anaemia', 'creatinine_phosphokinase', 'diabetes',\n",
    "       'ejection_fraction', 'high_blood_pressure', 'platelets',\n",
    "       'serum_creatinine', 'serum_sodium', 'sex', 'smoking', 'time']]\n",
    "# Write to csv in S3 without headers and index column.\n",
    "dataset.to_csv('dataset.csv', header=False, index=False)\n",
    "s3_client.upload_file('dataset.csv', default_s3_bucket_name, prefix+'/training_input/dataset.csv')\n",
    "dataset_uri_prefix = 's3://'+default_s3_bucket_name+'/'+prefix+'/training_input/';"
   ]
  },
  {
   "cell_type": "code",
   "execution_count": 32,
   "id": "cb8a659a-9888-4876-834d-ab76ac105620",
   "metadata": {
    "tags": []
   },
   "outputs": [
    {
     "data": {
      "text/html": [
       "<div>\n",
       "<style scoped>\n",
       "    .dataframe tbody tr th:only-of-type {\n",
       "        vertical-align: middle;\n",
       "    }\n",
       "\n",
       "    .dataframe tbody tr th {\n",
       "        vertical-align: top;\n",
       "    }\n",
       "\n",
       "    .dataframe thead th {\n",
       "        text-align: right;\n",
       "    }\n",
       "</style>\n",
       "<table border=\"1\" class=\"dataframe\">\n",
       "  <thead>\n",
       "    <tr style=\"text-align: right;\">\n",
       "      <th></th>\n",
       "      <th>death_event</th>\n",
       "      <th>age</th>\n",
       "      <th>anaemia</th>\n",
       "      <th>creatinine_phosphokinase</th>\n",
       "      <th>diabetes</th>\n",
       "      <th>ejection_fraction</th>\n",
       "      <th>high_blood_pressure</th>\n",
       "      <th>platelets</th>\n",
       "      <th>serum_creatinine</th>\n",
       "      <th>serum_sodium</th>\n",
       "      <th>sex</th>\n",
       "      <th>smoking</th>\n",
       "      <th>time</th>\n",
       "    </tr>\n",
       "  </thead>\n",
       "  <tbody>\n",
       "    <tr>\n",
       "      <th>0</th>\n",
       "      <td>1</td>\n",
       "      <td>75.0</td>\n",
       "      <td>1</td>\n",
       "      <td>81</td>\n",
       "      <td>0</td>\n",
       "      <td>38</td>\n",
       "      <td>1</td>\n",
       "      <td>368000.0</td>\n",
       "      <td>4.0</td>\n",
       "      <td>131</td>\n",
       "      <td>1</td>\n",
       "      <td>1</td>\n",
       "      <td>10</td>\n",
       "    </tr>\n",
       "    <tr>\n",
       "      <th>1</th>\n",
       "      <td>0</td>\n",
       "      <td>73.0</td>\n",
       "      <td>0</td>\n",
       "      <td>582</td>\n",
       "      <td>0</td>\n",
       "      <td>35</td>\n",
       "      <td>1</td>\n",
       "      <td>203000.0</td>\n",
       "      <td>1.3</td>\n",
       "      <td>134</td>\n",
       "      <td>1</td>\n",
       "      <td>0</td>\n",
       "      <td>195</td>\n",
       "    </tr>\n",
       "    <tr>\n",
       "      <th>2</th>\n",
       "      <td>0</td>\n",
       "      <td>58.0</td>\n",
       "      <td>1</td>\n",
       "      <td>57</td>\n",
       "      <td>0</td>\n",
       "      <td>25</td>\n",
       "      <td>0</td>\n",
       "      <td>189000.0</td>\n",
       "      <td>1.3</td>\n",
       "      <td>132</td>\n",
       "      <td>1</td>\n",
       "      <td>1</td>\n",
       "      <td>205</td>\n",
       "    </tr>\n",
       "    <tr>\n",
       "      <th>3</th>\n",
       "      <td>1</td>\n",
       "      <td>60.0</td>\n",
       "      <td>0</td>\n",
       "      <td>582</td>\n",
       "      <td>1</td>\n",
       "      <td>38</td>\n",
       "      <td>1</td>\n",
       "      <td>451000.0</td>\n",
       "      <td>0.6</td>\n",
       "      <td>138</td>\n",
       "      <td>1</td>\n",
       "      <td>1</td>\n",
       "      <td>40</td>\n",
       "    </tr>\n",
       "    <tr>\n",
       "      <th>4</th>\n",
       "      <td>0</td>\n",
       "      <td>60.0</td>\n",
       "      <td>1</td>\n",
       "      <td>607</td>\n",
       "      <td>0</td>\n",
       "      <td>40</td>\n",
       "      <td>0</td>\n",
       "      <td>216000.0</td>\n",
       "      <td>0.6</td>\n",
       "      <td>138</td>\n",
       "      <td>1</td>\n",
       "      <td>1</td>\n",
       "      <td>54</td>\n",
       "    </tr>\n",
       "  </tbody>\n",
       "</table>\n",
       "</div>"
      ],
      "text/plain": [
       "   death_event   age  anaemia  creatinine_phosphokinase  diabetes  \\\n",
       "0            1  75.0        1                        81         0   \n",
       "1            0  73.0        0                       582         0   \n",
       "2            0  58.0        1                        57         0   \n",
       "3            1  60.0        0                       582         1   \n",
       "4            0  60.0        1                       607         0   \n",
       "\n",
       "   ejection_fraction  high_blood_pressure  platelets  serum_creatinine  \\\n",
       "0                 38                    1   368000.0               4.0   \n",
       "1                 35                    1   203000.0               1.3   \n",
       "2                 25                    0   189000.0               1.3   \n",
       "3                 38                    1   451000.0               0.6   \n",
       "4                 40                    0   216000.0               0.6   \n",
       "\n",
       "   serum_sodium  sex  smoking  time  \n",
       "0           131    1        1    10  \n",
       "1           134    1        0   195  \n",
       "2           132    1        1   205  \n",
       "3           138    1        1    40  \n",
       "4           138    1        1    54  "
      ]
     },
     "execution_count": 32,
     "metadata": {},
     "output_type": "execute_result"
    }
   ],
   "source": [
    "dataset.head()"
   ]
  },
  {
   "cell_type": "code",
   "execution_count": null,
   "id": "b1685a9a-9e8b-4957-ab9c-1f694933e49a",
   "metadata": {},
   "outputs": [],
   "source": []
  },
  {
   "cell_type": "code",
   "execution_count": null,
   "id": "a7a25141-a01f-4eb4-aba1-5746d017bf89",
   "metadata": {},
   "outputs": [],
   "source": []
  },
  {
   "cell_type": "code",
   "execution_count": 36,
   "id": "3d87bd68-e25d-4200-92a9-31f37074f460",
   "metadata": {},
   "outputs": [],
   "source": [
    "#Train and Deploy the MOdel\n",
    "\n",
    "\n",
    "training_image=sagemaker.image_uris.retrieve(\"xgboost\", region, \"1.0-1\")\n"
   ]
  },
  {
   "cell_type": "code",
   "execution_count": 37,
   "id": "31e81787-85b8-497f-b1a2-877a928901d9",
   "metadata": {
    "tags": []
   },
   "outputs": [],
   "source": [
    "training_output_path='s3://' + default_s3_bucket_name+'/'+prefix + '/training_output'\n",
    " \n",
    "from sagemaker.estimator import Estimator\n",
    "training_model = Estimator(training_image,\n",
    "                           role, \n",
    "                           instance_count=1, \n",
    "                           instance_type='ml.m5.2xlarge',\n",
    "                           volume_size = 5,\n",
    "                           max_run = 3600,\n",
    "                           input_mode= 'File',\n",
    "                           output_path=training_output_path,\n",
    "                           sagemaker_session=feature_store_session)"
   ]
  },
  {
   "cell_type": "code",
   "execution_count": 38,
   "id": "f767d1ea-b2ca-4819-a8df-76726949dd6e",
   "metadata": {
    "tags": []
   },
   "outputs": [],
   "source": [
    "training_model.set_hyperparameters(objective = \"binary:logistic\",\n",
    "                                   num_round = 50)"
   ]
  },
  {
   "cell_type": "code",
   "execution_count": 39,
   "id": "a6e02bfc-7d4a-45c7-9cb5-b3978286cabf",
   "metadata": {
    "tags": []
   },
   "outputs": [],
   "source": [
    "# Creating data channels\n",
    "train_data = sagemaker.inputs.TrainingInput(dataset_uri_prefix, distribution='FullyReplicated',\n",
    "                                            content_type='text/csv', s3_data_type='S3Prefix')\n",
    "data_channels = {'train': train_data}"
   ]
  },
  {
   "cell_type": "code",
   "execution_count": 40,
   "id": "b013d819-72d1-4b5f-85a7-7b97b5060340",
   "metadata": {
    "tags": []
   },
   "outputs": [
    {
     "name": "stdout",
     "output_type": "stream",
     "text": [
      "2022-12-02 08:52:02 Starting - Starting the training job...\n",
      "2022-12-02 08:52:26 Starting - Preparing the instances for trainingProfilerReport-1669971122: InProgress\n",
      "......\n",
      "2022-12-02 08:53:29 Downloading - Downloading input data...\n",
      "2022-12-02 08:53:49 Training - Downloading the training image...\n",
      "2022-12-02 08:54:30 Uploading - Uploading generated training model\u001b[34mINFO:sagemaker-containers:Imported framework sagemaker_xgboost_container.training\u001b[0m\n",
      "\u001b[34mINFO:sagemaker-containers:Failed to parse hyperparameter objective value binary:logistic to Json.\u001b[0m\n",
      "\u001b[34mReturning the value itself\u001b[0m\n",
      "\u001b[34mINFO:sagemaker-containers:No GPUs detected (normal if no gpus installed)\u001b[0m\n",
      "\u001b[34mINFO:sagemaker_xgboost_container.training:Running XGBoost Sagemaker in algorithm mode\u001b[0m\n",
      "\u001b[34mINFO:root:Determined delimiter of CSV input is ','\u001b[0m\n",
      "\u001b[34mINFO:root:Determined delimiter of CSV input is ','\u001b[0m\n",
      "\u001b[34m[08:54:23] 290x12 matrix with 3480 entries loaded from /opt/ml/input/data/train?format=csv&label_column=0&delimiter=,\u001b[0m\n",
      "\u001b[34mINFO:root:Single node training.\u001b[0m\n",
      "\u001b[34m[2022-12-02 08:54:23.478 ip-10-0-233-193.ec2.internal:7 INFO json_config.py:90] Creating hook from json_config at /opt/ml/input/config/debughookconfig.json.\u001b[0m\n",
      "\u001b[34m[2022-12-02 08:54:23.478 ip-10-0-233-193.ec2.internal:7 INFO hook.py:151] tensorboard_dir has not been set for the hook. SMDebug will not be exporting tensorboard summaries.\u001b[0m\n",
      "\u001b[34m[2022-12-02 08:54:23.478 ip-10-0-233-193.ec2.internal:7 INFO hook.py:196] Saving to /opt/ml/output/tensors\u001b[0m\n",
      "\u001b[34mINFO:root:Debug hook created from config\u001b[0m\n",
      "\u001b[34mINFO:root:Train matrix has 290 rows\u001b[0m\n",
      "\u001b[34m[08:54:23] WARNING: /workspace/src/learner.cc:328: \u001b[0m\n",
      "\u001b[34mParameters: { num_round } might not be used.\n",
      "  This may not be accurate due to some parameters are only used in language bindings but\n",
      "  passed down to XGBoost core.  Or some parameters are not used but slip through this\n",
      "  verification. Please open an issue if you find above cases.\u001b[0m\n",
      "\u001b[34m[0]#011train-error:0.08276\u001b[0m\n",
      "\u001b[34m[2022-12-02 08:54:23.496 ip-10-0-233-193.ec2.internal:7 INFO hook.py:325] Monitoring the collections: metrics\u001b[0m\n",
      "\u001b[34m[1]#011train-error:0.07241\u001b[0m\n",
      "\u001b[34m[2]#011train-error:0.05862\u001b[0m\n",
      "\u001b[34m[3]#011train-error:0.05862\u001b[0m\n",
      "\u001b[34m[4]#011train-error:0.04828\u001b[0m\n",
      "\u001b[34m[5]#011train-error:0.03448\u001b[0m\n",
      "\u001b[34m[6]#011train-error:0.02414\u001b[0m\n",
      "\u001b[34m[7]#011train-error:0.02759\u001b[0m\n",
      "\u001b[34m[8]#011train-error:0.02414\u001b[0m\n",
      "\u001b[34m[9]#011train-error:0.02069\u001b[0m\n",
      "\u001b[34m[10]#011train-error:0.02069\u001b[0m\n",
      "\u001b[34m[11]#011train-error:0.01724\u001b[0m\n",
      "\u001b[34m[12]#011train-error:0.01379\u001b[0m\n",
      "\u001b[34m[13]#011train-error:0.01379\u001b[0m\n",
      "\u001b[34m[14]#011train-error:0.01035\u001b[0m\n",
      "\u001b[34m[15]#011train-error:0.00345\u001b[0m\n",
      "\u001b[34m[16]#011train-error:0.00345\u001b[0m\n",
      "\u001b[34m[17]#011train-error:0.00000\u001b[0m\n",
      "\u001b[34m[18]#011train-error:0.00000\u001b[0m\n",
      "\u001b[34m[19]#011train-error:0.00000\u001b[0m\n",
      "\u001b[34m[20]#011train-error:0.00000\u001b[0m\n",
      "\u001b[34m[21]#011train-error:0.00000\u001b[0m\n",
      "\u001b[34m[22]#011train-error:0.00000\u001b[0m\n",
      "\u001b[34m[23]#011train-error:0.00000\u001b[0m\n",
      "\u001b[34m[24]#011train-error:0.00000\u001b[0m\n",
      "\u001b[34m[25]#011train-error:0.00000\u001b[0m\n",
      "\u001b[34m[26]#011train-error:0.00000\u001b[0m\n",
      "\u001b[34m[27]#011train-error:0.00000\u001b[0m\n",
      "\u001b[34m[28]#011train-error:0.00000\u001b[0m\n",
      "\u001b[34m[29]#011train-error:0.00000\u001b[0m\n",
      "\u001b[34m[30]#011train-error:0.00000\u001b[0m\n",
      "\u001b[34m[31]#011train-error:0.00000\u001b[0m\n",
      "\u001b[34m[32]#011train-error:0.00000\u001b[0m\n",
      "\u001b[34m[33]#011train-error:0.00000\u001b[0m\n",
      "\u001b[34m[34]#011train-error:0.00000\u001b[0m\n",
      "\u001b[34m[35]#011train-error:0.00000\u001b[0m\n",
      "\u001b[34m[36]#011train-error:0.00000\u001b[0m\n",
      "\u001b[34m[37]#011train-error:0.00000\u001b[0m\n",
      "\u001b[34m[38]#011train-error:0.00000\u001b[0m\n",
      "\u001b[34m[39]#011train-error:0.00000\u001b[0m\n",
      "\u001b[34m[40]#011train-error:0.00000\u001b[0m\n",
      "\u001b[34m[41]#011train-error:0.00000\u001b[0m\n",
      "\u001b[34m[42]#011train-error:0.00000\u001b[0m\n",
      "\u001b[34m[43]#011train-error:0.00000\u001b[0m\n",
      "\u001b[34m[44]#011train-error:0.00000\u001b[0m\n",
      "\u001b[34m[45]#011train-error:0.00000\u001b[0m\n",
      "\u001b[34m[46]#011train-error:0.00000\u001b[0m\n",
      "\u001b[34m[47]#011train-error:0.00000\u001b[0m\n",
      "\u001b[34m[48]#011train-error:0.00000\u001b[0m\n",
      "\u001b[34m[49]#011train-error:0.00000\u001b[0m\n",
      "\n",
      "2022-12-02 08:54:47 Completed - Training job completed\n",
      "Training seconds: 72\n",
      "Billable seconds: 72\n"
     ]
    }
   ],
   "source": [
    "training_model.fit(inputs=data_channels,logs=True)"
   ]
  },
  {
   "cell_type": "code",
   "execution_count": 41,
   "id": "11b0a9b9-2c0f-421b-92ca-2bf00ebbb809",
   "metadata": {
    "tags": []
   },
   "outputs": [],
   "source": [
    "# Setup hosting for the model\n",
    "#Afyer finishing the training we have to deploy the trained model as an amazon sagemaker real time hosted endpoints. This will allow us to make predictions (or instances) from the model."
   ]
  },
  {
   "cell_type": "code",
   "execution_count": 43,
   "id": "9e6364b8-b6d9-4b50-ae49-1ed8dffed436",
   "metadata": {
    "tags": []
   },
   "outputs": [
    {
     "name": "stdout",
     "output_type": "stream",
     "text": [
      "----!"
     ]
    }
   ],
   "source": [
    "predictor = training_model.deploy(initial_instance_count = 1, instance_type = 'ml.m5.xlarge')"
   ]
  },
  {
   "cell_type": "code",
   "execution_count": 45,
   "id": "cd70e450-8e8e-4703-9091-667eaba14358",
   "metadata": {
    "tags": []
   },
   "outputs": [
    {
     "data": {
      "text/plain": [
       "[70, 109, 130, 156, 174, 190, 191, 232, 283]"
      ]
     },
     "execution_count": 45,
     "metadata": {},
     "output_type": "execute_result"
    }
   ],
   "source": [
    "#Sagemaker Feature Store During Inference\n",
    "id_for_test"
   ]
  },
  {
   "cell_type": "code",
   "execution_count": 46,
   "id": "32b506f7-921f-4e6f-b026-208947c68192",
   "metadata": {
    "tags": []
   },
   "outputs": [],
   "source": [
    "#Testing for leftout patient\n"
   ]
  },
  {
   "cell_type": "code",
   "execution_count": 47,
   "id": "3aca6f16-d173-4846-8d74-8e34f2572954",
   "metadata": {
    "tags": []
   },
   "outputs": [
    {
     "data": {
      "text/plain": [
       "[{'FeatureName': 'patient_id', 'ValueAsString': '194'},\n",
       " {'FeatureName': 'age', 'ValueAsString': '45.0'},\n",
       " {'FeatureName': 'anaemia', 'ValueAsString': '0'},\n",
       " {'FeatureName': 'creatinine_phosphokinase', 'ValueAsString': '582'},\n",
       " {'FeatureName': 'diabetes', 'ValueAsString': '0'},\n",
       " {'FeatureName': 'ejection_fraction', 'ValueAsString': '20'},\n",
       " {'FeatureName': 'high_blood_pressure', 'ValueAsString': '1'},\n",
       " {'FeatureName': 'platelets', 'ValueAsString': '126000.0'},\n",
       " {'FeatureName': 'serum_creatinine', 'ValueAsString': '1.6'},\n",
       " {'FeatureName': 'serum_sodium', 'ValueAsString': '135'},\n",
       " {'FeatureName': 'sex', 'ValueAsString': '1'},\n",
       " {'FeatureName': 'smoking', 'ValueAsString': '0'},\n",
       " {'FeatureName': 'time', 'ValueAsString': '180'},\n",
       " {'FeatureName': 'DEATH_EVENT', 'ValueAsString': '1'},\n",
       " {'FeatureName': 'EventTime', 'ValueAsString': '1669970551.0'}]"
      ]
     },
     "execution_count": 47,
     "metadata": {},
     "output_type": "execute_result"
    }
   ],
   "source": [
    "patient_id = str(194)\n",
    " \n",
    "# Helper to parse the feature value from the record.\n",
    "def get_feature_value(record, feature_name):\n",
    "    return str(list(filter(lambda r: r['FeatureName'] == feature_name, record))[0]['ValueAsString'])\n",
    " \n",
    "clinical_response = featurestore_runtime.get_record(FeatureGroupName=clinical_feature_group_name, RecordIdentifierValueAsString=patient_id)\n",
    "clinical_record = clinical_response['Record']\n",
    "clinical_record"
   ]
  },
  {
   "cell_type": "code",
   "execution_count": 48,
   "id": "0f84fce2-e471-4e9b-85c3-e165277a5cba",
   "metadata": {
    "tags": []
   },
   "outputs": [],
   "source": [
    "inference_request = [\n",
    "    get_feature_value(clinical_record, 'age'),\n",
    "    get_feature_value(clinical_record, 'anaemia'),\n",
    "    get_feature_value(clinical_record, 'creatinine_phosphokinase'),\n",
    "    get_feature_value(clinical_record, 'diabetes'),\n",
    "    get_feature_value(clinical_record, 'ejection_fraction'),\n",
    "    get_feature_value(clinical_record, 'high_blood_pressure'),\n",
    "    get_feature_value(clinical_record, 'platelets'),\n",
    "    get_feature_value(clinical_record, 'serum_creatinine'),\n",
    "    get_feature_value(clinical_record, 'serum_sodium'),\n",
    "    get_feature_value(clinical_record, 'sex'),\n",
    "    get_feature_value(clinical_record, 'smoking'),\n",
    "    get_feature_value(clinical_record, 'time')\n",
    "]"
   ]
  },
  {
   "cell_type": "code",
   "execution_count": 49,
   "id": "b3e4ead5-e215-4240-98d4-32cce312e813",
   "metadata": {
    "tags": []
   },
   "outputs": [],
   "source": [
    "#the predictor will call pur hosted model and give a prediction result.this model predicts the probability of heart failure to patient \n"
   ]
  },
  {
   "cell_type": "code",
   "execution_count": 50,
   "id": "7e5aa232-431d-4706-8902-f3bf7f876619",
   "metadata": {
    "tags": []
   },
   "outputs": [
    {
     "name": "stdout",
     "output_type": "stream",
     "text": [
      "0.9914258718490601\n"
     ]
    }
   ],
   "source": [
    "import json\n",
    " \n",
    "results = predictor.predict(','.join(inference_request), initial_args = {\"ContentType\": \"text/csv\"})\n",
    "prediction = json.loads(results)\n",
    "print (prediction)"
   ]
  },
  {
   "cell_type": "code",
   "execution_count": 52,
   "id": "89b2a8df-2191-4c4a-be43-e5b740e01507",
   "metadata": {
    "tags": []
   },
   "outputs": [],
   "source": [
    "#CLeanup REsources\n",
    "predictor.delete_endpoint()\n",
    "clinical_feature_group.delete()"
   ]
  },
  {
   "cell_type": "code",
   "execution_count": null,
   "id": "5e80352f-244a-4a37-9b39-090744ef8604",
   "metadata": {},
   "outputs": [],
   "source": []
  }
 ],
 "metadata": {
  "instance_type": "ml.t3.medium",
  "kernelspec": {
   "display_name": "Python 3 (Data Science)",
   "language": "python",
   "name": "python3__SAGEMAKER_INTERNAL__arn:aws:sagemaker:us-east-1:081325390199:image/datascience-1.0"
  },
  "language_info": {
   "codemirror_mode": {
    "name": "ipython",
    "version": 3
   },
   "file_extension": ".py",
   "mimetype": "text/x-python",
   "name": "python",
   "nbconvert_exporter": "python",
   "pygments_lexer": "ipython3",
   "version": "3.7.10"
  }
 },
 "nbformat": 4,
 "nbformat_minor": 5
}
