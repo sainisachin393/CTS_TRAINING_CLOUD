{
 "cells": [
  {
   "cell_type": "code",
   "execution_count": 2,
   "id": "4cd55244-6c8d-4b71-91c3-121f8f896d7d",
   "metadata": {},
   "outputs": [
    {
     "name": "stdout",
     "output_type": "stream",
     "text": [
      "Collecting xgboost==0.82\n",
      "  Downloading xgboost-0.82-py2.py3-none-manylinux1_x86_64.whl (114.0 MB)\n",
      "\u001b[2K     \u001b[90m━━━━━━━━━━━━━━━━━━━━━━━━━━━━━━━━━━━━━━━\u001b[0m \u001b[32m114.0/114.0 MB\u001b[0m \u001b[31m6.9 MB/s\u001b[0m eta \u001b[36m0:00:00\u001b[0m00:01\u001b[0m00:01\u001b[0m\n",
      "\u001b[?25hRequirement already satisfied: scipy in /opt/conda/lib/python3.7/site-packages (from xgboost==0.82) (1.7.3)\n",
      "Requirement already satisfied: numpy in /opt/conda/lib/python3.7/site-packages (from xgboost==0.82) (1.21.6)\n",
      "Installing collected packages: xgboost\n",
      "  Attempting uninstall: xgboost\n",
      "    Found existing installation: xgboost 1.2.0\n",
      "    Uninstalling xgboost-1.2.0:\n",
      "      Successfully uninstalled xgboost-1.2.0\n",
      "Successfully installed xgboost-0.82\n"
     ]
    }
   ],
   "source": [
    "# Installing xgboost for our notebook instance\n",
    "!pip3 install xgboost==0.82"
   ]
  },
  {
   "cell_type": "code",
   "execution_count": 184,
   "id": "112381d2-ecf0-40ee-97ed-f5048d7515ab",
   "metadata": {},
   "outputs": [],
   "source": [
    "#importing necessary libraries\n",
    "import pandas as pd\n",
    "import xgboost as xgb\n",
    "import numpy as np\n",
    "\n",
    "from sklearn.model_selection import train_test_split\n",
    "from sklearn.utils import shuffle\n",
    "from google.cloud import bigquery"
   ]
  },
  {
   "cell_type": "code",
   "execution_count": 185,
   "id": "de4f0c24-ccdb-4506-8cc3-17b5a06c578d",
   "metadata": {},
   "outputs": [],
   "source": [
    "# BigQuery has made many datasets publicly available for your exploration. For this lab, we"
   ]
  },
  {
   "cell_type": "code",
   "execution_count": 186,
   "id": "7592d278-adf7-4ecd-aa94-794d45812fb8",
   "metadata": {},
   "outputs": [],
   "source": [
    "# We have to specify the top 100 \n",
    "query=\"\"\"\n",
    "SELECT\n",
    "  weight_pounds,\n",
    "  is_male,\n",
    "  mother_age,\n",
    "  plurality,\n",
    "  gestation_weeks\n",
    "FROM\n",
    "  publicdata.samples.natality\n",
    "WHERE year > 2000\n",
    "LIMIT 10000\n",
    "\"\"\""
   ]
  },
  {
   "cell_type": "code",
   "execution_count": 187,
   "id": "6b78b519-3e6d-4e27-977b-cc849d32f58d",
   "metadata": {},
   "outputs": [
    {
     "data": {
      "text/html": [
       "<div>\n",
       "<style scoped>\n",
       "    .dataframe tbody tr th:only-of-type {\n",
       "        vertical-align: middle;\n",
       "    }\n",
       "\n",
       "    .dataframe tbody tr th {\n",
       "        vertical-align: top;\n",
       "    }\n",
       "\n",
       "    .dataframe thead th {\n",
       "        text-align: right;\n",
       "    }\n",
       "</style>\n",
       "<table border=\"1\" class=\"dataframe\">\n",
       "  <thead>\n",
       "    <tr style=\"text-align: right;\">\n",
       "      <th></th>\n",
       "      <th>weight_pounds</th>\n",
       "      <th>is_male</th>\n",
       "      <th>mother_age</th>\n",
       "      <th>plurality</th>\n",
       "      <th>gestation_weeks</th>\n",
       "    </tr>\n",
       "  </thead>\n",
       "  <tbody>\n",
       "    <tr>\n",
       "      <th>0</th>\n",
       "      <td>7.561856</td>\n",
       "      <td>False</td>\n",
       "      <td>18</td>\n",
       "      <td>1</td>\n",
       "      <td>39</td>\n",
       "    </tr>\n",
       "    <tr>\n",
       "      <th>1</th>\n",
       "      <td>4.750962</td>\n",
       "      <td>True</td>\n",
       "      <td>22</td>\n",
       "      <td>1</td>\n",
       "      <td>40</td>\n",
       "    </tr>\n",
       "    <tr>\n",
       "      <th>2</th>\n",
       "      <td>7.374463</td>\n",
       "      <td>False</td>\n",
       "      <td>28</td>\n",
       "      <td>1</td>\n",
       "      <td>37</td>\n",
       "    </tr>\n",
       "    <tr>\n",
       "      <th>3</th>\n",
       "      <td>7.813183</td>\n",
       "      <td>False</td>\n",
       "      <td>31</td>\n",
       "      <td>1</td>\n",
       "      <td>41</td>\n",
       "    </tr>\n",
       "    <tr>\n",
       "      <th>4</th>\n",
       "      <td>3.688334</td>\n",
       "      <td>False</td>\n",
       "      <td>29</td>\n",
       "      <td>2</td>\n",
       "      <td>35</td>\n",
       "    </tr>\n",
       "  </tbody>\n",
       "</table>\n",
       "</div>"
      ],
      "text/plain": [
       "   weight_pounds  is_male  mother_age  plurality  gestation_weeks\n",
       "0       7.561856    False          18          1               39\n",
       "1       4.750962     True          22          1               40\n",
       "2       7.374463    False          28          1               37\n",
       "3       7.813183    False          31          1               41\n",
       "4       3.688334    False          29          2               35"
      ]
     },
     "execution_count": 187,
     "metadata": {},
     "output_type": "execute_result"
    }
   ],
   "source": [
    "df = bigquery.Client().query(query).to_dataframe()\n",
    "df.head()"
   ]
  },
  {
   "cell_type": "code",
   "execution_count": 188,
   "id": "ad03f6a5-513d-4947-a7d9-e93d0a180757",
   "metadata": {},
   "outputs": [
    {
     "data": {
      "text/plain": [
       "True     5152\n",
       "False    4848\n",
       "Name: is_male, dtype: Int64"
      ]
     },
     "execution_count": 188,
     "metadata": {},
     "output_type": "execute_result"
    }
   ],
   "source": [
    "df['is_male'].value_counts()"
   ]
  },
  {
   "cell_type": "code",
   "execution_count": 189,
   "id": "d5155fd8-2390-4bee-bf4a-8cffac459bea",
   "metadata": {},
   "outputs": [
    {
     "data": {
      "text/plain": [
       "weight_pounds       7\n",
       "is_male             0\n",
       "mother_age          0\n",
       "plurality           0\n",
       "gestation_weeks    72\n",
       "dtype: int64"
      ]
     },
     "execution_count": 189,
     "metadata": {},
     "output_type": "execute_result"
    }
   ],
   "source": [
    "df.isnull().sum() #checking null values"
   ]
  },
  {
   "cell_type": "code",
   "execution_count": 190,
   "id": "13eabcea-5fb3-45ae-bbd5-3625f2e36915",
   "metadata": {},
   "outputs": [],
   "source": [
    "df = df.dropna(axis=0) #dropping all null values"
   ]
  },
  {
   "cell_type": "code",
   "execution_count": 191,
   "id": "089f3f68-d94d-4efe-8443-28a72c8ebaa4",
   "metadata": {},
   "outputs": [
    {
     "data": {
      "text/plain": [
       "weight_pounds      0\n",
       "is_male            0\n",
       "mother_age         0\n",
       "plurality          0\n",
       "gestation_weeks    0\n",
       "dtype: int64"
      ]
     },
     "execution_count": 191,
     "metadata": {},
     "output_type": "execute_result"
    }
   ],
   "source": [
    "df.isnull().sum() #checking the null values after dropping the null values"
   ]
  },
  {
   "cell_type": "code",
   "execution_count": 192,
   "id": "48708efc-8d3b-4782-862a-2a53a5709c07",
   "metadata": {},
   "outputs": [
    {
     "data": {
      "text/html": [
       "<div>\n",
       "<style scoped>\n",
       "    .dataframe tbody tr th:only-of-type {\n",
       "        vertical-align: middle;\n",
       "    }\n",
       "\n",
       "    .dataframe tbody tr th {\n",
       "        vertical-align: top;\n",
       "    }\n",
       "\n",
       "    .dataframe thead th {\n",
       "        text-align: right;\n",
       "    }\n",
       "</style>\n",
       "<table border=\"1\" class=\"dataframe\">\n",
       "  <thead>\n",
       "    <tr style=\"text-align: right;\">\n",
       "      <th></th>\n",
       "      <th>weight_pounds</th>\n",
       "      <th>is_male</th>\n",
       "      <th>mother_age</th>\n",
       "      <th>plurality</th>\n",
       "      <th>gestation_weeks</th>\n",
       "    </tr>\n",
       "  </thead>\n",
       "  <tbody>\n",
       "    <tr>\n",
       "      <th>0</th>\n",
       "      <td>7.561856</td>\n",
       "      <td>False</td>\n",
       "      <td>18</td>\n",
       "      <td>1</td>\n",
       "      <td>39</td>\n",
       "    </tr>\n",
       "    <tr>\n",
       "      <th>1</th>\n",
       "      <td>4.750962</td>\n",
       "      <td>True</td>\n",
       "      <td>22</td>\n",
       "      <td>1</td>\n",
       "      <td>40</td>\n",
       "    </tr>\n",
       "    <tr>\n",
       "      <th>2</th>\n",
       "      <td>7.374463</td>\n",
       "      <td>False</td>\n",
       "      <td>28</td>\n",
       "      <td>1</td>\n",
       "      <td>37</td>\n",
       "    </tr>\n",
       "    <tr>\n",
       "      <th>3</th>\n",
       "      <td>7.813183</td>\n",
       "      <td>False</td>\n",
       "      <td>31</td>\n",
       "      <td>1</td>\n",
       "      <td>41</td>\n",
       "    </tr>\n",
       "    <tr>\n",
       "      <th>4</th>\n",
       "      <td>3.688334</td>\n",
       "      <td>False</td>\n",
       "      <td>29</td>\n",
       "      <td>2</td>\n",
       "      <td>35</td>\n",
       "    </tr>\n",
       "  </tbody>\n",
       "</table>\n",
       "</div>"
      ],
      "text/plain": [
       "   weight_pounds  is_male  mother_age  plurality  gestation_weeks\n",
       "0       7.561856    False          18          1               39\n",
       "1       4.750962     True          22          1               40\n",
       "2       7.374463    False          28          1               37\n",
       "3       7.813183    False          31          1               41\n",
       "4       3.688334    False          29          2               35"
      ]
     },
     "execution_count": 192,
     "metadata": {},
     "output_type": "execute_result"
    }
   ],
   "source": [
    "df.head() #top most rows"
   ]
  },
  {
   "cell_type": "code",
   "execution_count": 193,
   "id": "6db21671-f9de-475a-a7ab-ee3557981edb",
   "metadata": {},
   "outputs": [],
   "source": [
    "# Shuffle the data\n",
    "df = shuffle(df,random_state = 42)"
   ]
  },
  {
   "cell_type": "code",
   "execution_count": 194,
   "id": "369cac51-f482-4e33-9fca-3b03b4d826f9",
   "metadata": {},
   "outputs": [
    {
     "data": {
      "text/html": [
       "<div>\n",
       "<style scoped>\n",
       "    .dataframe tbody tr th:only-of-type {\n",
       "        vertical-align: middle;\n",
       "    }\n",
       "\n",
       "    .dataframe tbody tr th {\n",
       "        vertical-align: top;\n",
       "    }\n",
       "\n",
       "    .dataframe thead th {\n",
       "        text-align: right;\n",
       "    }\n",
       "</style>\n",
       "<table border=\"1\" class=\"dataframe\">\n",
       "  <thead>\n",
       "    <tr style=\"text-align: right;\">\n",
       "      <th></th>\n",
       "      <th>weight_pounds</th>\n",
       "      <th>is_male</th>\n",
       "      <th>mother_age</th>\n",
       "      <th>plurality</th>\n",
       "      <th>gestation_weeks</th>\n",
       "    </tr>\n",
       "  </thead>\n",
       "  <tbody>\n",
       "    <tr>\n",
       "      <th>5309</th>\n",
       "      <td>7.813183</td>\n",
       "      <td>True</td>\n",
       "      <td>34</td>\n",
       "      <td>1</td>\n",
       "      <td>39</td>\n",
       "    </tr>\n",
       "    <tr>\n",
       "      <th>514</th>\n",
       "      <td>7.828615</td>\n",
       "      <td>False</td>\n",
       "      <td>35</td>\n",
       "      <td>1</td>\n",
       "      <td>39</td>\n",
       "    </tr>\n",
       "    <tr>\n",
       "      <th>4359</th>\n",
       "      <td>7.716179</td>\n",
       "      <td>False</td>\n",
       "      <td>24</td>\n",
       "      <td>1</td>\n",
       "      <td>38</td>\n",
       "    </tr>\n",
       "    <tr>\n",
       "      <th>8445</th>\n",
       "      <td>6.311835</td>\n",
       "      <td>True</td>\n",
       "      <td>23</td>\n",
       "      <td>1</td>\n",
       "      <td>39</td>\n",
       "    </tr>\n",
       "    <tr>\n",
       "      <th>9104</th>\n",
       "      <td>4.373971</td>\n",
       "      <td>False</td>\n",
       "      <td>37</td>\n",
       "      <td>3</td>\n",
       "      <td>34</td>\n",
       "    </tr>\n",
       "  </tbody>\n",
       "</table>\n",
       "</div>"
      ],
      "text/plain": [
       "      weight_pounds  is_male  mother_age  plurality  gestation_weeks\n",
       "5309       7.813183     True          34          1               39\n",
       "514        7.828615    False          35          1               39\n",
       "4359       7.716179    False          24          1               38\n",
       "8445       6.311835     True          23          1               39\n",
       "9104       4.373971    False          37          3               34"
      ]
     },
     "execution_count": 194,
     "metadata": {},
     "output_type": "execute_result"
    }
   ],
   "source": [
    "df.head()"
   ]
  },
  {
   "cell_type": "code",
   "execution_count": 141,
   "id": "ab1950c5-5583-4966-ae3d-69942d2e3651",
   "metadata": {},
   "outputs": [],
   "source": [
    "#--------------------------"
   ]
  },
  {
   "cell_type": "code",
   "execution_count": 90,
   "id": "03860bb6-6cc9-4ac4-bb22-f2e1258dbc89",
   "metadata": {},
   "outputs": [],
   "source": [
    "# query1=\"\"\"\n",
    "# SELECT\n",
    "#   count(plurality),\n",
    "# FROM\n",
    "#   publicdata.samples.natality\n",
    "#   WHERE year >2000\n",
    "# \"\"\""
   ]
  },
  {
   "cell_type": "code",
   "execution_count": 91,
   "id": "26fda989-a8eb-4a3f-a86a-143548bd62ca",
   "metadata": {},
   "outputs": [
    {
     "data": {
      "text/html": [
       "<div>\n",
       "<style scoped>\n",
       "    .dataframe tbody tr th:only-of-type {\n",
       "        vertical-align: middle;\n",
       "    }\n",
       "\n",
       "    .dataframe tbody tr th {\n",
       "        vertical-align: top;\n",
       "    }\n",
       "\n",
       "    .dataframe thead th {\n",
       "        text-align: right;\n",
       "    }\n",
       "</style>\n",
       "<table border=\"1\" class=\"dataframe\">\n",
       "  <thead>\n",
       "    <tr style=\"text-align: right;\">\n",
       "      <th></th>\n",
       "      <th>f0_</th>\n",
       "    </tr>\n",
       "  </thead>\n",
       "  <tbody>\n",
       "    <tr>\n",
       "      <th>0</th>\n",
       "      <td>33271914</td>\n",
       "    </tr>\n",
       "  </tbody>\n",
       "</table>\n",
       "</div>"
      ],
      "text/plain": [
       "        f0_\n",
       "0  33271914"
      ]
     },
     "execution_count": 91,
     "metadata": {},
     "output_type": "execute_result"
    }
   ],
   "source": [
    "# df = bigquery.Client().query(query1).to_dataframe()\n",
    "# df.head()"
   ]
  },
  {
   "cell_type": "code",
   "execution_count": 98,
   "id": "b190ae4d-8182-4342-ad46-d160ea68bc6b",
   "metadata": {},
   "outputs": [],
   "source": [
    "# query2=\"\"\"\n",
    "# SELECT\n",
    "#   count(plurality),\n",
    "# FROM\n",
    "#   publicdata.samples.natality\n",
    "#   WHERE year = 2000\n",
    "# \"\"\""
   ]
  },
  {
   "cell_type": "code",
   "execution_count": 99,
   "id": "74fc5cef-6a41-4974-98c4-c96bdab4ae18",
   "metadata": {},
   "outputs": [
    {
     "data": {
      "text/html": [
       "<div>\n",
       "<style scoped>\n",
       "    .dataframe tbody tr th:only-of-type {\n",
       "        vertical-align: middle;\n",
       "    }\n",
       "\n",
       "    .dataframe tbody tr th {\n",
       "        vertical-align: top;\n",
       "    }\n",
       "\n",
       "    .dataframe thead th {\n",
       "        text-align: right;\n",
       "    }\n",
       "</style>\n",
       "<table border=\"1\" class=\"dataframe\">\n",
       "  <thead>\n",
       "    <tr style=\"text-align: right;\">\n",
       "      <th></th>\n",
       "      <th>f0_</th>\n",
       "    </tr>\n",
       "  </thead>\n",
       "  <tbody>\n",
       "    <tr>\n",
       "      <th>0</th>\n",
       "      <td>4063823</td>\n",
       "    </tr>\n",
       "  </tbody>\n",
       "</table>\n",
       "</div>"
      ],
      "text/plain": [
       "       f0_\n",
       "0  4063823"
      ]
     },
     "execution_count": 99,
     "metadata": {},
     "output_type": "execute_result"
    }
   ],
   "source": [
    "# df = bigquery.Client().query(query2).to_dataframe()"
   ]
  },
  {
   "cell_type": "code",
   "execution_count": 100,
   "id": "6ce59f88-50fc-4004-a4ea-e55ceb144d8e",
   "metadata": {},
   "outputs": [
    {
     "data": {
      "text/html": [
       "<div>\n",
       "<style scoped>\n",
       "    .dataframe tbody tr th:only-of-type {\n",
       "        vertical-align: middle;\n",
       "    }\n",
       "\n",
       "    .dataframe tbody tr th {\n",
       "        vertical-align: top;\n",
       "    }\n",
       "\n",
       "    .dataframe thead th {\n",
       "        text-align: right;\n",
       "    }\n",
       "</style>\n",
       "<table border=\"1\" class=\"dataframe\">\n",
       "  <thead>\n",
       "    <tr style=\"text-align: right;\">\n",
       "      <th></th>\n",
       "      <th>f0_</th>\n",
       "    </tr>\n",
       "  </thead>\n",
       "  <tbody>\n",
       "    <tr>\n",
       "      <th>0</th>\n",
       "      <td>4063823</td>\n",
       "    </tr>\n",
       "  </tbody>\n",
       "</table>\n",
       "</div>"
      ],
      "text/plain": [
       "       f0_\n",
       "0  4063823"
      ]
     },
     "execution_count": 100,
     "metadata": {},
     "output_type": "execute_result"
    }
   ],
   "source": [
    "# df"
   ]
  },
  {
   "cell_type": "code",
   "execution_count": null,
   "id": "dfd45e36-389b-4efc-9e86-2158268cb408",
   "metadata": {},
   "outputs": [],
   "source": [
    "#----------------------"
   ]
  },
  {
   "cell_type": "code",
   "execution_count": 229,
   "id": "141e2323-c889-48bc-94a6-5b97453fb51e",
   "metadata": {},
   "outputs": [],
   "source": [
    "labels = df['weight_pounds'] #defining the labels\n",
    "data = df.drop(columns = ['weight_pounds'],axis = 1) #dropping the column"
   ]
  },
  {
   "cell_type": "code",
   "execution_count": 230,
   "id": "a98aa7d1-e420-474c-a51a-1b74b34c391c",
   "metadata": {},
   "outputs": [
    {
     "data": {
      "text/html": [
       "<div>\n",
       "<style scoped>\n",
       "    .dataframe tbody tr th:only-of-type {\n",
       "        vertical-align: middle;\n",
       "    }\n",
       "\n",
       "    .dataframe tbody tr th {\n",
       "        vertical-align: top;\n",
       "    }\n",
       "\n",
       "    .dataframe thead th {\n",
       "        text-align: right;\n",
       "    }\n",
       "</style>\n",
       "<table border=\"1\" class=\"dataframe\">\n",
       "  <thead>\n",
       "    <tr style=\"text-align: right;\">\n",
       "      <th></th>\n",
       "      <th>is_male</th>\n",
       "      <th>mother_age</th>\n",
       "      <th>plurality</th>\n",
       "      <th>gestation_weeks</th>\n",
       "    </tr>\n",
       "  </thead>\n",
       "  <tbody>\n",
       "    <tr>\n",
       "      <th>5309</th>\n",
       "      <td>True</td>\n",
       "      <td>34</td>\n",
       "      <td>1</td>\n",
       "      <td>39</td>\n",
       "    </tr>\n",
       "    <tr>\n",
       "      <th>514</th>\n",
       "      <td>False</td>\n",
       "      <td>35</td>\n",
       "      <td>1</td>\n",
       "      <td>39</td>\n",
       "    </tr>\n",
       "    <tr>\n",
       "      <th>4359</th>\n",
       "      <td>False</td>\n",
       "      <td>24</td>\n",
       "      <td>1</td>\n",
       "      <td>38</td>\n",
       "    </tr>\n",
       "    <tr>\n",
       "      <th>8445</th>\n",
       "      <td>True</td>\n",
       "      <td>23</td>\n",
       "      <td>1</td>\n",
       "      <td>39</td>\n",
       "    </tr>\n",
       "    <tr>\n",
       "      <th>9104</th>\n",
       "      <td>False</td>\n",
       "      <td>37</td>\n",
       "      <td>3</td>\n",
       "      <td>34</td>\n",
       "    </tr>\n",
       "  </tbody>\n",
       "</table>\n",
       "</div>"
      ],
      "text/plain": [
       "      is_male  mother_age  plurality  gestation_weeks\n",
       "5309     True          34          1               39\n",
       "514     False          35          1               39\n",
       "4359    False          24          1               38\n",
       "8445     True          23          1               39\n",
       "9104    False          37          3               34"
      ]
     },
     "execution_count": 230,
     "metadata": {},
     "output_type": "execute_result"
    }
   ],
   "source": [
    "data.head()"
   ]
  },
  {
   "cell_type": "code",
   "execution_count": 231,
   "id": "c19c3678-6e54-4cba-b25f-a50602e4317f",
   "metadata": {},
   "outputs": [],
   "source": [
    "#changing the datatype\n",
    "data['is_male'] = data['is_male'].astype(float)\n",
    "data['mother_age'] = data['mother_age'].astype(float)\n",
    "data['plurality'] = data['plurality'].astype(float)\n",
    "data['gestation_weeks'] = data['gestation_weeks'].astype(float)"
   ]
  },
  {
   "cell_type": "code",
   "execution_count": 232,
   "id": "f183c370-acf9-4b7d-abff-be91c84516e6",
   "metadata": {},
   "outputs": [
    {
     "data": {
      "text/html": [
       "<div>\n",
       "<style scoped>\n",
       "    .dataframe tbody tr th:only-of-type {\n",
       "        vertical-align: middle;\n",
       "    }\n",
       "\n",
       "    .dataframe tbody tr th {\n",
       "        vertical-align: top;\n",
       "    }\n",
       "\n",
       "    .dataframe thead th {\n",
       "        text-align: right;\n",
       "    }\n",
       "</style>\n",
       "<table border=\"1\" class=\"dataframe\">\n",
       "  <thead>\n",
       "    <tr style=\"text-align: right;\">\n",
       "      <th></th>\n",
       "      <th>is_male</th>\n",
       "      <th>mother_age</th>\n",
       "      <th>plurality</th>\n",
       "      <th>gestation_weeks</th>\n",
       "    </tr>\n",
       "  </thead>\n",
       "  <tbody>\n",
       "    <tr>\n",
       "      <th>5309</th>\n",
       "      <td>1.0</td>\n",
       "      <td>34.0</td>\n",
       "      <td>1.0</td>\n",
       "      <td>39.0</td>\n",
       "    </tr>\n",
       "    <tr>\n",
       "      <th>514</th>\n",
       "      <td>0.0</td>\n",
       "      <td>35.0</td>\n",
       "      <td>1.0</td>\n",
       "      <td>39.0</td>\n",
       "    </tr>\n",
       "    <tr>\n",
       "      <th>4359</th>\n",
       "      <td>0.0</td>\n",
       "      <td>24.0</td>\n",
       "      <td>1.0</td>\n",
       "      <td>38.0</td>\n",
       "    </tr>\n",
       "    <tr>\n",
       "      <th>8445</th>\n",
       "      <td>1.0</td>\n",
       "      <td>23.0</td>\n",
       "      <td>1.0</td>\n",
       "      <td>39.0</td>\n",
       "    </tr>\n",
       "    <tr>\n",
       "      <th>9104</th>\n",
       "      <td>0.0</td>\n",
       "      <td>37.0</td>\n",
       "      <td>3.0</td>\n",
       "      <td>34.0</td>\n",
       "    </tr>\n",
       "  </tbody>\n",
       "</table>\n",
       "</div>"
      ],
      "text/plain": [
       "      is_male  mother_age  plurality  gestation_weeks\n",
       "5309      1.0        34.0        1.0             39.0\n",
       "514       0.0        35.0        1.0             39.0\n",
       "4359      0.0        24.0        1.0             38.0\n",
       "8445      1.0        23.0        1.0             39.0\n",
       "9104      0.0        37.0        3.0             34.0"
      ]
     },
     "execution_count": 232,
     "metadata": {},
     "output_type": "execute_result"
    }
   ],
   "source": [
    "data.head()"
   ]
  },
  {
   "cell_type": "code",
   "execution_count": 246,
   "id": "7cdca602-f8ee-4568-8ff4-e3a7cfeb2c8c",
   "metadata": {},
   "outputs": [
    {
     "data": {
      "text/plain": [
       "is_male            0\n",
       "mother_age         0\n",
       "plurality          0\n",
       "gestation_weeks    0\n",
       "dtype: int64"
      ]
     },
     "execution_count": 246,
     "metadata": {},
     "output_type": "execute_result"
    }
   ],
   "source": [
    "data.isnull().sum()"
   ]
  },
  {
   "cell_type": "code",
   "execution_count": 234,
   "id": "a08a9c60-adb2-44ea-b3ff-6ee9eba77429",
   "metadata": {},
   "outputs": [],
   "source": [
    "#splitting the dataset\n",
    "x,y =data,labels\n",
    "x_train,x_test,y_train,y_test = train_test_split(x,y)"
   ]
  },
  {
   "cell_type": "code",
   "execution_count": 235,
   "id": "abf187e9-a3d5-42ab-a9ab-040448a819f7",
   "metadata": {},
   "outputs": [],
   "source": [
    "model = xgb.XGBRegressor(objective = 'reg:linear') #Making the model"
   ]
  },
  {
   "cell_type": "code",
   "execution_count": 236,
   "id": "13efc763-4964-4212-9291-78111b6d6cfb",
   "metadata": {},
   "outputs": [
    {
     "data": {
      "text/plain": [
       "XGBRegressor()"
      ]
     },
     "execution_count": 236,
     "metadata": {},
     "output_type": "execute_result"
    }
   ],
   "source": [
    "model.fit(x_train,y_train) #fitting the model"
   ]
  },
  {
   "cell_type": "code",
   "execution_count": 250,
   "id": "93d06e04-9121-47a9-8ac1-dda3f757816f",
   "metadata": {},
   "outputs": [],
   "source": [
    "y_pred = model.predict(x_test) #predicting the value for test test"
   ]
  },
  {
   "cell_type": "code",
   "execution_count": 251,
   "id": "9cefaf94-92c0-435e-87bd-caf3b608c05e",
   "metadata": {},
   "outputs": [
    {
     "data": {
      "text/plain": [
       "0.39298018764605847"
      ]
     },
     "execution_count": 251,
     "metadata": {},
     "output_type": "execute_result"
    }
   ],
   "source": [
    "#finding the loss\n",
    "from sklearn.metrics import r2_score\n",
    "r2_score(y_test,pred)"
   ]
  },
  {
   "cell_type": "code",
   "execution_count": 252,
   "id": "703fec70-7ac8-4fc0-8c5c-82476d534a10",
   "metadata": {},
   "outputs": [
    {
     "name": "stdout",
     "output_type": "stream",
     "text": [
      "Predicted weight:  7.4452763\n",
      "Actual weight:  7.936641432\n",
      "\n",
      "Predicted weight:  7.4733458\n",
      "Actual weight:  6.4992274837599995\n",
      "\n",
      "Predicted weight:  7.5529876\n",
      "Actual weight:  7.25761766504\n",
      "\n",
      "Predicted weight:  7.4503307\n",
      "Actual weight:  6.1244416383599996\n",
      "\n",
      "Predicted weight:  7.453843\n",
      "Actual weight:  8.2342654857\n",
      "\n",
      "Predicted weight:  7.18921\n",
      "Actual weight:  6.9996768185\n",
      "\n",
      "Predicted weight:  7.5006804\n",
      "Actual weight:  7.89695822484\n",
      "\n",
      "Predicted weight:  7.2753935\n",
      "Actual weight:  6.8122838958\n",
      "\n",
      "Predicted weight:  7.7400694\n",
      "Actual weight:  8.000575487979999\n",
      "\n",
      "Predicted weight:  7.4503307\n",
      "Actual weight:  7.24879917456\n",
      "\n",
      "Predicted weight:  7.6954613\n",
      "Actual weight:  9.25059651352\n",
      "\n",
      "Predicted weight:  7.5742545\n",
      "Actual weight:  8.16151293924\n",
      "\n",
      "Predicted weight:  7.661717\n",
      "Actual weight:  8.81849048\n",
      "\n",
      "Predicted weight:  7.5742545\n",
      "Actual weight:  10.56234697242\n",
      "\n",
      "Predicted weight:  7.453843\n",
      "Actual weight:  7.6500404913999995\n",
      "\n",
      "Predicted weight:  7.462534\n",
      "Actual weight:  8.6972362359\n",
      "\n",
      "Predicted weight:  7.293844\n",
      "Actual weight:  7.1870697412\n",
      "\n",
      "Predicted weight:  7.2224994\n",
      "Actual weight:  8.18796841068\n",
      "\n",
      "Predicted weight:  7.401439\n",
      "Actual weight:  8.313631900019999\n",
      "\n",
      "Predicted weight:  7.243012\n",
      "Actual weight:  5.62399230362\n",
      "\n"
     ]
    }
   ],
   "source": [
    "for i in range(20):\n",
    "    print('Predicted weight: ', y_pred[i])\n",
    "    print('Actual weight: ', y_test.iloc[i])\n",
    "    print()"
   ]
  },
  {
   "cell_type": "code",
   "execution_count": 253,
   "id": "260570b0-f6f7-4105-984c-c6a121acf1ae",
   "metadata": {},
   "outputs": [],
   "source": [
    "model.save_model('sachin.bst')  #saving the model"
   ]
  },
  {
   "cell_type": "code",
   "execution_count": 254,
   "id": "7c02f66d-b4ed-44b0-a84f-ba163f3caf5d",
   "metadata": {},
   "outputs": [],
   "source": [
    "# # Deployment\n",
    "# Step 1: Create a Cloud Storage bucket for our model."
   ]
  },
  {
   "cell_type": "code",
   "execution_count": 270,
   "id": "64c16794-b962-4441-afd2-5a77dba0696a",
   "metadata": {},
   "outputs": [],
   "source": [
    "# Update these to your own GCP project, model, and version names\n",
    "GCP_PROJECT = 'My first Project'\n",
    "MODEL_BUCKET = 'gs://sachin-buckets'\n",
    "VERSION_NAME = 'v1'\n",
    "MODEL_NAME = 'sachin-model'"
   ]
  },
  {
   "cell_type": "code",
   "execution_count": 271,
   "id": "a5157645-73b0-48ac-a86d-ba04e2cc486c",
   "metadata": {},
   "outputs": [
    {
     "name": "stderr",
     "output_type": "stream",
     "text": [
      "6577.37s - pydevd: Sending message related to process being replaced timed-out after 5 seconds\n"
     ]
    },
    {
     "name": "stdout",
     "output_type": "stream",
     "text": [
      "Creating gs://jose-buckets/...\n",
      "ServiceException: 409 A Cloud Storage bucket named 'jose-buckets' already exists. Try another name. Bucket names must be globally unique across all Google Cloud projects, including those outside of your organization.\n"
     ]
    }
   ],
   "source": [
    "!gsutil mb $MODEL_BUCKET"
   ]
  },
  {
   "cell_type": "code",
   "execution_count": 275,
   "id": "34cb3d3e-68ec-46d2-b2d9-af78512a039c",
   "metadata": {},
   "outputs": [
    {
     "name": "stderr",
     "output_type": "stream",
     "text": [
      "6938.65s - pydevd: Sending message related to process being replaced timed-out after 5 seconds\n"
     ]
    },
    {
     "name": "stdout",
     "output_type": "stream",
     "text": [
      "Copying file://./jose_model.bst [Content-Type=application/octet-stream]...\n",
      "/ [1 files][ 64.4 KiB/ 64.4 KiB]                                                \n",
      "Operation completed over 1 objects/64.4 KiB.                                     \n"
     ]
    }
   ],
   "source": [
    "!gsutil cp ./sachin_model.bst $MODEL_BUCKET"
   ]
  },
  {
   "cell_type": "code",
   "execution_count": null,
   "id": "7653b129-d536-4568-8ad2-adafae75d6cb",
   "metadata": {},
   "outputs": [],
   "source": []
  }
 ],
 "metadata": {
  "kernelspec": {
   "display_name": "Python 3 (ipykernel)",
   "language": "python",
   "name": "python3"
  },
  "language_info": {
   "codemirror_mode": {
    "name": "ipython",
    "version": 3
   },
   "file_extension": ".py",
   "mimetype": "text/x-python",
   "name": "python",
   "nbconvert_exporter": "python",
   "pygments_lexer": "ipython3",
   "version": "3.9.12"
  }
 },
 "nbformat": 4,
 "nbformat_minor": 5
}
